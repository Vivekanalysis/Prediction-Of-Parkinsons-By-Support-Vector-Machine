{
 "cells": [
  {
   "cell_type": "code",
   "execution_count": 62,
   "id": "a91da6da-01f6-4eb9-a42a-08a8205b5774",
   "metadata": {},
   "outputs": [],
   "source": [
    "import pandas as pd\n",
    "import numpy as np\n",
    "import seaborn as sns\n",
    "#ML models\n",
    "from sklearn.linear_model import LinearRegression, Lasso, Ridge\n",
    "from sklearn.tree import DecisionTreeRegressor\n",
    "from sklearn.svm import SVR\n",
    "from sklearn.neighbors import KNeighborsRegressor\n",
    "from sklearn.ensemble import RandomForestRegressor, AdaBoostRegressor, GradientBoostingRegressor\n",
    "#Model Selection Libraries\n",
    "from sklearn.model_selection import train_test_split, cross_val_score, GridSearchCV, learning_curve\n",
    "#Model evaluation Libraries\n",
    "from sklearn.metrics import r2_score,accuracy_score, mean_squared_error\n",
    "#Warning filter library\n",
    "import warnings\n",
    "warnings.filterwarnings('ignore')\n",
    "import matplotlib.pyplot as plt\n",
    "import seaborn as sns\n",
    "from sklearn.model_selection import cross_val_score\n",
    "from sklearn.model_selection import KFold\n",
    "from sklearn.linear_model import LogisticRegression\n",
    "from sklearn.neighbors import KNeighborsClassifier\n",
    "from sklearn.tree import DecisionTreeClassifier\n",
    "from sklearn.ensemble import RandomForestClassifier\n",
    "from sklearn import metrics\n",
    "from sklearn.metrics import classification_report, confusion_matrix\n",
    "from sklearn.svm import SVC\n",
    "import xgboost as xgb\n",
    "from sklearn.ensemble import AdaBoostClassifier\n",
    "from sklearn.model_selection import train_test_split\n",
    "from sklearn.preprocessing import StandardScaler\n",
    "from sklearn import svm\n",
    "from sklearn.metrics import accuracy_score\n"
   ]
  },
  {
   "cell_type": "code",
   "execution_count": 3,
   "id": "bf443abe-0b92-4a4f-b79e-812eba45ea23",
   "metadata": {},
   "outputs": [],
   "source": [
    "parkinsons=pd.read_csv('parkinsons.csv')"
   ]
  },
  {
   "cell_type": "code",
   "execution_count": 5,
   "id": "1c96596d-b6e5-4d53-ac90-09a390fdce34",
   "metadata": {},
   "outputs": [
    {
     "data": {
      "text/html": [
       "<div>\n",
       "<style scoped>\n",
       "    .dataframe tbody tr th:only-of-type {\n",
       "        vertical-align: middle;\n",
       "    }\n",
       "\n",
       "    .dataframe tbody tr th {\n",
       "        vertical-align: top;\n",
       "    }\n",
       "\n",
       "    .dataframe thead th {\n",
       "        text-align: right;\n",
       "    }\n",
       "</style>\n",
       "<table border=\"1\" class=\"dataframe\">\n",
       "  <thead>\n",
       "    <tr style=\"text-align: right;\">\n",
       "      <th></th>\n",
       "      <th>name</th>\n",
       "      <th>MDVP:Fo(Hz)</th>\n",
       "      <th>MDVP:Fhi(Hz)</th>\n",
       "      <th>MDVP:Flo(Hz)</th>\n",
       "      <th>MDVP:Jitter(%)</th>\n",
       "      <th>MDVP:Jitter(Abs)</th>\n",
       "      <th>MDVP:RAP</th>\n",
       "      <th>MDVP:PPQ</th>\n",
       "      <th>Jitter:DDP</th>\n",
       "      <th>MDVP:Shimmer</th>\n",
       "      <th>...</th>\n",
       "      <th>Shimmer:DDA</th>\n",
       "      <th>NHR</th>\n",
       "      <th>HNR</th>\n",
       "      <th>status</th>\n",
       "      <th>RPDE</th>\n",
       "      <th>DFA</th>\n",
       "      <th>spread1</th>\n",
       "      <th>spread2</th>\n",
       "      <th>D2</th>\n",
       "      <th>PPE</th>\n",
       "    </tr>\n",
       "  </thead>\n",
       "  <tbody>\n",
       "    <tr>\n",
       "      <th>0</th>\n",
       "      <td>phon_R01_S01_1</td>\n",
       "      <td>119.992</td>\n",
       "      <td>157.302</td>\n",
       "      <td>74.997</td>\n",
       "      <td>0.00784</td>\n",
       "      <td>0.00007</td>\n",
       "      <td>0.00370</td>\n",
       "      <td>0.00554</td>\n",
       "      <td>0.01109</td>\n",
       "      <td>0.04374</td>\n",
       "      <td>...</td>\n",
       "      <td>0.06545</td>\n",
       "      <td>0.02211</td>\n",
       "      <td>21.033</td>\n",
       "      <td>1</td>\n",
       "      <td>0.414783</td>\n",
       "      <td>0.815285</td>\n",
       "      <td>-4.813031</td>\n",
       "      <td>0.266482</td>\n",
       "      <td>2.301442</td>\n",
       "      <td>0.284654</td>\n",
       "    </tr>\n",
       "    <tr>\n",
       "      <th>1</th>\n",
       "      <td>phon_R01_S01_2</td>\n",
       "      <td>122.400</td>\n",
       "      <td>148.650</td>\n",
       "      <td>113.819</td>\n",
       "      <td>0.00968</td>\n",
       "      <td>0.00008</td>\n",
       "      <td>0.00465</td>\n",
       "      <td>0.00696</td>\n",
       "      <td>0.01394</td>\n",
       "      <td>0.06134</td>\n",
       "      <td>...</td>\n",
       "      <td>0.09403</td>\n",
       "      <td>0.01929</td>\n",
       "      <td>19.085</td>\n",
       "      <td>1</td>\n",
       "      <td>0.458359</td>\n",
       "      <td>0.819521</td>\n",
       "      <td>-4.075192</td>\n",
       "      <td>0.335590</td>\n",
       "      <td>2.486855</td>\n",
       "      <td>0.368674</td>\n",
       "    </tr>\n",
       "    <tr>\n",
       "      <th>2</th>\n",
       "      <td>phon_R01_S01_3</td>\n",
       "      <td>116.682</td>\n",
       "      <td>131.111</td>\n",
       "      <td>111.555</td>\n",
       "      <td>0.01050</td>\n",
       "      <td>0.00009</td>\n",
       "      <td>0.00544</td>\n",
       "      <td>0.00781</td>\n",
       "      <td>0.01633</td>\n",
       "      <td>0.05233</td>\n",
       "      <td>...</td>\n",
       "      <td>0.08270</td>\n",
       "      <td>0.01309</td>\n",
       "      <td>20.651</td>\n",
       "      <td>1</td>\n",
       "      <td>0.429895</td>\n",
       "      <td>0.825288</td>\n",
       "      <td>-4.443179</td>\n",
       "      <td>0.311173</td>\n",
       "      <td>2.342259</td>\n",
       "      <td>0.332634</td>\n",
       "    </tr>\n",
       "    <tr>\n",
       "      <th>3</th>\n",
       "      <td>phon_R01_S01_4</td>\n",
       "      <td>116.676</td>\n",
       "      <td>137.871</td>\n",
       "      <td>111.366</td>\n",
       "      <td>0.00997</td>\n",
       "      <td>0.00009</td>\n",
       "      <td>0.00502</td>\n",
       "      <td>0.00698</td>\n",
       "      <td>0.01505</td>\n",
       "      <td>0.05492</td>\n",
       "      <td>...</td>\n",
       "      <td>0.08771</td>\n",
       "      <td>0.01353</td>\n",
       "      <td>20.644</td>\n",
       "      <td>1</td>\n",
       "      <td>0.434969</td>\n",
       "      <td>0.819235</td>\n",
       "      <td>-4.117501</td>\n",
       "      <td>0.334147</td>\n",
       "      <td>2.405554</td>\n",
       "      <td>0.368975</td>\n",
       "    </tr>\n",
       "    <tr>\n",
       "      <th>4</th>\n",
       "      <td>phon_R01_S01_5</td>\n",
       "      <td>116.014</td>\n",
       "      <td>141.781</td>\n",
       "      <td>110.655</td>\n",
       "      <td>0.01284</td>\n",
       "      <td>0.00011</td>\n",
       "      <td>0.00655</td>\n",
       "      <td>0.00908</td>\n",
       "      <td>0.01966</td>\n",
       "      <td>0.06425</td>\n",
       "      <td>...</td>\n",
       "      <td>0.10470</td>\n",
       "      <td>0.01767</td>\n",
       "      <td>19.649</td>\n",
       "      <td>1</td>\n",
       "      <td>0.417356</td>\n",
       "      <td>0.823484</td>\n",
       "      <td>-3.747787</td>\n",
       "      <td>0.234513</td>\n",
       "      <td>2.332180</td>\n",
       "      <td>0.410335</td>\n",
       "    </tr>\n",
       "  </tbody>\n",
       "</table>\n",
       "<p>5 rows × 24 columns</p>\n",
       "</div>"
      ],
      "text/plain": [
       "             name  MDVP:Fo(Hz)  MDVP:Fhi(Hz)  MDVP:Flo(Hz)  MDVP:Jitter(%)  \\\n",
       "0  phon_R01_S01_1      119.992       157.302        74.997         0.00784   \n",
       "1  phon_R01_S01_2      122.400       148.650       113.819         0.00968   \n",
       "2  phon_R01_S01_3      116.682       131.111       111.555         0.01050   \n",
       "3  phon_R01_S01_4      116.676       137.871       111.366         0.00997   \n",
       "4  phon_R01_S01_5      116.014       141.781       110.655         0.01284   \n",
       "\n",
       "   MDVP:Jitter(Abs)  MDVP:RAP  MDVP:PPQ  Jitter:DDP  MDVP:Shimmer  ...  \\\n",
       "0           0.00007   0.00370   0.00554     0.01109       0.04374  ...   \n",
       "1           0.00008   0.00465   0.00696     0.01394       0.06134  ...   \n",
       "2           0.00009   0.00544   0.00781     0.01633       0.05233  ...   \n",
       "3           0.00009   0.00502   0.00698     0.01505       0.05492  ...   \n",
       "4           0.00011   0.00655   0.00908     0.01966       0.06425  ...   \n",
       "\n",
       "   Shimmer:DDA      NHR     HNR  status      RPDE       DFA   spread1  \\\n",
       "0      0.06545  0.02211  21.033       1  0.414783  0.815285 -4.813031   \n",
       "1      0.09403  0.01929  19.085       1  0.458359  0.819521 -4.075192   \n",
       "2      0.08270  0.01309  20.651       1  0.429895  0.825288 -4.443179   \n",
       "3      0.08771  0.01353  20.644       1  0.434969  0.819235 -4.117501   \n",
       "4      0.10470  0.01767  19.649       1  0.417356  0.823484 -3.747787   \n",
       "\n",
       "    spread2        D2       PPE  \n",
       "0  0.266482  2.301442  0.284654  \n",
       "1  0.335590  2.486855  0.368674  \n",
       "2  0.311173  2.342259  0.332634  \n",
       "3  0.334147  2.405554  0.368975  \n",
       "4  0.234513  2.332180  0.410335  \n",
       "\n",
       "[5 rows x 24 columns]"
      ]
     },
     "execution_count": 5,
     "metadata": {},
     "output_type": "execute_result"
    }
   ],
   "source": [
    "parkinsons.head()"
   ]
  },
  {
   "cell_type": "code",
   "execution_count": 7,
   "id": "6977444b-b0ec-42ac-9a0f-a708b4081bb0",
   "metadata": {},
   "outputs": [
    {
     "data": {
      "text/html": [
       "<div>\n",
       "<style scoped>\n",
       "    .dataframe tbody tr th:only-of-type {\n",
       "        vertical-align: middle;\n",
       "    }\n",
       "\n",
       "    .dataframe tbody tr th {\n",
       "        vertical-align: top;\n",
       "    }\n",
       "\n",
       "    .dataframe thead th {\n",
       "        text-align: right;\n",
       "    }\n",
       "</style>\n",
       "<table border=\"1\" class=\"dataframe\">\n",
       "  <thead>\n",
       "    <tr style=\"text-align: right;\">\n",
       "      <th></th>\n",
       "      <th>name</th>\n",
       "      <th>MDVP:Fo(Hz)</th>\n",
       "      <th>MDVP:Fhi(Hz)</th>\n",
       "      <th>MDVP:Flo(Hz)</th>\n",
       "      <th>MDVP:Jitter(%)</th>\n",
       "      <th>MDVP:Jitter(Abs)</th>\n",
       "      <th>MDVP:RAP</th>\n",
       "      <th>MDVP:PPQ</th>\n",
       "      <th>Jitter:DDP</th>\n",
       "      <th>MDVP:Shimmer</th>\n",
       "      <th>...</th>\n",
       "      <th>Shimmer:DDA</th>\n",
       "      <th>NHR</th>\n",
       "      <th>HNR</th>\n",
       "      <th>status</th>\n",
       "      <th>RPDE</th>\n",
       "      <th>DFA</th>\n",
       "      <th>spread1</th>\n",
       "      <th>spread2</th>\n",
       "      <th>D2</th>\n",
       "      <th>PPE</th>\n",
       "    </tr>\n",
       "  </thead>\n",
       "  <tbody>\n",
       "    <tr>\n",
       "      <th>190</th>\n",
       "      <td>phon_R01_S50_2</td>\n",
       "      <td>174.188</td>\n",
       "      <td>230.978</td>\n",
       "      <td>94.261</td>\n",
       "      <td>0.00459</td>\n",
       "      <td>0.00003</td>\n",
       "      <td>0.00263</td>\n",
       "      <td>0.00259</td>\n",
       "      <td>0.00790</td>\n",
       "      <td>0.04087</td>\n",
       "      <td>...</td>\n",
       "      <td>0.07008</td>\n",
       "      <td>0.02764</td>\n",
       "      <td>19.517</td>\n",
       "      <td>0</td>\n",
       "      <td>0.448439</td>\n",
       "      <td>0.657899</td>\n",
       "      <td>-6.538586</td>\n",
       "      <td>0.121952</td>\n",
       "      <td>2.657476</td>\n",
       "      <td>0.133050</td>\n",
       "    </tr>\n",
       "    <tr>\n",
       "      <th>191</th>\n",
       "      <td>phon_R01_S50_3</td>\n",
       "      <td>209.516</td>\n",
       "      <td>253.017</td>\n",
       "      <td>89.488</td>\n",
       "      <td>0.00564</td>\n",
       "      <td>0.00003</td>\n",
       "      <td>0.00331</td>\n",
       "      <td>0.00292</td>\n",
       "      <td>0.00994</td>\n",
       "      <td>0.02751</td>\n",
       "      <td>...</td>\n",
       "      <td>0.04812</td>\n",
       "      <td>0.01810</td>\n",
       "      <td>19.147</td>\n",
       "      <td>0</td>\n",
       "      <td>0.431674</td>\n",
       "      <td>0.683244</td>\n",
       "      <td>-6.195325</td>\n",
       "      <td>0.129303</td>\n",
       "      <td>2.784312</td>\n",
       "      <td>0.168895</td>\n",
       "    </tr>\n",
       "    <tr>\n",
       "      <th>192</th>\n",
       "      <td>phon_R01_S50_4</td>\n",
       "      <td>174.688</td>\n",
       "      <td>240.005</td>\n",
       "      <td>74.287</td>\n",
       "      <td>0.01360</td>\n",
       "      <td>0.00008</td>\n",
       "      <td>0.00624</td>\n",
       "      <td>0.00564</td>\n",
       "      <td>0.01873</td>\n",
       "      <td>0.02308</td>\n",
       "      <td>...</td>\n",
       "      <td>0.03804</td>\n",
       "      <td>0.10715</td>\n",
       "      <td>17.883</td>\n",
       "      <td>0</td>\n",
       "      <td>0.407567</td>\n",
       "      <td>0.655683</td>\n",
       "      <td>-6.787197</td>\n",
       "      <td>0.158453</td>\n",
       "      <td>2.679772</td>\n",
       "      <td>0.131728</td>\n",
       "    </tr>\n",
       "    <tr>\n",
       "      <th>193</th>\n",
       "      <td>phon_R01_S50_5</td>\n",
       "      <td>198.764</td>\n",
       "      <td>396.961</td>\n",
       "      <td>74.904</td>\n",
       "      <td>0.00740</td>\n",
       "      <td>0.00004</td>\n",
       "      <td>0.00370</td>\n",
       "      <td>0.00390</td>\n",
       "      <td>0.01109</td>\n",
       "      <td>0.02296</td>\n",
       "      <td>...</td>\n",
       "      <td>0.03794</td>\n",
       "      <td>0.07223</td>\n",
       "      <td>19.020</td>\n",
       "      <td>0</td>\n",
       "      <td>0.451221</td>\n",
       "      <td>0.643956</td>\n",
       "      <td>-6.744577</td>\n",
       "      <td>0.207454</td>\n",
       "      <td>2.138608</td>\n",
       "      <td>0.123306</td>\n",
       "    </tr>\n",
       "    <tr>\n",
       "      <th>194</th>\n",
       "      <td>phon_R01_S50_6</td>\n",
       "      <td>214.289</td>\n",
       "      <td>260.277</td>\n",
       "      <td>77.973</td>\n",
       "      <td>0.00567</td>\n",
       "      <td>0.00003</td>\n",
       "      <td>0.00295</td>\n",
       "      <td>0.00317</td>\n",
       "      <td>0.00885</td>\n",
       "      <td>0.01884</td>\n",
       "      <td>...</td>\n",
       "      <td>0.03078</td>\n",
       "      <td>0.04398</td>\n",
       "      <td>21.209</td>\n",
       "      <td>0</td>\n",
       "      <td>0.462803</td>\n",
       "      <td>0.664357</td>\n",
       "      <td>-5.724056</td>\n",
       "      <td>0.190667</td>\n",
       "      <td>2.555477</td>\n",
       "      <td>0.148569</td>\n",
       "    </tr>\n",
       "  </tbody>\n",
       "</table>\n",
       "<p>5 rows × 24 columns</p>\n",
       "</div>"
      ],
      "text/plain": [
       "               name  MDVP:Fo(Hz)  MDVP:Fhi(Hz)  MDVP:Flo(Hz)  MDVP:Jitter(%)  \\\n",
       "190  phon_R01_S50_2      174.188       230.978        94.261         0.00459   \n",
       "191  phon_R01_S50_3      209.516       253.017        89.488         0.00564   \n",
       "192  phon_R01_S50_4      174.688       240.005        74.287         0.01360   \n",
       "193  phon_R01_S50_5      198.764       396.961        74.904         0.00740   \n",
       "194  phon_R01_S50_6      214.289       260.277        77.973         0.00567   \n",
       "\n",
       "     MDVP:Jitter(Abs)  MDVP:RAP  MDVP:PPQ  Jitter:DDP  MDVP:Shimmer  ...  \\\n",
       "190           0.00003   0.00263   0.00259     0.00790       0.04087  ...   \n",
       "191           0.00003   0.00331   0.00292     0.00994       0.02751  ...   \n",
       "192           0.00008   0.00624   0.00564     0.01873       0.02308  ...   \n",
       "193           0.00004   0.00370   0.00390     0.01109       0.02296  ...   \n",
       "194           0.00003   0.00295   0.00317     0.00885       0.01884  ...   \n",
       "\n",
       "     Shimmer:DDA      NHR     HNR  status      RPDE       DFA   spread1  \\\n",
       "190      0.07008  0.02764  19.517       0  0.448439  0.657899 -6.538586   \n",
       "191      0.04812  0.01810  19.147       0  0.431674  0.683244 -6.195325   \n",
       "192      0.03804  0.10715  17.883       0  0.407567  0.655683 -6.787197   \n",
       "193      0.03794  0.07223  19.020       0  0.451221  0.643956 -6.744577   \n",
       "194      0.03078  0.04398  21.209       0  0.462803  0.664357 -5.724056   \n",
       "\n",
       "      spread2        D2       PPE  \n",
       "190  0.121952  2.657476  0.133050  \n",
       "191  0.129303  2.784312  0.168895  \n",
       "192  0.158453  2.679772  0.131728  \n",
       "193  0.207454  2.138608  0.123306  \n",
       "194  0.190667  2.555477  0.148569  \n",
       "\n",
       "[5 rows x 24 columns]"
      ]
     },
     "execution_count": 7,
     "metadata": {},
     "output_type": "execute_result"
    }
   ],
   "source": [
    "parkinsons.tail()"
   ]
  },
  {
   "cell_type": "code",
   "execution_count": 11,
   "id": "889f18c8-a696-4c87-a08c-335ec318003b",
   "metadata": {},
   "outputs": [
    {
     "name": "stdout",
     "output_type": "stream",
     "text": [
      "<class 'pandas.core.frame.DataFrame'>\n",
      "RangeIndex: 195 entries, 0 to 194\n",
      "Data columns (total 24 columns):\n",
      " #   Column            Non-Null Count  Dtype  \n",
      "---  ------            --------------  -----  \n",
      " 0   name              195 non-null    object \n",
      " 1   MDVP:Fo(Hz)       195 non-null    float64\n",
      " 2   MDVP:Fhi(Hz)      195 non-null    float64\n",
      " 3   MDVP:Flo(Hz)      195 non-null    float64\n",
      " 4   MDVP:Jitter(%)    195 non-null    float64\n",
      " 5   MDVP:Jitter(Abs)  195 non-null    float64\n",
      " 6   MDVP:RAP          195 non-null    float64\n",
      " 7   MDVP:PPQ          195 non-null    float64\n",
      " 8   Jitter:DDP        195 non-null    float64\n",
      " 9   MDVP:Shimmer      195 non-null    float64\n",
      " 10  MDVP:Shimmer(dB)  195 non-null    float64\n",
      " 11  Shimmer:APQ3      195 non-null    float64\n",
      " 12  Shimmer:APQ5      195 non-null    float64\n",
      " 13  MDVP:APQ          195 non-null    float64\n",
      " 14  Shimmer:DDA       195 non-null    float64\n",
      " 15  NHR               195 non-null    float64\n",
      " 16  HNR               195 non-null    float64\n",
      " 17  status            195 non-null    int64  \n",
      " 18  RPDE              195 non-null    float64\n",
      " 19  DFA               195 non-null    float64\n",
      " 20  spread1           195 non-null    float64\n",
      " 21  spread2           195 non-null    float64\n",
      " 22  D2                195 non-null    float64\n",
      " 23  PPE               195 non-null    float64\n",
      "dtypes: float64(22), int64(1), object(1)\n",
      "memory usage: 36.7+ KB\n"
     ]
    }
   ],
   "source": [
    "parkinsons.info()"
   ]
  },
  {
   "cell_type": "code",
   "execution_count": 13,
   "id": "cf736700-4c45-4594-b6ad-fc71698dc6db",
   "metadata": {},
   "outputs": [
    {
     "data": {
      "text/plain": [
       "name                0\n",
       "MDVP:Fo(Hz)         0\n",
       "MDVP:Fhi(Hz)        0\n",
       "MDVP:Flo(Hz)        0\n",
       "MDVP:Jitter(%)      0\n",
       "MDVP:Jitter(Abs)    0\n",
       "MDVP:RAP            0\n",
       "MDVP:PPQ            0\n",
       "Jitter:DDP          0\n",
       "MDVP:Shimmer        0\n",
       "MDVP:Shimmer(dB)    0\n",
       "Shimmer:APQ3        0\n",
       "Shimmer:APQ5        0\n",
       "MDVP:APQ            0\n",
       "Shimmer:DDA         0\n",
       "NHR                 0\n",
       "HNR                 0\n",
       "status              0\n",
       "RPDE                0\n",
       "DFA                 0\n",
       "spread1             0\n",
       "spread2             0\n",
       "D2                  0\n",
       "PPE                 0\n",
       "dtype: int64"
      ]
     },
     "execution_count": 13,
     "metadata": {},
     "output_type": "execute_result"
    }
   ],
   "source": [
    "parkinsons.isnull().sum()"
   ]
  },
  {
   "cell_type": "code",
   "execution_count": 15,
   "id": "93e9e7d2-e8e4-4ae3-bf1a-9afe2d8208fc",
   "metadata": {},
   "outputs": [
    {
     "data": {
      "text/html": [
       "<div>\n",
       "<style scoped>\n",
       "    .dataframe tbody tr th:only-of-type {\n",
       "        vertical-align: middle;\n",
       "    }\n",
       "\n",
       "    .dataframe tbody tr th {\n",
       "        vertical-align: top;\n",
       "    }\n",
       "\n",
       "    .dataframe thead th {\n",
       "        text-align: right;\n",
       "    }\n",
       "</style>\n",
       "<table border=\"1\" class=\"dataframe\">\n",
       "  <thead>\n",
       "    <tr style=\"text-align: right;\">\n",
       "      <th></th>\n",
       "      <th>MDVP:Fo(Hz)</th>\n",
       "      <th>MDVP:Fhi(Hz)</th>\n",
       "      <th>MDVP:Flo(Hz)</th>\n",
       "      <th>MDVP:Jitter(%)</th>\n",
       "      <th>MDVP:Jitter(Abs)</th>\n",
       "      <th>MDVP:RAP</th>\n",
       "      <th>MDVP:PPQ</th>\n",
       "      <th>Jitter:DDP</th>\n",
       "      <th>MDVP:Shimmer</th>\n",
       "      <th>MDVP:Shimmer(dB)</th>\n",
       "      <th>...</th>\n",
       "      <th>Shimmer:DDA</th>\n",
       "      <th>NHR</th>\n",
       "      <th>HNR</th>\n",
       "      <th>status</th>\n",
       "      <th>RPDE</th>\n",
       "      <th>DFA</th>\n",
       "      <th>spread1</th>\n",
       "      <th>spread2</th>\n",
       "      <th>D2</th>\n",
       "      <th>PPE</th>\n",
       "    </tr>\n",
       "  </thead>\n",
       "  <tbody>\n",
       "    <tr>\n",
       "      <th>count</th>\n",
       "      <td>195.000000</td>\n",
       "      <td>195.000000</td>\n",
       "      <td>195.000000</td>\n",
       "      <td>195.000000</td>\n",
       "      <td>195.000000</td>\n",
       "      <td>195.000000</td>\n",
       "      <td>195.000000</td>\n",
       "      <td>195.000000</td>\n",
       "      <td>195.000000</td>\n",
       "      <td>195.000000</td>\n",
       "      <td>...</td>\n",
       "      <td>195.000000</td>\n",
       "      <td>195.000000</td>\n",
       "      <td>195.000000</td>\n",
       "      <td>195.000000</td>\n",
       "      <td>195.000000</td>\n",
       "      <td>195.000000</td>\n",
       "      <td>195.000000</td>\n",
       "      <td>195.000000</td>\n",
       "      <td>195.000000</td>\n",
       "      <td>195.000000</td>\n",
       "    </tr>\n",
       "    <tr>\n",
       "      <th>mean</th>\n",
       "      <td>154.228641</td>\n",
       "      <td>197.104918</td>\n",
       "      <td>116.324631</td>\n",
       "      <td>0.006220</td>\n",
       "      <td>0.000044</td>\n",
       "      <td>0.003306</td>\n",
       "      <td>0.003446</td>\n",
       "      <td>0.009920</td>\n",
       "      <td>0.029709</td>\n",
       "      <td>0.282251</td>\n",
       "      <td>...</td>\n",
       "      <td>0.046993</td>\n",
       "      <td>0.024847</td>\n",
       "      <td>21.885974</td>\n",
       "      <td>0.753846</td>\n",
       "      <td>0.498536</td>\n",
       "      <td>0.718099</td>\n",
       "      <td>-5.684397</td>\n",
       "      <td>0.226510</td>\n",
       "      <td>2.381826</td>\n",
       "      <td>0.206552</td>\n",
       "    </tr>\n",
       "    <tr>\n",
       "      <th>std</th>\n",
       "      <td>41.390065</td>\n",
       "      <td>91.491548</td>\n",
       "      <td>43.521413</td>\n",
       "      <td>0.004848</td>\n",
       "      <td>0.000035</td>\n",
       "      <td>0.002968</td>\n",
       "      <td>0.002759</td>\n",
       "      <td>0.008903</td>\n",
       "      <td>0.018857</td>\n",
       "      <td>0.194877</td>\n",
       "      <td>...</td>\n",
       "      <td>0.030459</td>\n",
       "      <td>0.040418</td>\n",
       "      <td>4.425764</td>\n",
       "      <td>0.431878</td>\n",
       "      <td>0.103942</td>\n",
       "      <td>0.055336</td>\n",
       "      <td>1.090208</td>\n",
       "      <td>0.083406</td>\n",
       "      <td>0.382799</td>\n",
       "      <td>0.090119</td>\n",
       "    </tr>\n",
       "    <tr>\n",
       "      <th>min</th>\n",
       "      <td>88.333000</td>\n",
       "      <td>102.145000</td>\n",
       "      <td>65.476000</td>\n",
       "      <td>0.001680</td>\n",
       "      <td>0.000007</td>\n",
       "      <td>0.000680</td>\n",
       "      <td>0.000920</td>\n",
       "      <td>0.002040</td>\n",
       "      <td>0.009540</td>\n",
       "      <td>0.085000</td>\n",
       "      <td>...</td>\n",
       "      <td>0.013640</td>\n",
       "      <td>0.000650</td>\n",
       "      <td>8.441000</td>\n",
       "      <td>0.000000</td>\n",
       "      <td>0.256570</td>\n",
       "      <td>0.574282</td>\n",
       "      <td>-7.964984</td>\n",
       "      <td>0.006274</td>\n",
       "      <td>1.423287</td>\n",
       "      <td>0.044539</td>\n",
       "    </tr>\n",
       "    <tr>\n",
       "      <th>25%</th>\n",
       "      <td>117.572000</td>\n",
       "      <td>134.862500</td>\n",
       "      <td>84.291000</td>\n",
       "      <td>0.003460</td>\n",
       "      <td>0.000020</td>\n",
       "      <td>0.001660</td>\n",
       "      <td>0.001860</td>\n",
       "      <td>0.004985</td>\n",
       "      <td>0.016505</td>\n",
       "      <td>0.148500</td>\n",
       "      <td>...</td>\n",
       "      <td>0.024735</td>\n",
       "      <td>0.005925</td>\n",
       "      <td>19.198000</td>\n",
       "      <td>1.000000</td>\n",
       "      <td>0.421306</td>\n",
       "      <td>0.674758</td>\n",
       "      <td>-6.450096</td>\n",
       "      <td>0.174351</td>\n",
       "      <td>2.099125</td>\n",
       "      <td>0.137451</td>\n",
       "    </tr>\n",
       "    <tr>\n",
       "      <th>50%</th>\n",
       "      <td>148.790000</td>\n",
       "      <td>175.829000</td>\n",
       "      <td>104.315000</td>\n",
       "      <td>0.004940</td>\n",
       "      <td>0.000030</td>\n",
       "      <td>0.002500</td>\n",
       "      <td>0.002690</td>\n",
       "      <td>0.007490</td>\n",
       "      <td>0.022970</td>\n",
       "      <td>0.221000</td>\n",
       "      <td>...</td>\n",
       "      <td>0.038360</td>\n",
       "      <td>0.011660</td>\n",
       "      <td>22.085000</td>\n",
       "      <td>1.000000</td>\n",
       "      <td>0.495954</td>\n",
       "      <td>0.722254</td>\n",
       "      <td>-5.720868</td>\n",
       "      <td>0.218885</td>\n",
       "      <td>2.361532</td>\n",
       "      <td>0.194052</td>\n",
       "    </tr>\n",
       "    <tr>\n",
       "      <th>75%</th>\n",
       "      <td>182.769000</td>\n",
       "      <td>224.205500</td>\n",
       "      <td>140.018500</td>\n",
       "      <td>0.007365</td>\n",
       "      <td>0.000060</td>\n",
       "      <td>0.003835</td>\n",
       "      <td>0.003955</td>\n",
       "      <td>0.011505</td>\n",
       "      <td>0.037885</td>\n",
       "      <td>0.350000</td>\n",
       "      <td>...</td>\n",
       "      <td>0.060795</td>\n",
       "      <td>0.025640</td>\n",
       "      <td>25.075500</td>\n",
       "      <td>1.000000</td>\n",
       "      <td>0.587562</td>\n",
       "      <td>0.761881</td>\n",
       "      <td>-5.046192</td>\n",
       "      <td>0.279234</td>\n",
       "      <td>2.636456</td>\n",
       "      <td>0.252980</td>\n",
       "    </tr>\n",
       "    <tr>\n",
       "      <th>max</th>\n",
       "      <td>260.105000</td>\n",
       "      <td>592.030000</td>\n",
       "      <td>239.170000</td>\n",
       "      <td>0.033160</td>\n",
       "      <td>0.000260</td>\n",
       "      <td>0.021440</td>\n",
       "      <td>0.019580</td>\n",
       "      <td>0.064330</td>\n",
       "      <td>0.119080</td>\n",
       "      <td>1.302000</td>\n",
       "      <td>...</td>\n",
       "      <td>0.169420</td>\n",
       "      <td>0.314820</td>\n",
       "      <td>33.047000</td>\n",
       "      <td>1.000000</td>\n",
       "      <td>0.685151</td>\n",
       "      <td>0.825288</td>\n",
       "      <td>-2.434031</td>\n",
       "      <td>0.450493</td>\n",
       "      <td>3.671155</td>\n",
       "      <td>0.527367</td>\n",
       "    </tr>\n",
       "  </tbody>\n",
       "</table>\n",
       "<p>8 rows × 23 columns</p>\n",
       "</div>"
      ],
      "text/plain": [
       "       MDVP:Fo(Hz)  MDVP:Fhi(Hz)  MDVP:Flo(Hz)  MDVP:Jitter(%)  \\\n",
       "count   195.000000    195.000000    195.000000      195.000000   \n",
       "mean    154.228641    197.104918    116.324631        0.006220   \n",
       "std      41.390065     91.491548     43.521413        0.004848   \n",
       "min      88.333000    102.145000     65.476000        0.001680   \n",
       "25%     117.572000    134.862500     84.291000        0.003460   \n",
       "50%     148.790000    175.829000    104.315000        0.004940   \n",
       "75%     182.769000    224.205500    140.018500        0.007365   \n",
       "max     260.105000    592.030000    239.170000        0.033160   \n",
       "\n",
       "       MDVP:Jitter(Abs)    MDVP:RAP    MDVP:PPQ  Jitter:DDP  MDVP:Shimmer  \\\n",
       "count        195.000000  195.000000  195.000000  195.000000    195.000000   \n",
       "mean           0.000044    0.003306    0.003446    0.009920      0.029709   \n",
       "std            0.000035    0.002968    0.002759    0.008903      0.018857   \n",
       "min            0.000007    0.000680    0.000920    0.002040      0.009540   \n",
       "25%            0.000020    0.001660    0.001860    0.004985      0.016505   \n",
       "50%            0.000030    0.002500    0.002690    0.007490      0.022970   \n",
       "75%            0.000060    0.003835    0.003955    0.011505      0.037885   \n",
       "max            0.000260    0.021440    0.019580    0.064330      0.119080   \n",
       "\n",
       "       MDVP:Shimmer(dB)  ...  Shimmer:DDA         NHR         HNR      status  \\\n",
       "count        195.000000  ...   195.000000  195.000000  195.000000  195.000000   \n",
       "mean           0.282251  ...     0.046993    0.024847   21.885974    0.753846   \n",
       "std            0.194877  ...     0.030459    0.040418    4.425764    0.431878   \n",
       "min            0.085000  ...     0.013640    0.000650    8.441000    0.000000   \n",
       "25%            0.148500  ...     0.024735    0.005925   19.198000    1.000000   \n",
       "50%            0.221000  ...     0.038360    0.011660   22.085000    1.000000   \n",
       "75%            0.350000  ...     0.060795    0.025640   25.075500    1.000000   \n",
       "max            1.302000  ...     0.169420    0.314820   33.047000    1.000000   \n",
       "\n",
       "             RPDE         DFA     spread1     spread2          D2         PPE  \n",
       "count  195.000000  195.000000  195.000000  195.000000  195.000000  195.000000  \n",
       "mean     0.498536    0.718099   -5.684397    0.226510    2.381826    0.206552  \n",
       "std      0.103942    0.055336    1.090208    0.083406    0.382799    0.090119  \n",
       "min      0.256570    0.574282   -7.964984    0.006274    1.423287    0.044539  \n",
       "25%      0.421306    0.674758   -6.450096    0.174351    2.099125    0.137451  \n",
       "50%      0.495954    0.722254   -5.720868    0.218885    2.361532    0.194052  \n",
       "75%      0.587562    0.761881   -5.046192    0.279234    2.636456    0.252980  \n",
       "max      0.685151    0.825288   -2.434031    0.450493    3.671155    0.527367  \n",
       "\n",
       "[8 rows x 23 columns]"
      ]
     },
     "execution_count": 15,
     "metadata": {},
     "output_type": "execute_result"
    }
   ],
   "source": [
    "parkinsons.describe()"
   ]
  },
  {
   "cell_type": "code",
   "execution_count": 30,
   "id": "1007efcd-d7be-43be-a0b1-6092f1a7ab2b",
   "metadata": {},
   "outputs": [
    {
     "data": {
      "application/vnd.plotly.v1+json": {
       "config": {
        "plotlyServerURL": "https://plot.ly"
       },
       "data": [
        {
         "colorscale": [
          [
           0,
           "#30123b"
          ],
          [
           0.07142857142857142,
           "#4145ab"
          ],
          [
           0.14285714285714285,
           "#4675ed"
          ],
          [
           0.21428571428571427,
           "#39a2fc"
          ],
          [
           0.2857142857142857,
           "#1bcfd4"
          ],
          [
           0.35714285714285715,
           "#24eca6"
          ],
          [
           0.42857142857142855,
           "#61fc6c"
          ],
          [
           0.5,
           "#a4fc3b"
          ],
          [
           0.5714285714285714,
           "#d1e834"
          ],
          [
           0.6428571428571429,
           "#f3c63a"
          ],
          [
           0.7142857142857143,
           "#fe9b2d"
          ],
          [
           0.7857142857142857,
           "#f36315"
          ],
          [
           0.8571428571428571,
           "#d93806"
          ],
          [
           0.9285714285714286,
           "#b11901"
          ],
          [
           1,
           "#7a0402"
          ]
         ],
         "reversescale": false,
         "showscale": true,
         "type": "heatmap",
         "x": [
          "MDVP:Fo(Hz)",
          "MDVP:Fhi(Hz)",
          "MDVP:Flo(Hz)",
          "MDVP:Jitter(%)",
          "MDVP:Jitter(Abs)",
          "MDVP:RAP",
          "MDVP:PPQ",
          "Jitter:DDP",
          "MDVP:Shimmer",
          "MDVP:Shimmer(dB)",
          "Shimmer:APQ3",
          "Shimmer:APQ5",
          "MDVP:APQ",
          "Shimmer:DDA",
          "NHR",
          "HNR",
          "status",
          "RPDE",
          "DFA",
          "spread1",
          "spread2",
          "D2",
          "PPE"
         ],
         "y": [
          "MDVP:Fo(Hz)",
          "MDVP:Fhi(Hz)",
          "MDVP:Flo(Hz)",
          "MDVP:Jitter(%)",
          "MDVP:Jitter(Abs)",
          "MDVP:RAP",
          "MDVP:PPQ",
          "Jitter:DDP",
          "MDVP:Shimmer",
          "MDVP:Shimmer(dB)",
          "Shimmer:APQ3",
          "Shimmer:APQ5",
          "MDVP:APQ",
          "Shimmer:DDA",
          "NHR",
          "HNR",
          "status",
          "RPDE",
          "DFA",
          "spread1",
          "spread2",
          "D2",
          "PPE"
         ],
         "z": [
          [
           1,
           0.400984676246063,
           0.5965455187557581,
           -0.11800263427894579,
           -0.3820266504663678,
           -0.07619381346479433,
           -0.11216542705872061,
           -0.07621269300516523,
           -0.09837374829584043,
           -0.07374245609073365,
           -0.0947170621194912,
           -0.07068178479968985,
           -0.07777381916221815,
           -0.09473156705289977,
           -0.021980775454139723,
           0.05914438737203222,
           -0.3835351511879843,
           -0.38389389817011094,
           -0.44601329189881533,
           -0.41373816906269145,
           -0.24945004590316408,
           0.17797951124377967,
           -0.3723563762117115
          ],
          [
           0.400984676246063,
           1,
           0.08495125082573743,
           0.10208634926247942,
           -0.029198333408944854,
           0.09717661865552282,
           0.09112619350801972,
           0.09714986733954807,
           0.0022812312855108215,
           0.04346516418997709,
           -0.0037432508049241226,
           -0.009996776333901019,
           0.004936984593305436,
           -0.0037328930569046448,
           0.16376640355829544,
           -0.024893140111423944,
           -0.16613634721043585,
           -0.11240351340948893,
           -0.34309672394058466,
           -0.07665780081874446,
           -0.0029536140264944683,
           0.176322817737353,
           -0.06954300158643284
          ],
          [
           0.5965455187557581,
           0.08495125082573743,
           1,
           -0.13991889088796255,
           -0.2778152408967079,
           -0.10051931926087963,
           -0.0958283660127037,
           -0.10048768027765027,
           -0.14454332390202176,
           -0.11908865234123221,
           -0.15074650251395216,
           -0.10109461598556982,
           -0.10729342298553768,
           -0.1507367363097968,
           -0.10867044514662783,
           0.2108508977145553,
           -0.38020043070127174,
           -0.40014306648170456,
           -0.05040630712091805,
           -0.39485735863611066,
           -0.24382940268243491,
           -0.10062908738021632,
           -0.3400713417130427
          ],
          [
           -0.11800263427894579,
           0.10208634926247942,
           -0.13991889088796255,
           1,
           0.9357139812023576,
           0.9902755852458324,
           0.9742563864635724,
           0.9902762153275699,
           0.7690632347556402,
           0.8042892804109836,
           0.746625201439508,
           0.7255610027610432,
           0.7582552552660887,
           0.7466351724740432,
           0.9069586005733022,
           -0.728165073683029,
           0.2782195982792976,
           0.36067348477688616,
           0.09857244224833091,
           0.6935767056718979,
           0.3851234732049305,
           0.4334340169608591,
           0.7215429322160547
          ],
          [
           -0.3820266504663678,
           -0.029198333408944854,
           -0.2778152408967079,
           0.9357139812023576,
           1,
           0.9229109688984641,
           0.8977779044154587,
           0.9229130329829802,
           0.7033223722797606,
           0.7166012833303699,
           0.6971530271575993,
           0.6489606955014681,
           0.6487934422057566,
           0.6971697059095131,
           0.834972175372741,
           -0.6568095934698216,
           0.33865309807934696,
           0.4418385550109511,
           0.1750359924060526,
           0.7357792295607326,
           0.38854283523905564,
           0.31069444660049556,
           0.7481616539833134
          ],
          [
           -0.07619381346479433,
           0.09717661865552282,
           -0.10051931926087963,
           0.9902755852458324,
           0.9229109688984641,
           1,
           0.9573168930480012,
           0.9999996001041346,
           0.759580521417032,
           0.7906515453207152,
           0.7449123568558381,
           0.7099268229736406,
           0.7374546661656013,
           0.7449192282551104,
           0.9195207096034025,
           -0.7215431601882,
           0.26666755653419655,
           0.34213980461956583,
           0.06408301887028978,
           0.6483277660337077,
           0.3244071793719276,
           0.42660538057733915,
           0.6709990451615564
          ],
          [
           -0.11216542705872061,
           0.09112619350801972,
           -0.0958283660127037,
           0.9742563864635724,
           0.8977779044154587,
           0.9573168930480012,
           1,
           0.9573191582070275,
           0.7978260251663125,
           0.8392389388017151,
           0.7635799155343806,
           0.7867804738318485,
           0.8041393030861171,
           0.7635921605350862,
           0.8446035313113316,
           -0.7315104660188033,
           0.28869834669063865,
           0.3332741474462124,
           0.19630142439433995,
           0.7164886367467859,
           0.4076054773904926,
           0.4125236818817847,
           0.769647290695728
          ],
          [
           -0.07621269300516523,
           0.09714986733954807,
           -0.10048768027765027,
           0.9902762153275699,
           0.9229130329829802,
           0.9999996001041346,
           0.9573191582070275,
           1,
           0.7595546996942697,
           0.790620600403772,
           0.7448937646921454,
           0.7099070853805517,
           0.7374386749396065,
           0.7449006202578067,
           0.9195481848735726,
           -0.7214943702167113,
           0.2666460942115804,
           0.3420794780767535,
           0.06402640066610338,
           0.6483275504831423,
           0.3243768521621534,
           0.42655576181259375,
           0.6710052524512012
          ],
          [
           -0.09837374829584043,
           0.0022812312855108215,
           -0.14454332390202176,
           0.7690632347556402,
           0.7033223722797606,
           0.759580521417032,
           0.7978260251663125,
           0.7595546996942697,
           1,
           0.9872578145507636,
           0.9876250519099831,
           0.9828354477070603,
           0.9500828933606196,
           0.9876256527301991,
           0.7221944544438803,
           -0.8352706760187872,
           0.3674298598935418,
           0.44742364497080594,
           0.1599536181078859,
           0.654734299579934,
           0.4520248258345715,
           0.5070882809156209,
           0.6937707204181819
          ],
          [
           -0.07374245609073365,
           0.04346516418997709,
           -0.11908865234123221,
           0.8042892804109836,
           0.7166012833303699,
           0.7906515453207152,
           0.8392389388017151,
           0.790620600403772,
           0.9872578145507636,
           1,
           0.9631980852351487,
           0.9737505606234652,
           0.9609767232961025,
           0.9632017037204204,
           0.7444772830593587,
           -0.8278053459625166,
           0.35069690571747497,
           0.41068379949819106,
           0.16515658020856816,
           0.6525466647104954,
           0.45431437259803187,
           0.5122331686060015,
           0.6950581251208202
          ],
          [
           -0.0947170621194912,
           -0.0037432508049241226,
           -0.15074650251395216,
           0.746625201439508,
           0.6971530271575993,
           0.7449123568558381,
           0.7635799155343806,
           0.7448937646921454,
           0.9876250519099831,
           0.9631980852351487,
           1,
           0.9600697638028992,
           0.8966445192684656,
           0.9999999636932835,
           0.7162067352312057,
           -0.8271233108794721,
           0.34761696522403324,
           0.4352424246204064,
           0.1511244644004547,
           0.6109673624504394,
           0.40224295441348107,
           0.4672654299918025,
           0.6453766860843696
          ],
          [
           -0.07068178479968985,
           -0.009996776333901019,
           -0.10109461598556982,
           0.7255610027610432,
           0.6489606955014681,
           0.7099268229736406,
           0.7867804738318485,
           0.7099070853805517,
           0.9828354477070603,
           0.9737505606234652,
           0.9600697638028992,
           1,
           0.9491461105717156,
           0.9600715928435893,
           0.6580797585441377,
           -0.8137527888760941,
           0.35114843593802664,
           0.3999028494726733,
           0.21387310241726257,
           0.6468089329108885,
           0.45719494530192417,
           0.5021744331725523,
           0.7024556640756282
          ],
          [
           -0.07777381916221815,
           0.004936984593305436,
           -0.10729342298553768,
           0.7582552552660887,
           0.6487934422057566,
           0.7374546661656013,
           0.8041393030861171,
           0.7374386749396065,
           0.9500828933606196,
           0.9609767232961025,
           0.8966445192684656,
           0.9491461105717156,
           1,
           0.8966467659005807,
           0.6940190491984044,
           -0.8004065614900296,
           0.3643157392231119,
           0.45137905017848834,
           0.1572757835244971,
           0.6731581405432578,
           0.5021878857205962,
           0.5368690283391933,
           0.7216939533492276
          ],
          [
           -0.09473156705289977,
           -0.0037328930569046448,
           -0.1507367363097968,
           0.7466351724740432,
           0.6971697059095131,
           0.7449192282551104,
           0.7635921605350862,
           0.7449006202578067,
           0.9876256527301991,
           0.9632017037204204,
           0.9999999636932835,
           0.9600715928435893,
           0.8966467659005807,
           1,
           0.7162145388970821,
           -0.8271302021986698,
           0.34760835453797745,
           0.4352373024523331,
           0.15113239377157112,
           0.6109712127400587,
           0.40222309193165273,
           0.46726137419039365,
           0.6453889543264241
          ],
          [
           -0.021980775454139723,
           0.16376640355829544,
           -0.10867044514662783,
           0.9069586005733022,
           0.834972175372741,
           0.9195207096034025,
           0.8446035313113316,
           0.9195481848735726,
           0.7221944544438803,
           0.7444772830593587,
           0.7162067352312057,
           0.6580797585441377,
           0.6940190491984044,
           0.7162145388970821,
           1,
           -0.7140724302477724,
           0.18942931888728265,
           0.370890489192788,
           -0.1318817425127101,
           0.5408651376738496,
           0.31809896172776425,
           0.47094875655300694,
           0.5525912721487585
          ],
          [
           0.05914438737203222,
           -0.024893140111423944,
           0.2108508977145553,
           -0.728165073683029,
           -0.6568095934698216,
           -0.7215431601882,
           -0.7315104660188033,
           -0.7214943702167113,
           -0.8352706760187872,
           -0.8278053459625166,
           -0.8271233108794721,
           -0.8137527888760941,
           -0.8004065614900296,
           -0.8271302021986698,
           -0.7140724302477724,
           1,
           -0.3615148666997222,
           -0.598736336791991,
           -0.008664939255232807,
           -0.6732098179814572,
           -0.43156374802708947,
           -0.601401006196737,
           -0.6928758533354252
          ],
          [
           -0.3835351511879843,
           -0.16613634721043585,
           -0.38020043070127174,
           0.2782195982792976,
           0.33865309807934696,
           0.26666755653419655,
           0.28869834669063865,
           0.2666460942115804,
           0.3674298598935418,
           0.35069690571747497,
           0.34761696522403324,
           0.35114843593802664,
           0.3643157392231119,
           0.34760835453797745,
           0.18942931888728265,
           -0.3615148666997222,
           1,
           0.30856725130270335,
           0.2317392727603787,
           0.5648379969876433,
           0.4548421261086424,
           0.3402315098803638,
           0.5310391538731207
          ],
          [
           -0.38389389817011094,
           -0.11240351340948893,
           -0.40014306648170456,
           0.36067348477688616,
           0.4418385550109511,
           0.34213980461956583,
           0.3332741474462124,
           0.3420794780767535,
           0.44742364497080594,
           0.41068379949819106,
           0.4352424246204064,
           0.3999028494726733,
           0.45137905017848834,
           0.4352373024523331,
           0.370890489192788,
           -0.598736336791991,
           0.30856725130270335,
           1,
           -0.1109499603192649,
           0.5911169605769877,
           0.4799045280925974,
           0.2369313530810479,
           0.5458857453794111
          ],
          [
           -0.44601329189881533,
           -0.34309672394058466,
           -0.05040630712091805,
           0.09857244224833091,
           0.1750359924060526,
           0.06408301887028978,
           0.19630142439433995,
           0.06402640066610338,
           0.1599536181078859,
           0.16515658020856816,
           0.1511244644004547,
           0.21387310241726257,
           0.1572757835244971,
           0.15113239377157112,
           -0.1318817425127101,
           -0.008664939255232807,
           0.2317392727603787,
           -0.1109499603192649,
           1,
           0.19566840324942594,
           0.1665481111816505,
           -0.1653810352859944,
           0.270444747455759
          ],
          [
           -0.41373816906269145,
           -0.07665780081874446,
           -0.39485735863611066,
           0.6935767056718979,
           0.7357792295607326,
           0.6483277660337077,
           0.7164886367467859,
           0.6483275504831423,
           0.654734299579934,
           0.6525466647104954,
           0.6109673624504394,
           0.6468089329108885,
           0.6731581405432578,
           0.6109712127400587,
           0.5408651376738496,
           -0.6732098179814572,
           0.5648379969876433,
           0.5911169605769877,
           0.19566840324942594,
           1,
           0.6523578119076812,
           0.4951227245364616,
           0.9624352932572805
          ],
          [
           -0.24945004590316408,
           -0.0029536140264944683,
           -0.24382940268243491,
           0.3851234732049305,
           0.38854283523905564,
           0.3244071793719276,
           0.4076054773904926,
           0.3243768521621534,
           0.4520248258345715,
           0.45431437259803187,
           0.40224295441348107,
           0.45719494530192417,
           0.5021878857205962,
           0.40222309193165273,
           0.31809896172776425,
           -0.43156374802708947,
           0.4548421261086424,
           0.4799045280925974,
           0.1665481111816505,
           0.6523578119076812,
           1,
           0.5235317348384103,
           0.6447109591546178
          ],
          [
           0.17797951124377967,
           0.176322817737353,
           -0.10062908738021632,
           0.4334340169608591,
           0.31069444660049556,
           0.42660538057733915,
           0.4125236818817847,
           0.42655576181259375,
           0.5070882809156209,
           0.5122331686060015,
           0.4672654299918025,
           0.5021744331725523,
           0.5368690283391933,
           0.46726137419039365,
           0.47094875655300694,
           -0.601401006196737,
           0.3402315098803638,
           0.2369313530810479,
           -0.1653810352859944,
           0.4951227245364616,
           0.5235317348384103,
           1,
           0.480584544421794
          ],
          [
           -0.3723563762117115,
           -0.06954300158643284,
           -0.3400713417130427,
           0.7215429322160547,
           0.7481616539833134,
           0.6709990451615564,
           0.769647290695728,
           0.6710052524512012,
           0.6937707204181819,
           0.6950581251208202,
           0.6453766860843696,
           0.7024556640756282,
           0.7216939533492276,
           0.6453889543264241,
           0.5525912721487585,
           -0.6928758533354252,
           0.5310391538731207,
           0.5458857453794111,
           0.270444747455759,
           0.9624352932572805,
           0.6447109591546178,
           0.480584544421794,
           1
          ]
         ]
        }
       ],
       "layout": {
        "annotations": [
         {
          "font": {
           "color": "#FFFFFF"
          },
          "showarrow": false,
          "text": "1.0",
          "x": "MDVP:Fo(Hz)",
          "xref": "x",
          "y": "MDVP:Fo(Hz)",
          "yref": "y"
         },
         {
          "font": {
           "color": "#FFFFFF"
          },
          "showarrow": false,
          "text": "0.4",
          "x": "MDVP:Fhi(Hz)",
          "xref": "x",
          "y": "MDVP:Fo(Hz)",
          "yref": "y"
         },
         {
          "font": {
           "color": "#FFFFFF"
          },
          "showarrow": false,
          "text": "0.6",
          "x": "MDVP:Flo(Hz)",
          "xref": "x",
          "y": "MDVP:Fo(Hz)",
          "yref": "y"
         },
         {
          "font": {
           "color": "#FFFFFF"
          },
          "showarrow": false,
          "text": "-0.12",
          "x": "MDVP:Jitter(%)",
          "xref": "x",
          "y": "MDVP:Fo(Hz)",
          "yref": "y"
         },
         {
          "font": {
           "color": "#FFFFFF"
          },
          "showarrow": false,
          "text": "-0.38",
          "x": "MDVP:Jitter(Abs)",
          "xref": "x",
          "y": "MDVP:Fo(Hz)",
          "yref": "y"
         },
         {
          "font": {
           "color": "#FFFFFF"
          },
          "showarrow": false,
          "text": "-0.08",
          "x": "MDVP:RAP",
          "xref": "x",
          "y": "MDVP:Fo(Hz)",
          "yref": "y"
         },
         {
          "font": {
           "color": "#FFFFFF"
          },
          "showarrow": false,
          "text": "-0.11",
          "x": "MDVP:PPQ",
          "xref": "x",
          "y": "MDVP:Fo(Hz)",
          "yref": "y"
         },
         {
          "font": {
           "color": "#FFFFFF"
          },
          "showarrow": false,
          "text": "-0.08",
          "x": "Jitter:DDP",
          "xref": "x",
          "y": "MDVP:Fo(Hz)",
          "yref": "y"
         },
         {
          "font": {
           "color": "#FFFFFF"
          },
          "showarrow": false,
          "text": "-0.1",
          "x": "MDVP:Shimmer",
          "xref": "x",
          "y": "MDVP:Fo(Hz)",
          "yref": "y"
         },
         {
          "font": {
           "color": "#FFFFFF"
          },
          "showarrow": false,
          "text": "-0.07",
          "x": "MDVP:Shimmer(dB)",
          "xref": "x",
          "y": "MDVP:Fo(Hz)",
          "yref": "y"
         },
         {
          "font": {
           "color": "#FFFFFF"
          },
          "showarrow": false,
          "text": "-0.09",
          "x": "Shimmer:APQ3",
          "xref": "x",
          "y": "MDVP:Fo(Hz)",
          "yref": "y"
         },
         {
          "font": {
           "color": "#FFFFFF"
          },
          "showarrow": false,
          "text": "-0.07",
          "x": "Shimmer:APQ5",
          "xref": "x",
          "y": "MDVP:Fo(Hz)",
          "yref": "y"
         },
         {
          "font": {
           "color": "#FFFFFF"
          },
          "showarrow": false,
          "text": "-0.08",
          "x": "MDVP:APQ",
          "xref": "x",
          "y": "MDVP:Fo(Hz)",
          "yref": "y"
         },
         {
          "font": {
           "color": "#FFFFFF"
          },
          "showarrow": false,
          "text": "-0.09",
          "x": "Shimmer:DDA",
          "xref": "x",
          "y": "MDVP:Fo(Hz)",
          "yref": "y"
         },
         {
          "font": {
           "color": "#FFFFFF"
          },
          "showarrow": false,
          "text": "-0.02",
          "x": "NHR",
          "xref": "x",
          "y": "MDVP:Fo(Hz)",
          "yref": "y"
         },
         {
          "font": {
           "color": "#FFFFFF"
          },
          "showarrow": false,
          "text": "0.06",
          "x": "HNR",
          "xref": "x",
          "y": "MDVP:Fo(Hz)",
          "yref": "y"
         },
         {
          "font": {
           "color": "#FFFFFF"
          },
          "showarrow": false,
          "text": "-0.38",
          "x": "status",
          "xref": "x",
          "y": "MDVP:Fo(Hz)",
          "yref": "y"
         },
         {
          "font": {
           "color": "#FFFFFF"
          },
          "showarrow": false,
          "text": "-0.38",
          "x": "RPDE",
          "xref": "x",
          "y": "MDVP:Fo(Hz)",
          "yref": "y"
         },
         {
          "font": {
           "color": "#FFFFFF"
          },
          "showarrow": false,
          "text": "-0.45",
          "x": "DFA",
          "xref": "x",
          "y": "MDVP:Fo(Hz)",
          "yref": "y"
         },
         {
          "font": {
           "color": "#FFFFFF"
          },
          "showarrow": false,
          "text": "-0.41",
          "x": "spread1",
          "xref": "x",
          "y": "MDVP:Fo(Hz)",
          "yref": "y"
         },
         {
          "font": {
           "color": "#FFFFFF"
          },
          "showarrow": false,
          "text": "-0.25",
          "x": "spread2",
          "xref": "x",
          "y": "MDVP:Fo(Hz)",
          "yref": "y"
         },
         {
          "font": {
           "color": "#FFFFFF"
          },
          "showarrow": false,
          "text": "0.18",
          "x": "D2",
          "xref": "x",
          "y": "MDVP:Fo(Hz)",
          "yref": "y"
         },
         {
          "font": {
           "color": "#FFFFFF"
          },
          "showarrow": false,
          "text": "-0.37",
          "x": "PPE",
          "xref": "x",
          "y": "MDVP:Fo(Hz)",
          "yref": "y"
         },
         {
          "font": {
           "color": "#FFFFFF"
          },
          "showarrow": false,
          "text": "0.4",
          "x": "MDVP:Fo(Hz)",
          "xref": "x",
          "y": "MDVP:Fhi(Hz)",
          "yref": "y"
         },
         {
          "font": {
           "color": "#FFFFFF"
          },
          "showarrow": false,
          "text": "1.0",
          "x": "MDVP:Fhi(Hz)",
          "xref": "x",
          "y": "MDVP:Fhi(Hz)",
          "yref": "y"
         },
         {
          "font": {
           "color": "#FFFFFF"
          },
          "showarrow": false,
          "text": "0.08",
          "x": "MDVP:Flo(Hz)",
          "xref": "x",
          "y": "MDVP:Fhi(Hz)",
          "yref": "y"
         },
         {
          "font": {
           "color": "#FFFFFF"
          },
          "showarrow": false,
          "text": "0.1",
          "x": "MDVP:Jitter(%)",
          "xref": "x",
          "y": "MDVP:Fhi(Hz)",
          "yref": "y"
         },
         {
          "font": {
           "color": "#FFFFFF"
          },
          "showarrow": false,
          "text": "-0.03",
          "x": "MDVP:Jitter(Abs)",
          "xref": "x",
          "y": "MDVP:Fhi(Hz)",
          "yref": "y"
         },
         {
          "font": {
           "color": "#FFFFFF"
          },
          "showarrow": false,
          "text": "0.1",
          "x": "MDVP:RAP",
          "xref": "x",
          "y": "MDVP:Fhi(Hz)",
          "yref": "y"
         },
         {
          "font": {
           "color": "#FFFFFF"
          },
          "showarrow": false,
          "text": "0.09",
          "x": "MDVP:PPQ",
          "xref": "x",
          "y": "MDVP:Fhi(Hz)",
          "yref": "y"
         },
         {
          "font": {
           "color": "#FFFFFF"
          },
          "showarrow": false,
          "text": "0.1",
          "x": "Jitter:DDP",
          "xref": "x",
          "y": "MDVP:Fhi(Hz)",
          "yref": "y"
         },
         {
          "font": {
           "color": "#FFFFFF"
          },
          "showarrow": false,
          "text": "0.0",
          "x": "MDVP:Shimmer",
          "xref": "x",
          "y": "MDVP:Fhi(Hz)",
          "yref": "y"
         },
         {
          "font": {
           "color": "#FFFFFF"
          },
          "showarrow": false,
          "text": "0.04",
          "x": "MDVP:Shimmer(dB)",
          "xref": "x",
          "y": "MDVP:Fhi(Hz)",
          "yref": "y"
         },
         {
          "font": {
           "color": "#FFFFFF"
          },
          "showarrow": false,
          "text": "-0.0",
          "x": "Shimmer:APQ3",
          "xref": "x",
          "y": "MDVP:Fhi(Hz)",
          "yref": "y"
         },
         {
          "font": {
           "color": "#FFFFFF"
          },
          "showarrow": false,
          "text": "-0.01",
          "x": "Shimmer:APQ5",
          "xref": "x",
          "y": "MDVP:Fhi(Hz)",
          "yref": "y"
         },
         {
          "font": {
           "color": "#FFFFFF"
          },
          "showarrow": false,
          "text": "0.0",
          "x": "MDVP:APQ",
          "xref": "x",
          "y": "MDVP:Fhi(Hz)",
          "yref": "y"
         },
         {
          "font": {
           "color": "#FFFFFF"
          },
          "showarrow": false,
          "text": "-0.0",
          "x": "Shimmer:DDA",
          "xref": "x",
          "y": "MDVP:Fhi(Hz)",
          "yref": "y"
         },
         {
          "font": {
           "color": "#FFFFFF"
          },
          "showarrow": false,
          "text": "0.16",
          "x": "NHR",
          "xref": "x",
          "y": "MDVP:Fhi(Hz)",
          "yref": "y"
         },
         {
          "font": {
           "color": "#FFFFFF"
          },
          "showarrow": false,
          "text": "-0.02",
          "x": "HNR",
          "xref": "x",
          "y": "MDVP:Fhi(Hz)",
          "yref": "y"
         },
         {
          "font": {
           "color": "#FFFFFF"
          },
          "showarrow": false,
          "text": "-0.17",
          "x": "status",
          "xref": "x",
          "y": "MDVP:Fhi(Hz)",
          "yref": "y"
         },
         {
          "font": {
           "color": "#FFFFFF"
          },
          "showarrow": false,
          "text": "-0.11",
          "x": "RPDE",
          "xref": "x",
          "y": "MDVP:Fhi(Hz)",
          "yref": "y"
         },
         {
          "font": {
           "color": "#FFFFFF"
          },
          "showarrow": false,
          "text": "-0.34",
          "x": "DFA",
          "xref": "x",
          "y": "MDVP:Fhi(Hz)",
          "yref": "y"
         },
         {
          "font": {
           "color": "#FFFFFF"
          },
          "showarrow": false,
          "text": "-0.08",
          "x": "spread1",
          "xref": "x",
          "y": "MDVP:Fhi(Hz)",
          "yref": "y"
         },
         {
          "font": {
           "color": "#FFFFFF"
          },
          "showarrow": false,
          "text": "-0.0",
          "x": "spread2",
          "xref": "x",
          "y": "MDVP:Fhi(Hz)",
          "yref": "y"
         },
         {
          "font": {
           "color": "#FFFFFF"
          },
          "showarrow": false,
          "text": "0.18",
          "x": "D2",
          "xref": "x",
          "y": "MDVP:Fhi(Hz)",
          "yref": "y"
         },
         {
          "font": {
           "color": "#FFFFFF"
          },
          "showarrow": false,
          "text": "-0.07",
          "x": "PPE",
          "xref": "x",
          "y": "MDVP:Fhi(Hz)",
          "yref": "y"
         },
         {
          "font": {
           "color": "#FFFFFF"
          },
          "showarrow": false,
          "text": "0.6",
          "x": "MDVP:Fo(Hz)",
          "xref": "x",
          "y": "MDVP:Flo(Hz)",
          "yref": "y"
         },
         {
          "font": {
           "color": "#FFFFFF"
          },
          "showarrow": false,
          "text": "0.08",
          "x": "MDVP:Fhi(Hz)",
          "xref": "x",
          "y": "MDVP:Flo(Hz)",
          "yref": "y"
         },
         {
          "font": {
           "color": "#FFFFFF"
          },
          "showarrow": false,
          "text": "1.0",
          "x": "MDVP:Flo(Hz)",
          "xref": "x",
          "y": "MDVP:Flo(Hz)",
          "yref": "y"
         },
         {
          "font": {
           "color": "#FFFFFF"
          },
          "showarrow": false,
          "text": "-0.14",
          "x": "MDVP:Jitter(%)",
          "xref": "x",
          "y": "MDVP:Flo(Hz)",
          "yref": "y"
         },
         {
          "font": {
           "color": "#FFFFFF"
          },
          "showarrow": false,
          "text": "-0.28",
          "x": "MDVP:Jitter(Abs)",
          "xref": "x",
          "y": "MDVP:Flo(Hz)",
          "yref": "y"
         },
         {
          "font": {
           "color": "#FFFFFF"
          },
          "showarrow": false,
          "text": "-0.1",
          "x": "MDVP:RAP",
          "xref": "x",
          "y": "MDVP:Flo(Hz)",
          "yref": "y"
         },
         {
          "font": {
           "color": "#FFFFFF"
          },
          "showarrow": false,
          "text": "-0.1",
          "x": "MDVP:PPQ",
          "xref": "x",
          "y": "MDVP:Flo(Hz)",
          "yref": "y"
         },
         {
          "font": {
           "color": "#FFFFFF"
          },
          "showarrow": false,
          "text": "-0.1",
          "x": "Jitter:DDP",
          "xref": "x",
          "y": "MDVP:Flo(Hz)",
          "yref": "y"
         },
         {
          "font": {
           "color": "#FFFFFF"
          },
          "showarrow": false,
          "text": "-0.14",
          "x": "MDVP:Shimmer",
          "xref": "x",
          "y": "MDVP:Flo(Hz)",
          "yref": "y"
         },
         {
          "font": {
           "color": "#FFFFFF"
          },
          "showarrow": false,
          "text": "-0.12",
          "x": "MDVP:Shimmer(dB)",
          "xref": "x",
          "y": "MDVP:Flo(Hz)",
          "yref": "y"
         },
         {
          "font": {
           "color": "#FFFFFF"
          },
          "showarrow": false,
          "text": "-0.15",
          "x": "Shimmer:APQ3",
          "xref": "x",
          "y": "MDVP:Flo(Hz)",
          "yref": "y"
         },
         {
          "font": {
           "color": "#FFFFFF"
          },
          "showarrow": false,
          "text": "-0.1",
          "x": "Shimmer:APQ5",
          "xref": "x",
          "y": "MDVP:Flo(Hz)",
          "yref": "y"
         },
         {
          "font": {
           "color": "#FFFFFF"
          },
          "showarrow": false,
          "text": "-0.11",
          "x": "MDVP:APQ",
          "xref": "x",
          "y": "MDVP:Flo(Hz)",
          "yref": "y"
         },
         {
          "font": {
           "color": "#FFFFFF"
          },
          "showarrow": false,
          "text": "-0.15",
          "x": "Shimmer:DDA",
          "xref": "x",
          "y": "MDVP:Flo(Hz)",
          "yref": "y"
         },
         {
          "font": {
           "color": "#FFFFFF"
          },
          "showarrow": false,
          "text": "-0.11",
          "x": "NHR",
          "xref": "x",
          "y": "MDVP:Flo(Hz)",
          "yref": "y"
         },
         {
          "font": {
           "color": "#FFFFFF"
          },
          "showarrow": false,
          "text": "0.21",
          "x": "HNR",
          "xref": "x",
          "y": "MDVP:Flo(Hz)",
          "yref": "y"
         },
         {
          "font": {
           "color": "#FFFFFF"
          },
          "showarrow": false,
          "text": "-0.38",
          "x": "status",
          "xref": "x",
          "y": "MDVP:Flo(Hz)",
          "yref": "y"
         },
         {
          "font": {
           "color": "#FFFFFF"
          },
          "showarrow": false,
          "text": "-0.4",
          "x": "RPDE",
          "xref": "x",
          "y": "MDVP:Flo(Hz)",
          "yref": "y"
         },
         {
          "font": {
           "color": "#FFFFFF"
          },
          "showarrow": false,
          "text": "-0.05",
          "x": "DFA",
          "xref": "x",
          "y": "MDVP:Flo(Hz)",
          "yref": "y"
         },
         {
          "font": {
           "color": "#FFFFFF"
          },
          "showarrow": false,
          "text": "-0.39",
          "x": "spread1",
          "xref": "x",
          "y": "MDVP:Flo(Hz)",
          "yref": "y"
         },
         {
          "font": {
           "color": "#FFFFFF"
          },
          "showarrow": false,
          "text": "-0.24",
          "x": "spread2",
          "xref": "x",
          "y": "MDVP:Flo(Hz)",
          "yref": "y"
         },
         {
          "font": {
           "color": "#FFFFFF"
          },
          "showarrow": false,
          "text": "-0.1",
          "x": "D2",
          "xref": "x",
          "y": "MDVP:Flo(Hz)",
          "yref": "y"
         },
         {
          "font": {
           "color": "#FFFFFF"
          },
          "showarrow": false,
          "text": "-0.34",
          "x": "PPE",
          "xref": "x",
          "y": "MDVP:Flo(Hz)",
          "yref": "y"
         },
         {
          "font": {
           "color": "#FFFFFF"
          },
          "showarrow": false,
          "text": "-0.12",
          "x": "MDVP:Fo(Hz)",
          "xref": "x",
          "y": "MDVP:Jitter(%)",
          "yref": "y"
         },
         {
          "font": {
           "color": "#FFFFFF"
          },
          "showarrow": false,
          "text": "0.1",
          "x": "MDVP:Fhi(Hz)",
          "xref": "x",
          "y": "MDVP:Jitter(%)",
          "yref": "y"
         },
         {
          "font": {
           "color": "#FFFFFF"
          },
          "showarrow": false,
          "text": "-0.14",
          "x": "MDVP:Flo(Hz)",
          "xref": "x",
          "y": "MDVP:Jitter(%)",
          "yref": "y"
         },
         {
          "font": {
           "color": "#FFFFFF"
          },
          "showarrow": false,
          "text": "1.0",
          "x": "MDVP:Jitter(%)",
          "xref": "x",
          "y": "MDVP:Jitter(%)",
          "yref": "y"
         },
         {
          "font": {
           "color": "#FFFFFF"
          },
          "showarrow": false,
          "text": "0.94",
          "x": "MDVP:Jitter(Abs)",
          "xref": "x",
          "y": "MDVP:Jitter(%)",
          "yref": "y"
         },
         {
          "font": {
           "color": "#FFFFFF"
          },
          "showarrow": false,
          "text": "0.99",
          "x": "MDVP:RAP",
          "xref": "x",
          "y": "MDVP:Jitter(%)",
          "yref": "y"
         },
         {
          "font": {
           "color": "#FFFFFF"
          },
          "showarrow": false,
          "text": "0.97",
          "x": "MDVP:PPQ",
          "xref": "x",
          "y": "MDVP:Jitter(%)",
          "yref": "y"
         },
         {
          "font": {
           "color": "#FFFFFF"
          },
          "showarrow": false,
          "text": "0.99",
          "x": "Jitter:DDP",
          "xref": "x",
          "y": "MDVP:Jitter(%)",
          "yref": "y"
         },
         {
          "font": {
           "color": "#FFFFFF"
          },
          "showarrow": false,
          "text": "0.77",
          "x": "MDVP:Shimmer",
          "xref": "x",
          "y": "MDVP:Jitter(%)",
          "yref": "y"
         },
         {
          "font": {
           "color": "#FFFFFF"
          },
          "showarrow": false,
          "text": "0.8",
          "x": "MDVP:Shimmer(dB)",
          "xref": "x",
          "y": "MDVP:Jitter(%)",
          "yref": "y"
         },
         {
          "font": {
           "color": "#FFFFFF"
          },
          "showarrow": false,
          "text": "0.75",
          "x": "Shimmer:APQ3",
          "xref": "x",
          "y": "MDVP:Jitter(%)",
          "yref": "y"
         },
         {
          "font": {
           "color": "#FFFFFF"
          },
          "showarrow": false,
          "text": "0.73",
          "x": "Shimmer:APQ5",
          "xref": "x",
          "y": "MDVP:Jitter(%)",
          "yref": "y"
         },
         {
          "font": {
           "color": "#FFFFFF"
          },
          "showarrow": false,
          "text": "0.76",
          "x": "MDVP:APQ",
          "xref": "x",
          "y": "MDVP:Jitter(%)",
          "yref": "y"
         },
         {
          "font": {
           "color": "#FFFFFF"
          },
          "showarrow": false,
          "text": "0.75",
          "x": "Shimmer:DDA",
          "xref": "x",
          "y": "MDVP:Jitter(%)",
          "yref": "y"
         },
         {
          "font": {
           "color": "#FFFFFF"
          },
          "showarrow": false,
          "text": "0.91",
          "x": "NHR",
          "xref": "x",
          "y": "MDVP:Jitter(%)",
          "yref": "y"
         },
         {
          "font": {
           "color": "#FFFFFF"
          },
          "showarrow": false,
          "text": "-0.73",
          "x": "HNR",
          "xref": "x",
          "y": "MDVP:Jitter(%)",
          "yref": "y"
         },
         {
          "font": {
           "color": "#FFFFFF"
          },
          "showarrow": false,
          "text": "0.28",
          "x": "status",
          "xref": "x",
          "y": "MDVP:Jitter(%)",
          "yref": "y"
         },
         {
          "font": {
           "color": "#FFFFFF"
          },
          "showarrow": false,
          "text": "0.36",
          "x": "RPDE",
          "xref": "x",
          "y": "MDVP:Jitter(%)",
          "yref": "y"
         },
         {
          "font": {
           "color": "#FFFFFF"
          },
          "showarrow": false,
          "text": "0.1",
          "x": "DFA",
          "xref": "x",
          "y": "MDVP:Jitter(%)",
          "yref": "y"
         },
         {
          "font": {
           "color": "#FFFFFF"
          },
          "showarrow": false,
          "text": "0.69",
          "x": "spread1",
          "xref": "x",
          "y": "MDVP:Jitter(%)",
          "yref": "y"
         },
         {
          "font": {
           "color": "#FFFFFF"
          },
          "showarrow": false,
          "text": "0.39",
          "x": "spread2",
          "xref": "x",
          "y": "MDVP:Jitter(%)",
          "yref": "y"
         },
         {
          "font": {
           "color": "#FFFFFF"
          },
          "showarrow": false,
          "text": "0.43",
          "x": "D2",
          "xref": "x",
          "y": "MDVP:Jitter(%)",
          "yref": "y"
         },
         {
          "font": {
           "color": "#FFFFFF"
          },
          "showarrow": false,
          "text": "0.72",
          "x": "PPE",
          "xref": "x",
          "y": "MDVP:Jitter(%)",
          "yref": "y"
         },
         {
          "font": {
           "color": "#FFFFFF"
          },
          "showarrow": false,
          "text": "-0.38",
          "x": "MDVP:Fo(Hz)",
          "xref": "x",
          "y": "MDVP:Jitter(Abs)",
          "yref": "y"
         },
         {
          "font": {
           "color": "#FFFFFF"
          },
          "showarrow": false,
          "text": "-0.03",
          "x": "MDVP:Fhi(Hz)",
          "xref": "x",
          "y": "MDVP:Jitter(Abs)",
          "yref": "y"
         },
         {
          "font": {
           "color": "#FFFFFF"
          },
          "showarrow": false,
          "text": "-0.28",
          "x": "MDVP:Flo(Hz)",
          "xref": "x",
          "y": "MDVP:Jitter(Abs)",
          "yref": "y"
         },
         {
          "font": {
           "color": "#FFFFFF"
          },
          "showarrow": false,
          "text": "0.94",
          "x": "MDVP:Jitter(%)",
          "xref": "x",
          "y": "MDVP:Jitter(Abs)",
          "yref": "y"
         },
         {
          "font": {
           "color": "#FFFFFF"
          },
          "showarrow": false,
          "text": "1.0",
          "x": "MDVP:Jitter(Abs)",
          "xref": "x",
          "y": "MDVP:Jitter(Abs)",
          "yref": "y"
         },
         {
          "font": {
           "color": "#FFFFFF"
          },
          "showarrow": false,
          "text": "0.92",
          "x": "MDVP:RAP",
          "xref": "x",
          "y": "MDVP:Jitter(Abs)",
          "yref": "y"
         },
         {
          "font": {
           "color": "#FFFFFF"
          },
          "showarrow": false,
          "text": "0.9",
          "x": "MDVP:PPQ",
          "xref": "x",
          "y": "MDVP:Jitter(Abs)",
          "yref": "y"
         },
         {
          "font": {
           "color": "#FFFFFF"
          },
          "showarrow": false,
          "text": "0.92",
          "x": "Jitter:DDP",
          "xref": "x",
          "y": "MDVP:Jitter(Abs)",
          "yref": "y"
         },
         {
          "font": {
           "color": "#FFFFFF"
          },
          "showarrow": false,
          "text": "0.7",
          "x": "MDVP:Shimmer",
          "xref": "x",
          "y": "MDVP:Jitter(Abs)",
          "yref": "y"
         },
         {
          "font": {
           "color": "#FFFFFF"
          },
          "showarrow": false,
          "text": "0.72",
          "x": "MDVP:Shimmer(dB)",
          "xref": "x",
          "y": "MDVP:Jitter(Abs)",
          "yref": "y"
         },
         {
          "font": {
           "color": "#FFFFFF"
          },
          "showarrow": false,
          "text": "0.7",
          "x": "Shimmer:APQ3",
          "xref": "x",
          "y": "MDVP:Jitter(Abs)",
          "yref": "y"
         },
         {
          "font": {
           "color": "#FFFFFF"
          },
          "showarrow": false,
          "text": "0.65",
          "x": "Shimmer:APQ5",
          "xref": "x",
          "y": "MDVP:Jitter(Abs)",
          "yref": "y"
         },
         {
          "font": {
           "color": "#FFFFFF"
          },
          "showarrow": false,
          "text": "0.65",
          "x": "MDVP:APQ",
          "xref": "x",
          "y": "MDVP:Jitter(Abs)",
          "yref": "y"
         },
         {
          "font": {
           "color": "#FFFFFF"
          },
          "showarrow": false,
          "text": "0.7",
          "x": "Shimmer:DDA",
          "xref": "x",
          "y": "MDVP:Jitter(Abs)",
          "yref": "y"
         },
         {
          "font": {
           "color": "#FFFFFF"
          },
          "showarrow": false,
          "text": "0.83",
          "x": "NHR",
          "xref": "x",
          "y": "MDVP:Jitter(Abs)",
          "yref": "y"
         },
         {
          "font": {
           "color": "#FFFFFF"
          },
          "showarrow": false,
          "text": "-0.66",
          "x": "HNR",
          "xref": "x",
          "y": "MDVP:Jitter(Abs)",
          "yref": "y"
         },
         {
          "font": {
           "color": "#FFFFFF"
          },
          "showarrow": false,
          "text": "0.34",
          "x": "status",
          "xref": "x",
          "y": "MDVP:Jitter(Abs)",
          "yref": "y"
         },
         {
          "font": {
           "color": "#FFFFFF"
          },
          "showarrow": false,
          "text": "0.44",
          "x": "RPDE",
          "xref": "x",
          "y": "MDVP:Jitter(Abs)",
          "yref": "y"
         },
         {
          "font": {
           "color": "#FFFFFF"
          },
          "showarrow": false,
          "text": "0.18",
          "x": "DFA",
          "xref": "x",
          "y": "MDVP:Jitter(Abs)",
          "yref": "y"
         },
         {
          "font": {
           "color": "#FFFFFF"
          },
          "showarrow": false,
          "text": "0.74",
          "x": "spread1",
          "xref": "x",
          "y": "MDVP:Jitter(Abs)",
          "yref": "y"
         },
         {
          "font": {
           "color": "#FFFFFF"
          },
          "showarrow": false,
          "text": "0.39",
          "x": "spread2",
          "xref": "x",
          "y": "MDVP:Jitter(Abs)",
          "yref": "y"
         },
         {
          "font": {
           "color": "#FFFFFF"
          },
          "showarrow": false,
          "text": "0.31",
          "x": "D2",
          "xref": "x",
          "y": "MDVP:Jitter(Abs)",
          "yref": "y"
         },
         {
          "font": {
           "color": "#FFFFFF"
          },
          "showarrow": false,
          "text": "0.75",
          "x": "PPE",
          "xref": "x",
          "y": "MDVP:Jitter(Abs)",
          "yref": "y"
         },
         {
          "font": {
           "color": "#FFFFFF"
          },
          "showarrow": false,
          "text": "-0.08",
          "x": "MDVP:Fo(Hz)",
          "xref": "x",
          "y": "MDVP:RAP",
          "yref": "y"
         },
         {
          "font": {
           "color": "#FFFFFF"
          },
          "showarrow": false,
          "text": "0.1",
          "x": "MDVP:Fhi(Hz)",
          "xref": "x",
          "y": "MDVP:RAP",
          "yref": "y"
         },
         {
          "font": {
           "color": "#FFFFFF"
          },
          "showarrow": false,
          "text": "-0.1",
          "x": "MDVP:Flo(Hz)",
          "xref": "x",
          "y": "MDVP:RAP",
          "yref": "y"
         },
         {
          "font": {
           "color": "#FFFFFF"
          },
          "showarrow": false,
          "text": "0.99",
          "x": "MDVP:Jitter(%)",
          "xref": "x",
          "y": "MDVP:RAP",
          "yref": "y"
         },
         {
          "font": {
           "color": "#FFFFFF"
          },
          "showarrow": false,
          "text": "0.92",
          "x": "MDVP:Jitter(Abs)",
          "xref": "x",
          "y": "MDVP:RAP",
          "yref": "y"
         },
         {
          "font": {
           "color": "#FFFFFF"
          },
          "showarrow": false,
          "text": "1.0",
          "x": "MDVP:RAP",
          "xref": "x",
          "y": "MDVP:RAP",
          "yref": "y"
         },
         {
          "font": {
           "color": "#FFFFFF"
          },
          "showarrow": false,
          "text": "0.96",
          "x": "MDVP:PPQ",
          "xref": "x",
          "y": "MDVP:RAP",
          "yref": "y"
         },
         {
          "font": {
           "color": "#FFFFFF"
          },
          "showarrow": false,
          "text": "1.0",
          "x": "Jitter:DDP",
          "xref": "x",
          "y": "MDVP:RAP",
          "yref": "y"
         },
         {
          "font": {
           "color": "#FFFFFF"
          },
          "showarrow": false,
          "text": "0.76",
          "x": "MDVP:Shimmer",
          "xref": "x",
          "y": "MDVP:RAP",
          "yref": "y"
         },
         {
          "font": {
           "color": "#FFFFFF"
          },
          "showarrow": false,
          "text": "0.79",
          "x": "MDVP:Shimmer(dB)",
          "xref": "x",
          "y": "MDVP:RAP",
          "yref": "y"
         },
         {
          "font": {
           "color": "#FFFFFF"
          },
          "showarrow": false,
          "text": "0.74",
          "x": "Shimmer:APQ3",
          "xref": "x",
          "y": "MDVP:RAP",
          "yref": "y"
         },
         {
          "font": {
           "color": "#FFFFFF"
          },
          "showarrow": false,
          "text": "0.71",
          "x": "Shimmer:APQ5",
          "xref": "x",
          "y": "MDVP:RAP",
          "yref": "y"
         },
         {
          "font": {
           "color": "#FFFFFF"
          },
          "showarrow": false,
          "text": "0.74",
          "x": "MDVP:APQ",
          "xref": "x",
          "y": "MDVP:RAP",
          "yref": "y"
         },
         {
          "font": {
           "color": "#FFFFFF"
          },
          "showarrow": false,
          "text": "0.74",
          "x": "Shimmer:DDA",
          "xref": "x",
          "y": "MDVP:RAP",
          "yref": "y"
         },
         {
          "font": {
           "color": "#FFFFFF"
          },
          "showarrow": false,
          "text": "0.92",
          "x": "NHR",
          "xref": "x",
          "y": "MDVP:RAP",
          "yref": "y"
         },
         {
          "font": {
           "color": "#FFFFFF"
          },
          "showarrow": false,
          "text": "-0.72",
          "x": "HNR",
          "xref": "x",
          "y": "MDVP:RAP",
          "yref": "y"
         },
         {
          "font": {
           "color": "#FFFFFF"
          },
          "showarrow": false,
          "text": "0.27",
          "x": "status",
          "xref": "x",
          "y": "MDVP:RAP",
          "yref": "y"
         },
         {
          "font": {
           "color": "#FFFFFF"
          },
          "showarrow": false,
          "text": "0.34",
          "x": "RPDE",
          "xref": "x",
          "y": "MDVP:RAP",
          "yref": "y"
         },
         {
          "font": {
           "color": "#FFFFFF"
          },
          "showarrow": false,
          "text": "0.06",
          "x": "DFA",
          "xref": "x",
          "y": "MDVP:RAP",
          "yref": "y"
         },
         {
          "font": {
           "color": "#FFFFFF"
          },
          "showarrow": false,
          "text": "0.65",
          "x": "spread1",
          "xref": "x",
          "y": "MDVP:RAP",
          "yref": "y"
         },
         {
          "font": {
           "color": "#FFFFFF"
          },
          "showarrow": false,
          "text": "0.32",
          "x": "spread2",
          "xref": "x",
          "y": "MDVP:RAP",
          "yref": "y"
         },
         {
          "font": {
           "color": "#FFFFFF"
          },
          "showarrow": false,
          "text": "0.43",
          "x": "D2",
          "xref": "x",
          "y": "MDVP:RAP",
          "yref": "y"
         },
         {
          "font": {
           "color": "#FFFFFF"
          },
          "showarrow": false,
          "text": "0.67",
          "x": "PPE",
          "xref": "x",
          "y": "MDVP:RAP",
          "yref": "y"
         },
         {
          "font": {
           "color": "#FFFFFF"
          },
          "showarrow": false,
          "text": "-0.11",
          "x": "MDVP:Fo(Hz)",
          "xref": "x",
          "y": "MDVP:PPQ",
          "yref": "y"
         },
         {
          "font": {
           "color": "#FFFFFF"
          },
          "showarrow": false,
          "text": "0.09",
          "x": "MDVP:Fhi(Hz)",
          "xref": "x",
          "y": "MDVP:PPQ",
          "yref": "y"
         },
         {
          "font": {
           "color": "#FFFFFF"
          },
          "showarrow": false,
          "text": "-0.1",
          "x": "MDVP:Flo(Hz)",
          "xref": "x",
          "y": "MDVP:PPQ",
          "yref": "y"
         },
         {
          "font": {
           "color": "#FFFFFF"
          },
          "showarrow": false,
          "text": "0.97",
          "x": "MDVP:Jitter(%)",
          "xref": "x",
          "y": "MDVP:PPQ",
          "yref": "y"
         },
         {
          "font": {
           "color": "#FFFFFF"
          },
          "showarrow": false,
          "text": "0.9",
          "x": "MDVP:Jitter(Abs)",
          "xref": "x",
          "y": "MDVP:PPQ",
          "yref": "y"
         },
         {
          "font": {
           "color": "#FFFFFF"
          },
          "showarrow": false,
          "text": "0.96",
          "x": "MDVP:RAP",
          "xref": "x",
          "y": "MDVP:PPQ",
          "yref": "y"
         },
         {
          "font": {
           "color": "#FFFFFF"
          },
          "showarrow": false,
          "text": "1.0",
          "x": "MDVP:PPQ",
          "xref": "x",
          "y": "MDVP:PPQ",
          "yref": "y"
         },
         {
          "font": {
           "color": "#FFFFFF"
          },
          "showarrow": false,
          "text": "0.96",
          "x": "Jitter:DDP",
          "xref": "x",
          "y": "MDVP:PPQ",
          "yref": "y"
         },
         {
          "font": {
           "color": "#FFFFFF"
          },
          "showarrow": false,
          "text": "0.8",
          "x": "MDVP:Shimmer",
          "xref": "x",
          "y": "MDVP:PPQ",
          "yref": "y"
         },
         {
          "font": {
           "color": "#FFFFFF"
          },
          "showarrow": false,
          "text": "0.84",
          "x": "MDVP:Shimmer(dB)",
          "xref": "x",
          "y": "MDVP:PPQ",
          "yref": "y"
         },
         {
          "font": {
           "color": "#FFFFFF"
          },
          "showarrow": false,
          "text": "0.76",
          "x": "Shimmer:APQ3",
          "xref": "x",
          "y": "MDVP:PPQ",
          "yref": "y"
         },
         {
          "font": {
           "color": "#FFFFFF"
          },
          "showarrow": false,
          "text": "0.79",
          "x": "Shimmer:APQ5",
          "xref": "x",
          "y": "MDVP:PPQ",
          "yref": "y"
         },
         {
          "font": {
           "color": "#FFFFFF"
          },
          "showarrow": false,
          "text": "0.8",
          "x": "MDVP:APQ",
          "xref": "x",
          "y": "MDVP:PPQ",
          "yref": "y"
         },
         {
          "font": {
           "color": "#FFFFFF"
          },
          "showarrow": false,
          "text": "0.76",
          "x": "Shimmer:DDA",
          "xref": "x",
          "y": "MDVP:PPQ",
          "yref": "y"
         },
         {
          "font": {
           "color": "#FFFFFF"
          },
          "showarrow": false,
          "text": "0.84",
          "x": "NHR",
          "xref": "x",
          "y": "MDVP:PPQ",
          "yref": "y"
         },
         {
          "font": {
           "color": "#FFFFFF"
          },
          "showarrow": false,
          "text": "-0.73",
          "x": "HNR",
          "xref": "x",
          "y": "MDVP:PPQ",
          "yref": "y"
         },
         {
          "font": {
           "color": "#FFFFFF"
          },
          "showarrow": false,
          "text": "0.29",
          "x": "status",
          "xref": "x",
          "y": "MDVP:PPQ",
          "yref": "y"
         },
         {
          "font": {
           "color": "#FFFFFF"
          },
          "showarrow": false,
          "text": "0.33",
          "x": "RPDE",
          "xref": "x",
          "y": "MDVP:PPQ",
          "yref": "y"
         },
         {
          "font": {
           "color": "#FFFFFF"
          },
          "showarrow": false,
          "text": "0.2",
          "x": "DFA",
          "xref": "x",
          "y": "MDVP:PPQ",
          "yref": "y"
         },
         {
          "font": {
           "color": "#FFFFFF"
          },
          "showarrow": false,
          "text": "0.72",
          "x": "spread1",
          "xref": "x",
          "y": "MDVP:PPQ",
          "yref": "y"
         },
         {
          "font": {
           "color": "#FFFFFF"
          },
          "showarrow": false,
          "text": "0.41",
          "x": "spread2",
          "xref": "x",
          "y": "MDVP:PPQ",
          "yref": "y"
         },
         {
          "font": {
           "color": "#FFFFFF"
          },
          "showarrow": false,
          "text": "0.41",
          "x": "D2",
          "xref": "x",
          "y": "MDVP:PPQ",
          "yref": "y"
         },
         {
          "font": {
           "color": "#FFFFFF"
          },
          "showarrow": false,
          "text": "0.77",
          "x": "PPE",
          "xref": "x",
          "y": "MDVP:PPQ",
          "yref": "y"
         },
         {
          "font": {
           "color": "#FFFFFF"
          },
          "showarrow": false,
          "text": "-0.08",
          "x": "MDVP:Fo(Hz)",
          "xref": "x",
          "y": "Jitter:DDP",
          "yref": "y"
         },
         {
          "font": {
           "color": "#FFFFFF"
          },
          "showarrow": false,
          "text": "0.1",
          "x": "MDVP:Fhi(Hz)",
          "xref": "x",
          "y": "Jitter:DDP",
          "yref": "y"
         },
         {
          "font": {
           "color": "#FFFFFF"
          },
          "showarrow": false,
          "text": "-0.1",
          "x": "MDVP:Flo(Hz)",
          "xref": "x",
          "y": "Jitter:DDP",
          "yref": "y"
         },
         {
          "font": {
           "color": "#FFFFFF"
          },
          "showarrow": false,
          "text": "0.99",
          "x": "MDVP:Jitter(%)",
          "xref": "x",
          "y": "Jitter:DDP",
          "yref": "y"
         },
         {
          "font": {
           "color": "#FFFFFF"
          },
          "showarrow": false,
          "text": "0.92",
          "x": "MDVP:Jitter(Abs)",
          "xref": "x",
          "y": "Jitter:DDP",
          "yref": "y"
         },
         {
          "font": {
           "color": "#FFFFFF"
          },
          "showarrow": false,
          "text": "1.0",
          "x": "MDVP:RAP",
          "xref": "x",
          "y": "Jitter:DDP",
          "yref": "y"
         },
         {
          "font": {
           "color": "#FFFFFF"
          },
          "showarrow": false,
          "text": "0.96",
          "x": "MDVP:PPQ",
          "xref": "x",
          "y": "Jitter:DDP",
          "yref": "y"
         },
         {
          "font": {
           "color": "#FFFFFF"
          },
          "showarrow": false,
          "text": "1.0",
          "x": "Jitter:DDP",
          "xref": "x",
          "y": "Jitter:DDP",
          "yref": "y"
         },
         {
          "font": {
           "color": "#FFFFFF"
          },
          "showarrow": false,
          "text": "0.76",
          "x": "MDVP:Shimmer",
          "xref": "x",
          "y": "Jitter:DDP",
          "yref": "y"
         },
         {
          "font": {
           "color": "#FFFFFF"
          },
          "showarrow": false,
          "text": "0.79",
          "x": "MDVP:Shimmer(dB)",
          "xref": "x",
          "y": "Jitter:DDP",
          "yref": "y"
         },
         {
          "font": {
           "color": "#FFFFFF"
          },
          "showarrow": false,
          "text": "0.74",
          "x": "Shimmer:APQ3",
          "xref": "x",
          "y": "Jitter:DDP",
          "yref": "y"
         },
         {
          "font": {
           "color": "#FFFFFF"
          },
          "showarrow": false,
          "text": "0.71",
          "x": "Shimmer:APQ5",
          "xref": "x",
          "y": "Jitter:DDP",
          "yref": "y"
         },
         {
          "font": {
           "color": "#FFFFFF"
          },
          "showarrow": false,
          "text": "0.74",
          "x": "MDVP:APQ",
          "xref": "x",
          "y": "Jitter:DDP",
          "yref": "y"
         },
         {
          "font": {
           "color": "#FFFFFF"
          },
          "showarrow": false,
          "text": "0.74",
          "x": "Shimmer:DDA",
          "xref": "x",
          "y": "Jitter:DDP",
          "yref": "y"
         },
         {
          "font": {
           "color": "#FFFFFF"
          },
          "showarrow": false,
          "text": "0.92",
          "x": "NHR",
          "xref": "x",
          "y": "Jitter:DDP",
          "yref": "y"
         },
         {
          "font": {
           "color": "#FFFFFF"
          },
          "showarrow": false,
          "text": "-0.72",
          "x": "HNR",
          "xref": "x",
          "y": "Jitter:DDP",
          "yref": "y"
         },
         {
          "font": {
           "color": "#FFFFFF"
          },
          "showarrow": false,
          "text": "0.27",
          "x": "status",
          "xref": "x",
          "y": "Jitter:DDP",
          "yref": "y"
         },
         {
          "font": {
           "color": "#FFFFFF"
          },
          "showarrow": false,
          "text": "0.34",
          "x": "RPDE",
          "xref": "x",
          "y": "Jitter:DDP",
          "yref": "y"
         },
         {
          "font": {
           "color": "#FFFFFF"
          },
          "showarrow": false,
          "text": "0.06",
          "x": "DFA",
          "xref": "x",
          "y": "Jitter:DDP",
          "yref": "y"
         },
         {
          "font": {
           "color": "#FFFFFF"
          },
          "showarrow": false,
          "text": "0.65",
          "x": "spread1",
          "xref": "x",
          "y": "Jitter:DDP",
          "yref": "y"
         },
         {
          "font": {
           "color": "#FFFFFF"
          },
          "showarrow": false,
          "text": "0.32",
          "x": "spread2",
          "xref": "x",
          "y": "Jitter:DDP",
          "yref": "y"
         },
         {
          "font": {
           "color": "#FFFFFF"
          },
          "showarrow": false,
          "text": "0.43",
          "x": "D2",
          "xref": "x",
          "y": "Jitter:DDP",
          "yref": "y"
         },
         {
          "font": {
           "color": "#FFFFFF"
          },
          "showarrow": false,
          "text": "0.67",
          "x": "PPE",
          "xref": "x",
          "y": "Jitter:DDP",
          "yref": "y"
         },
         {
          "font": {
           "color": "#FFFFFF"
          },
          "showarrow": false,
          "text": "-0.1",
          "x": "MDVP:Fo(Hz)",
          "xref": "x",
          "y": "MDVP:Shimmer",
          "yref": "y"
         },
         {
          "font": {
           "color": "#FFFFFF"
          },
          "showarrow": false,
          "text": "0.0",
          "x": "MDVP:Fhi(Hz)",
          "xref": "x",
          "y": "MDVP:Shimmer",
          "yref": "y"
         },
         {
          "font": {
           "color": "#FFFFFF"
          },
          "showarrow": false,
          "text": "-0.14",
          "x": "MDVP:Flo(Hz)",
          "xref": "x",
          "y": "MDVP:Shimmer",
          "yref": "y"
         },
         {
          "font": {
           "color": "#FFFFFF"
          },
          "showarrow": false,
          "text": "0.77",
          "x": "MDVP:Jitter(%)",
          "xref": "x",
          "y": "MDVP:Shimmer",
          "yref": "y"
         },
         {
          "font": {
           "color": "#FFFFFF"
          },
          "showarrow": false,
          "text": "0.7",
          "x": "MDVP:Jitter(Abs)",
          "xref": "x",
          "y": "MDVP:Shimmer",
          "yref": "y"
         },
         {
          "font": {
           "color": "#FFFFFF"
          },
          "showarrow": false,
          "text": "0.76",
          "x": "MDVP:RAP",
          "xref": "x",
          "y": "MDVP:Shimmer",
          "yref": "y"
         },
         {
          "font": {
           "color": "#FFFFFF"
          },
          "showarrow": false,
          "text": "0.8",
          "x": "MDVP:PPQ",
          "xref": "x",
          "y": "MDVP:Shimmer",
          "yref": "y"
         },
         {
          "font": {
           "color": "#FFFFFF"
          },
          "showarrow": false,
          "text": "0.76",
          "x": "Jitter:DDP",
          "xref": "x",
          "y": "MDVP:Shimmer",
          "yref": "y"
         },
         {
          "font": {
           "color": "#FFFFFF"
          },
          "showarrow": false,
          "text": "1.0",
          "x": "MDVP:Shimmer",
          "xref": "x",
          "y": "MDVP:Shimmer",
          "yref": "y"
         },
         {
          "font": {
           "color": "#FFFFFF"
          },
          "showarrow": false,
          "text": "0.99",
          "x": "MDVP:Shimmer(dB)",
          "xref": "x",
          "y": "MDVP:Shimmer",
          "yref": "y"
         },
         {
          "font": {
           "color": "#FFFFFF"
          },
          "showarrow": false,
          "text": "0.99",
          "x": "Shimmer:APQ3",
          "xref": "x",
          "y": "MDVP:Shimmer",
          "yref": "y"
         },
         {
          "font": {
           "color": "#FFFFFF"
          },
          "showarrow": false,
          "text": "0.98",
          "x": "Shimmer:APQ5",
          "xref": "x",
          "y": "MDVP:Shimmer",
          "yref": "y"
         },
         {
          "font": {
           "color": "#FFFFFF"
          },
          "showarrow": false,
          "text": "0.95",
          "x": "MDVP:APQ",
          "xref": "x",
          "y": "MDVP:Shimmer",
          "yref": "y"
         },
         {
          "font": {
           "color": "#FFFFFF"
          },
          "showarrow": false,
          "text": "0.99",
          "x": "Shimmer:DDA",
          "xref": "x",
          "y": "MDVP:Shimmer",
          "yref": "y"
         },
         {
          "font": {
           "color": "#FFFFFF"
          },
          "showarrow": false,
          "text": "0.72",
          "x": "NHR",
          "xref": "x",
          "y": "MDVP:Shimmer",
          "yref": "y"
         },
         {
          "font": {
           "color": "#FFFFFF"
          },
          "showarrow": false,
          "text": "-0.84",
          "x": "HNR",
          "xref": "x",
          "y": "MDVP:Shimmer",
          "yref": "y"
         },
         {
          "font": {
           "color": "#FFFFFF"
          },
          "showarrow": false,
          "text": "0.37",
          "x": "status",
          "xref": "x",
          "y": "MDVP:Shimmer",
          "yref": "y"
         },
         {
          "font": {
           "color": "#FFFFFF"
          },
          "showarrow": false,
          "text": "0.45",
          "x": "RPDE",
          "xref": "x",
          "y": "MDVP:Shimmer",
          "yref": "y"
         },
         {
          "font": {
           "color": "#FFFFFF"
          },
          "showarrow": false,
          "text": "0.16",
          "x": "DFA",
          "xref": "x",
          "y": "MDVP:Shimmer",
          "yref": "y"
         },
         {
          "font": {
           "color": "#FFFFFF"
          },
          "showarrow": false,
          "text": "0.65",
          "x": "spread1",
          "xref": "x",
          "y": "MDVP:Shimmer",
          "yref": "y"
         },
         {
          "font": {
           "color": "#FFFFFF"
          },
          "showarrow": false,
          "text": "0.45",
          "x": "spread2",
          "xref": "x",
          "y": "MDVP:Shimmer",
          "yref": "y"
         },
         {
          "font": {
           "color": "#FFFFFF"
          },
          "showarrow": false,
          "text": "0.51",
          "x": "D2",
          "xref": "x",
          "y": "MDVP:Shimmer",
          "yref": "y"
         },
         {
          "font": {
           "color": "#FFFFFF"
          },
          "showarrow": false,
          "text": "0.69",
          "x": "PPE",
          "xref": "x",
          "y": "MDVP:Shimmer",
          "yref": "y"
         },
         {
          "font": {
           "color": "#FFFFFF"
          },
          "showarrow": false,
          "text": "-0.07",
          "x": "MDVP:Fo(Hz)",
          "xref": "x",
          "y": "MDVP:Shimmer(dB)",
          "yref": "y"
         },
         {
          "font": {
           "color": "#FFFFFF"
          },
          "showarrow": false,
          "text": "0.04",
          "x": "MDVP:Fhi(Hz)",
          "xref": "x",
          "y": "MDVP:Shimmer(dB)",
          "yref": "y"
         },
         {
          "font": {
           "color": "#FFFFFF"
          },
          "showarrow": false,
          "text": "-0.12",
          "x": "MDVP:Flo(Hz)",
          "xref": "x",
          "y": "MDVP:Shimmer(dB)",
          "yref": "y"
         },
         {
          "font": {
           "color": "#FFFFFF"
          },
          "showarrow": false,
          "text": "0.8",
          "x": "MDVP:Jitter(%)",
          "xref": "x",
          "y": "MDVP:Shimmer(dB)",
          "yref": "y"
         },
         {
          "font": {
           "color": "#FFFFFF"
          },
          "showarrow": false,
          "text": "0.72",
          "x": "MDVP:Jitter(Abs)",
          "xref": "x",
          "y": "MDVP:Shimmer(dB)",
          "yref": "y"
         },
         {
          "font": {
           "color": "#FFFFFF"
          },
          "showarrow": false,
          "text": "0.79",
          "x": "MDVP:RAP",
          "xref": "x",
          "y": "MDVP:Shimmer(dB)",
          "yref": "y"
         },
         {
          "font": {
           "color": "#FFFFFF"
          },
          "showarrow": false,
          "text": "0.84",
          "x": "MDVP:PPQ",
          "xref": "x",
          "y": "MDVP:Shimmer(dB)",
          "yref": "y"
         },
         {
          "font": {
           "color": "#FFFFFF"
          },
          "showarrow": false,
          "text": "0.79",
          "x": "Jitter:DDP",
          "xref": "x",
          "y": "MDVP:Shimmer(dB)",
          "yref": "y"
         },
         {
          "font": {
           "color": "#FFFFFF"
          },
          "showarrow": false,
          "text": "0.99",
          "x": "MDVP:Shimmer",
          "xref": "x",
          "y": "MDVP:Shimmer(dB)",
          "yref": "y"
         },
         {
          "font": {
           "color": "#FFFFFF"
          },
          "showarrow": false,
          "text": "1.0",
          "x": "MDVP:Shimmer(dB)",
          "xref": "x",
          "y": "MDVP:Shimmer(dB)",
          "yref": "y"
         },
         {
          "font": {
           "color": "#FFFFFF"
          },
          "showarrow": false,
          "text": "0.96",
          "x": "Shimmer:APQ3",
          "xref": "x",
          "y": "MDVP:Shimmer(dB)",
          "yref": "y"
         },
         {
          "font": {
           "color": "#FFFFFF"
          },
          "showarrow": false,
          "text": "0.97",
          "x": "Shimmer:APQ5",
          "xref": "x",
          "y": "MDVP:Shimmer(dB)",
          "yref": "y"
         },
         {
          "font": {
           "color": "#FFFFFF"
          },
          "showarrow": false,
          "text": "0.96",
          "x": "MDVP:APQ",
          "xref": "x",
          "y": "MDVP:Shimmer(dB)",
          "yref": "y"
         },
         {
          "font": {
           "color": "#FFFFFF"
          },
          "showarrow": false,
          "text": "0.96",
          "x": "Shimmer:DDA",
          "xref": "x",
          "y": "MDVP:Shimmer(dB)",
          "yref": "y"
         },
         {
          "font": {
           "color": "#FFFFFF"
          },
          "showarrow": false,
          "text": "0.74",
          "x": "NHR",
          "xref": "x",
          "y": "MDVP:Shimmer(dB)",
          "yref": "y"
         },
         {
          "font": {
           "color": "#FFFFFF"
          },
          "showarrow": false,
          "text": "-0.83",
          "x": "HNR",
          "xref": "x",
          "y": "MDVP:Shimmer(dB)",
          "yref": "y"
         },
         {
          "font": {
           "color": "#FFFFFF"
          },
          "showarrow": false,
          "text": "0.35",
          "x": "status",
          "xref": "x",
          "y": "MDVP:Shimmer(dB)",
          "yref": "y"
         },
         {
          "font": {
           "color": "#FFFFFF"
          },
          "showarrow": false,
          "text": "0.41",
          "x": "RPDE",
          "xref": "x",
          "y": "MDVP:Shimmer(dB)",
          "yref": "y"
         },
         {
          "font": {
           "color": "#FFFFFF"
          },
          "showarrow": false,
          "text": "0.17",
          "x": "DFA",
          "xref": "x",
          "y": "MDVP:Shimmer(dB)",
          "yref": "y"
         },
         {
          "font": {
           "color": "#FFFFFF"
          },
          "showarrow": false,
          "text": "0.65",
          "x": "spread1",
          "xref": "x",
          "y": "MDVP:Shimmer(dB)",
          "yref": "y"
         },
         {
          "font": {
           "color": "#FFFFFF"
          },
          "showarrow": false,
          "text": "0.45",
          "x": "spread2",
          "xref": "x",
          "y": "MDVP:Shimmer(dB)",
          "yref": "y"
         },
         {
          "font": {
           "color": "#FFFFFF"
          },
          "showarrow": false,
          "text": "0.51",
          "x": "D2",
          "xref": "x",
          "y": "MDVP:Shimmer(dB)",
          "yref": "y"
         },
         {
          "font": {
           "color": "#FFFFFF"
          },
          "showarrow": false,
          "text": "0.7",
          "x": "PPE",
          "xref": "x",
          "y": "MDVP:Shimmer(dB)",
          "yref": "y"
         },
         {
          "font": {
           "color": "#FFFFFF"
          },
          "showarrow": false,
          "text": "-0.09",
          "x": "MDVP:Fo(Hz)",
          "xref": "x",
          "y": "Shimmer:APQ3",
          "yref": "y"
         },
         {
          "font": {
           "color": "#FFFFFF"
          },
          "showarrow": false,
          "text": "-0.0",
          "x": "MDVP:Fhi(Hz)",
          "xref": "x",
          "y": "Shimmer:APQ3",
          "yref": "y"
         },
         {
          "font": {
           "color": "#FFFFFF"
          },
          "showarrow": false,
          "text": "-0.15",
          "x": "MDVP:Flo(Hz)",
          "xref": "x",
          "y": "Shimmer:APQ3",
          "yref": "y"
         },
         {
          "font": {
           "color": "#FFFFFF"
          },
          "showarrow": false,
          "text": "0.75",
          "x": "MDVP:Jitter(%)",
          "xref": "x",
          "y": "Shimmer:APQ3",
          "yref": "y"
         },
         {
          "font": {
           "color": "#FFFFFF"
          },
          "showarrow": false,
          "text": "0.7",
          "x": "MDVP:Jitter(Abs)",
          "xref": "x",
          "y": "Shimmer:APQ3",
          "yref": "y"
         },
         {
          "font": {
           "color": "#FFFFFF"
          },
          "showarrow": false,
          "text": "0.74",
          "x": "MDVP:RAP",
          "xref": "x",
          "y": "Shimmer:APQ3",
          "yref": "y"
         },
         {
          "font": {
           "color": "#FFFFFF"
          },
          "showarrow": false,
          "text": "0.76",
          "x": "MDVP:PPQ",
          "xref": "x",
          "y": "Shimmer:APQ3",
          "yref": "y"
         },
         {
          "font": {
           "color": "#FFFFFF"
          },
          "showarrow": false,
          "text": "0.74",
          "x": "Jitter:DDP",
          "xref": "x",
          "y": "Shimmer:APQ3",
          "yref": "y"
         },
         {
          "font": {
           "color": "#FFFFFF"
          },
          "showarrow": false,
          "text": "0.99",
          "x": "MDVP:Shimmer",
          "xref": "x",
          "y": "Shimmer:APQ3",
          "yref": "y"
         },
         {
          "font": {
           "color": "#FFFFFF"
          },
          "showarrow": false,
          "text": "0.96",
          "x": "MDVP:Shimmer(dB)",
          "xref": "x",
          "y": "Shimmer:APQ3",
          "yref": "y"
         },
         {
          "font": {
           "color": "#FFFFFF"
          },
          "showarrow": false,
          "text": "1.0",
          "x": "Shimmer:APQ3",
          "xref": "x",
          "y": "Shimmer:APQ3",
          "yref": "y"
         },
         {
          "font": {
           "color": "#FFFFFF"
          },
          "showarrow": false,
          "text": "0.96",
          "x": "Shimmer:APQ5",
          "xref": "x",
          "y": "Shimmer:APQ3",
          "yref": "y"
         },
         {
          "font": {
           "color": "#FFFFFF"
          },
          "showarrow": false,
          "text": "0.9",
          "x": "MDVP:APQ",
          "xref": "x",
          "y": "Shimmer:APQ3",
          "yref": "y"
         },
         {
          "font": {
           "color": "#FFFFFF"
          },
          "showarrow": false,
          "text": "1.0",
          "x": "Shimmer:DDA",
          "xref": "x",
          "y": "Shimmer:APQ3",
          "yref": "y"
         },
         {
          "font": {
           "color": "#FFFFFF"
          },
          "showarrow": false,
          "text": "0.72",
          "x": "NHR",
          "xref": "x",
          "y": "Shimmer:APQ3",
          "yref": "y"
         },
         {
          "font": {
           "color": "#FFFFFF"
          },
          "showarrow": false,
          "text": "-0.83",
          "x": "HNR",
          "xref": "x",
          "y": "Shimmer:APQ3",
          "yref": "y"
         },
         {
          "font": {
           "color": "#FFFFFF"
          },
          "showarrow": false,
          "text": "0.35",
          "x": "status",
          "xref": "x",
          "y": "Shimmer:APQ3",
          "yref": "y"
         },
         {
          "font": {
           "color": "#FFFFFF"
          },
          "showarrow": false,
          "text": "0.44",
          "x": "RPDE",
          "xref": "x",
          "y": "Shimmer:APQ3",
          "yref": "y"
         },
         {
          "font": {
           "color": "#FFFFFF"
          },
          "showarrow": false,
          "text": "0.15",
          "x": "DFA",
          "xref": "x",
          "y": "Shimmer:APQ3",
          "yref": "y"
         },
         {
          "font": {
           "color": "#FFFFFF"
          },
          "showarrow": false,
          "text": "0.61",
          "x": "spread1",
          "xref": "x",
          "y": "Shimmer:APQ3",
          "yref": "y"
         },
         {
          "font": {
           "color": "#FFFFFF"
          },
          "showarrow": false,
          "text": "0.4",
          "x": "spread2",
          "xref": "x",
          "y": "Shimmer:APQ3",
          "yref": "y"
         },
         {
          "font": {
           "color": "#FFFFFF"
          },
          "showarrow": false,
          "text": "0.47",
          "x": "D2",
          "xref": "x",
          "y": "Shimmer:APQ3",
          "yref": "y"
         },
         {
          "font": {
           "color": "#FFFFFF"
          },
          "showarrow": false,
          "text": "0.65",
          "x": "PPE",
          "xref": "x",
          "y": "Shimmer:APQ3",
          "yref": "y"
         },
         {
          "font": {
           "color": "#FFFFFF"
          },
          "showarrow": false,
          "text": "-0.07",
          "x": "MDVP:Fo(Hz)",
          "xref": "x",
          "y": "Shimmer:APQ5",
          "yref": "y"
         },
         {
          "font": {
           "color": "#FFFFFF"
          },
          "showarrow": false,
          "text": "-0.01",
          "x": "MDVP:Fhi(Hz)",
          "xref": "x",
          "y": "Shimmer:APQ5",
          "yref": "y"
         },
         {
          "font": {
           "color": "#FFFFFF"
          },
          "showarrow": false,
          "text": "-0.1",
          "x": "MDVP:Flo(Hz)",
          "xref": "x",
          "y": "Shimmer:APQ5",
          "yref": "y"
         },
         {
          "font": {
           "color": "#FFFFFF"
          },
          "showarrow": false,
          "text": "0.73",
          "x": "MDVP:Jitter(%)",
          "xref": "x",
          "y": "Shimmer:APQ5",
          "yref": "y"
         },
         {
          "font": {
           "color": "#FFFFFF"
          },
          "showarrow": false,
          "text": "0.65",
          "x": "MDVP:Jitter(Abs)",
          "xref": "x",
          "y": "Shimmer:APQ5",
          "yref": "y"
         },
         {
          "font": {
           "color": "#FFFFFF"
          },
          "showarrow": false,
          "text": "0.71",
          "x": "MDVP:RAP",
          "xref": "x",
          "y": "Shimmer:APQ5",
          "yref": "y"
         },
         {
          "font": {
           "color": "#FFFFFF"
          },
          "showarrow": false,
          "text": "0.79",
          "x": "MDVP:PPQ",
          "xref": "x",
          "y": "Shimmer:APQ5",
          "yref": "y"
         },
         {
          "font": {
           "color": "#FFFFFF"
          },
          "showarrow": false,
          "text": "0.71",
          "x": "Jitter:DDP",
          "xref": "x",
          "y": "Shimmer:APQ5",
          "yref": "y"
         },
         {
          "font": {
           "color": "#FFFFFF"
          },
          "showarrow": false,
          "text": "0.98",
          "x": "MDVP:Shimmer",
          "xref": "x",
          "y": "Shimmer:APQ5",
          "yref": "y"
         },
         {
          "font": {
           "color": "#FFFFFF"
          },
          "showarrow": false,
          "text": "0.97",
          "x": "MDVP:Shimmer(dB)",
          "xref": "x",
          "y": "Shimmer:APQ5",
          "yref": "y"
         },
         {
          "font": {
           "color": "#FFFFFF"
          },
          "showarrow": false,
          "text": "0.96",
          "x": "Shimmer:APQ3",
          "xref": "x",
          "y": "Shimmer:APQ5",
          "yref": "y"
         },
         {
          "font": {
           "color": "#FFFFFF"
          },
          "showarrow": false,
          "text": "1.0",
          "x": "Shimmer:APQ5",
          "xref": "x",
          "y": "Shimmer:APQ5",
          "yref": "y"
         },
         {
          "font": {
           "color": "#FFFFFF"
          },
          "showarrow": false,
          "text": "0.95",
          "x": "MDVP:APQ",
          "xref": "x",
          "y": "Shimmer:APQ5",
          "yref": "y"
         },
         {
          "font": {
           "color": "#FFFFFF"
          },
          "showarrow": false,
          "text": "0.96",
          "x": "Shimmer:DDA",
          "xref": "x",
          "y": "Shimmer:APQ5",
          "yref": "y"
         },
         {
          "font": {
           "color": "#FFFFFF"
          },
          "showarrow": false,
          "text": "0.66",
          "x": "NHR",
          "xref": "x",
          "y": "Shimmer:APQ5",
          "yref": "y"
         },
         {
          "font": {
           "color": "#FFFFFF"
          },
          "showarrow": false,
          "text": "-0.81",
          "x": "HNR",
          "xref": "x",
          "y": "Shimmer:APQ5",
          "yref": "y"
         },
         {
          "font": {
           "color": "#FFFFFF"
          },
          "showarrow": false,
          "text": "0.35",
          "x": "status",
          "xref": "x",
          "y": "Shimmer:APQ5",
          "yref": "y"
         },
         {
          "font": {
           "color": "#FFFFFF"
          },
          "showarrow": false,
          "text": "0.4",
          "x": "RPDE",
          "xref": "x",
          "y": "Shimmer:APQ5",
          "yref": "y"
         },
         {
          "font": {
           "color": "#FFFFFF"
          },
          "showarrow": false,
          "text": "0.21",
          "x": "DFA",
          "xref": "x",
          "y": "Shimmer:APQ5",
          "yref": "y"
         },
         {
          "font": {
           "color": "#FFFFFF"
          },
          "showarrow": false,
          "text": "0.65",
          "x": "spread1",
          "xref": "x",
          "y": "Shimmer:APQ5",
          "yref": "y"
         },
         {
          "font": {
           "color": "#FFFFFF"
          },
          "showarrow": false,
          "text": "0.46",
          "x": "spread2",
          "xref": "x",
          "y": "Shimmer:APQ5",
          "yref": "y"
         },
         {
          "font": {
           "color": "#FFFFFF"
          },
          "showarrow": false,
          "text": "0.5",
          "x": "D2",
          "xref": "x",
          "y": "Shimmer:APQ5",
          "yref": "y"
         },
         {
          "font": {
           "color": "#FFFFFF"
          },
          "showarrow": false,
          "text": "0.7",
          "x": "PPE",
          "xref": "x",
          "y": "Shimmer:APQ5",
          "yref": "y"
         },
         {
          "font": {
           "color": "#FFFFFF"
          },
          "showarrow": false,
          "text": "-0.08",
          "x": "MDVP:Fo(Hz)",
          "xref": "x",
          "y": "MDVP:APQ",
          "yref": "y"
         },
         {
          "font": {
           "color": "#FFFFFF"
          },
          "showarrow": false,
          "text": "0.0",
          "x": "MDVP:Fhi(Hz)",
          "xref": "x",
          "y": "MDVP:APQ",
          "yref": "y"
         },
         {
          "font": {
           "color": "#FFFFFF"
          },
          "showarrow": false,
          "text": "-0.11",
          "x": "MDVP:Flo(Hz)",
          "xref": "x",
          "y": "MDVP:APQ",
          "yref": "y"
         },
         {
          "font": {
           "color": "#FFFFFF"
          },
          "showarrow": false,
          "text": "0.76",
          "x": "MDVP:Jitter(%)",
          "xref": "x",
          "y": "MDVP:APQ",
          "yref": "y"
         },
         {
          "font": {
           "color": "#FFFFFF"
          },
          "showarrow": false,
          "text": "0.65",
          "x": "MDVP:Jitter(Abs)",
          "xref": "x",
          "y": "MDVP:APQ",
          "yref": "y"
         },
         {
          "font": {
           "color": "#FFFFFF"
          },
          "showarrow": false,
          "text": "0.74",
          "x": "MDVP:RAP",
          "xref": "x",
          "y": "MDVP:APQ",
          "yref": "y"
         },
         {
          "font": {
           "color": "#FFFFFF"
          },
          "showarrow": false,
          "text": "0.8",
          "x": "MDVP:PPQ",
          "xref": "x",
          "y": "MDVP:APQ",
          "yref": "y"
         },
         {
          "font": {
           "color": "#FFFFFF"
          },
          "showarrow": false,
          "text": "0.74",
          "x": "Jitter:DDP",
          "xref": "x",
          "y": "MDVP:APQ",
          "yref": "y"
         },
         {
          "font": {
           "color": "#FFFFFF"
          },
          "showarrow": false,
          "text": "0.95",
          "x": "MDVP:Shimmer",
          "xref": "x",
          "y": "MDVP:APQ",
          "yref": "y"
         },
         {
          "font": {
           "color": "#FFFFFF"
          },
          "showarrow": false,
          "text": "0.96",
          "x": "MDVP:Shimmer(dB)",
          "xref": "x",
          "y": "MDVP:APQ",
          "yref": "y"
         },
         {
          "font": {
           "color": "#FFFFFF"
          },
          "showarrow": false,
          "text": "0.9",
          "x": "Shimmer:APQ3",
          "xref": "x",
          "y": "MDVP:APQ",
          "yref": "y"
         },
         {
          "font": {
           "color": "#FFFFFF"
          },
          "showarrow": false,
          "text": "0.95",
          "x": "Shimmer:APQ5",
          "xref": "x",
          "y": "MDVP:APQ",
          "yref": "y"
         },
         {
          "font": {
           "color": "#FFFFFF"
          },
          "showarrow": false,
          "text": "1.0",
          "x": "MDVP:APQ",
          "xref": "x",
          "y": "MDVP:APQ",
          "yref": "y"
         },
         {
          "font": {
           "color": "#FFFFFF"
          },
          "showarrow": false,
          "text": "0.9",
          "x": "Shimmer:DDA",
          "xref": "x",
          "y": "MDVP:APQ",
          "yref": "y"
         },
         {
          "font": {
           "color": "#FFFFFF"
          },
          "showarrow": false,
          "text": "0.69",
          "x": "NHR",
          "xref": "x",
          "y": "MDVP:APQ",
          "yref": "y"
         },
         {
          "font": {
           "color": "#FFFFFF"
          },
          "showarrow": false,
          "text": "-0.8",
          "x": "HNR",
          "xref": "x",
          "y": "MDVP:APQ",
          "yref": "y"
         },
         {
          "font": {
           "color": "#FFFFFF"
          },
          "showarrow": false,
          "text": "0.36",
          "x": "status",
          "xref": "x",
          "y": "MDVP:APQ",
          "yref": "y"
         },
         {
          "font": {
           "color": "#FFFFFF"
          },
          "showarrow": false,
          "text": "0.45",
          "x": "RPDE",
          "xref": "x",
          "y": "MDVP:APQ",
          "yref": "y"
         },
         {
          "font": {
           "color": "#FFFFFF"
          },
          "showarrow": false,
          "text": "0.16",
          "x": "DFA",
          "xref": "x",
          "y": "MDVP:APQ",
          "yref": "y"
         },
         {
          "font": {
           "color": "#FFFFFF"
          },
          "showarrow": false,
          "text": "0.67",
          "x": "spread1",
          "xref": "x",
          "y": "MDVP:APQ",
          "yref": "y"
         },
         {
          "font": {
           "color": "#FFFFFF"
          },
          "showarrow": false,
          "text": "0.5",
          "x": "spread2",
          "xref": "x",
          "y": "MDVP:APQ",
          "yref": "y"
         },
         {
          "font": {
           "color": "#FFFFFF"
          },
          "showarrow": false,
          "text": "0.54",
          "x": "D2",
          "xref": "x",
          "y": "MDVP:APQ",
          "yref": "y"
         },
         {
          "font": {
           "color": "#FFFFFF"
          },
          "showarrow": false,
          "text": "0.72",
          "x": "PPE",
          "xref": "x",
          "y": "MDVP:APQ",
          "yref": "y"
         },
         {
          "font": {
           "color": "#FFFFFF"
          },
          "showarrow": false,
          "text": "-0.09",
          "x": "MDVP:Fo(Hz)",
          "xref": "x",
          "y": "Shimmer:DDA",
          "yref": "y"
         },
         {
          "font": {
           "color": "#FFFFFF"
          },
          "showarrow": false,
          "text": "-0.0",
          "x": "MDVP:Fhi(Hz)",
          "xref": "x",
          "y": "Shimmer:DDA",
          "yref": "y"
         },
         {
          "font": {
           "color": "#FFFFFF"
          },
          "showarrow": false,
          "text": "-0.15",
          "x": "MDVP:Flo(Hz)",
          "xref": "x",
          "y": "Shimmer:DDA",
          "yref": "y"
         },
         {
          "font": {
           "color": "#FFFFFF"
          },
          "showarrow": false,
          "text": "0.75",
          "x": "MDVP:Jitter(%)",
          "xref": "x",
          "y": "Shimmer:DDA",
          "yref": "y"
         },
         {
          "font": {
           "color": "#FFFFFF"
          },
          "showarrow": false,
          "text": "0.7",
          "x": "MDVP:Jitter(Abs)",
          "xref": "x",
          "y": "Shimmer:DDA",
          "yref": "y"
         },
         {
          "font": {
           "color": "#FFFFFF"
          },
          "showarrow": false,
          "text": "0.74",
          "x": "MDVP:RAP",
          "xref": "x",
          "y": "Shimmer:DDA",
          "yref": "y"
         },
         {
          "font": {
           "color": "#FFFFFF"
          },
          "showarrow": false,
          "text": "0.76",
          "x": "MDVP:PPQ",
          "xref": "x",
          "y": "Shimmer:DDA",
          "yref": "y"
         },
         {
          "font": {
           "color": "#FFFFFF"
          },
          "showarrow": false,
          "text": "0.74",
          "x": "Jitter:DDP",
          "xref": "x",
          "y": "Shimmer:DDA",
          "yref": "y"
         },
         {
          "font": {
           "color": "#FFFFFF"
          },
          "showarrow": false,
          "text": "0.99",
          "x": "MDVP:Shimmer",
          "xref": "x",
          "y": "Shimmer:DDA",
          "yref": "y"
         },
         {
          "font": {
           "color": "#FFFFFF"
          },
          "showarrow": false,
          "text": "0.96",
          "x": "MDVP:Shimmer(dB)",
          "xref": "x",
          "y": "Shimmer:DDA",
          "yref": "y"
         },
         {
          "font": {
           "color": "#FFFFFF"
          },
          "showarrow": false,
          "text": "1.0",
          "x": "Shimmer:APQ3",
          "xref": "x",
          "y": "Shimmer:DDA",
          "yref": "y"
         },
         {
          "font": {
           "color": "#FFFFFF"
          },
          "showarrow": false,
          "text": "0.96",
          "x": "Shimmer:APQ5",
          "xref": "x",
          "y": "Shimmer:DDA",
          "yref": "y"
         },
         {
          "font": {
           "color": "#FFFFFF"
          },
          "showarrow": false,
          "text": "0.9",
          "x": "MDVP:APQ",
          "xref": "x",
          "y": "Shimmer:DDA",
          "yref": "y"
         },
         {
          "font": {
           "color": "#FFFFFF"
          },
          "showarrow": false,
          "text": "1.0",
          "x": "Shimmer:DDA",
          "xref": "x",
          "y": "Shimmer:DDA",
          "yref": "y"
         },
         {
          "font": {
           "color": "#FFFFFF"
          },
          "showarrow": false,
          "text": "0.72",
          "x": "NHR",
          "xref": "x",
          "y": "Shimmer:DDA",
          "yref": "y"
         },
         {
          "font": {
           "color": "#FFFFFF"
          },
          "showarrow": false,
          "text": "-0.83",
          "x": "HNR",
          "xref": "x",
          "y": "Shimmer:DDA",
          "yref": "y"
         },
         {
          "font": {
           "color": "#FFFFFF"
          },
          "showarrow": false,
          "text": "0.35",
          "x": "status",
          "xref": "x",
          "y": "Shimmer:DDA",
          "yref": "y"
         },
         {
          "font": {
           "color": "#FFFFFF"
          },
          "showarrow": false,
          "text": "0.44",
          "x": "RPDE",
          "xref": "x",
          "y": "Shimmer:DDA",
          "yref": "y"
         },
         {
          "font": {
           "color": "#FFFFFF"
          },
          "showarrow": false,
          "text": "0.15",
          "x": "DFA",
          "xref": "x",
          "y": "Shimmer:DDA",
          "yref": "y"
         },
         {
          "font": {
           "color": "#FFFFFF"
          },
          "showarrow": false,
          "text": "0.61",
          "x": "spread1",
          "xref": "x",
          "y": "Shimmer:DDA",
          "yref": "y"
         },
         {
          "font": {
           "color": "#FFFFFF"
          },
          "showarrow": false,
          "text": "0.4",
          "x": "spread2",
          "xref": "x",
          "y": "Shimmer:DDA",
          "yref": "y"
         },
         {
          "font": {
           "color": "#FFFFFF"
          },
          "showarrow": false,
          "text": "0.47",
          "x": "D2",
          "xref": "x",
          "y": "Shimmer:DDA",
          "yref": "y"
         },
         {
          "font": {
           "color": "#FFFFFF"
          },
          "showarrow": false,
          "text": "0.65",
          "x": "PPE",
          "xref": "x",
          "y": "Shimmer:DDA",
          "yref": "y"
         },
         {
          "font": {
           "color": "#FFFFFF"
          },
          "showarrow": false,
          "text": "-0.02",
          "x": "MDVP:Fo(Hz)",
          "xref": "x",
          "y": "NHR",
          "yref": "y"
         },
         {
          "font": {
           "color": "#FFFFFF"
          },
          "showarrow": false,
          "text": "0.16",
          "x": "MDVP:Fhi(Hz)",
          "xref": "x",
          "y": "NHR",
          "yref": "y"
         },
         {
          "font": {
           "color": "#FFFFFF"
          },
          "showarrow": false,
          "text": "-0.11",
          "x": "MDVP:Flo(Hz)",
          "xref": "x",
          "y": "NHR",
          "yref": "y"
         },
         {
          "font": {
           "color": "#FFFFFF"
          },
          "showarrow": false,
          "text": "0.91",
          "x": "MDVP:Jitter(%)",
          "xref": "x",
          "y": "NHR",
          "yref": "y"
         },
         {
          "font": {
           "color": "#FFFFFF"
          },
          "showarrow": false,
          "text": "0.83",
          "x": "MDVP:Jitter(Abs)",
          "xref": "x",
          "y": "NHR",
          "yref": "y"
         },
         {
          "font": {
           "color": "#FFFFFF"
          },
          "showarrow": false,
          "text": "0.92",
          "x": "MDVP:RAP",
          "xref": "x",
          "y": "NHR",
          "yref": "y"
         },
         {
          "font": {
           "color": "#FFFFFF"
          },
          "showarrow": false,
          "text": "0.84",
          "x": "MDVP:PPQ",
          "xref": "x",
          "y": "NHR",
          "yref": "y"
         },
         {
          "font": {
           "color": "#FFFFFF"
          },
          "showarrow": false,
          "text": "0.92",
          "x": "Jitter:DDP",
          "xref": "x",
          "y": "NHR",
          "yref": "y"
         },
         {
          "font": {
           "color": "#FFFFFF"
          },
          "showarrow": false,
          "text": "0.72",
          "x": "MDVP:Shimmer",
          "xref": "x",
          "y": "NHR",
          "yref": "y"
         },
         {
          "font": {
           "color": "#FFFFFF"
          },
          "showarrow": false,
          "text": "0.74",
          "x": "MDVP:Shimmer(dB)",
          "xref": "x",
          "y": "NHR",
          "yref": "y"
         },
         {
          "font": {
           "color": "#FFFFFF"
          },
          "showarrow": false,
          "text": "0.72",
          "x": "Shimmer:APQ3",
          "xref": "x",
          "y": "NHR",
          "yref": "y"
         },
         {
          "font": {
           "color": "#FFFFFF"
          },
          "showarrow": false,
          "text": "0.66",
          "x": "Shimmer:APQ5",
          "xref": "x",
          "y": "NHR",
          "yref": "y"
         },
         {
          "font": {
           "color": "#FFFFFF"
          },
          "showarrow": false,
          "text": "0.69",
          "x": "MDVP:APQ",
          "xref": "x",
          "y": "NHR",
          "yref": "y"
         },
         {
          "font": {
           "color": "#FFFFFF"
          },
          "showarrow": false,
          "text": "0.72",
          "x": "Shimmer:DDA",
          "xref": "x",
          "y": "NHR",
          "yref": "y"
         },
         {
          "font": {
           "color": "#FFFFFF"
          },
          "showarrow": false,
          "text": "1.0",
          "x": "NHR",
          "xref": "x",
          "y": "NHR",
          "yref": "y"
         },
         {
          "font": {
           "color": "#FFFFFF"
          },
          "showarrow": false,
          "text": "-0.71",
          "x": "HNR",
          "xref": "x",
          "y": "NHR",
          "yref": "y"
         },
         {
          "font": {
           "color": "#FFFFFF"
          },
          "showarrow": false,
          "text": "0.19",
          "x": "status",
          "xref": "x",
          "y": "NHR",
          "yref": "y"
         },
         {
          "font": {
           "color": "#FFFFFF"
          },
          "showarrow": false,
          "text": "0.37",
          "x": "RPDE",
          "xref": "x",
          "y": "NHR",
          "yref": "y"
         },
         {
          "font": {
           "color": "#FFFFFF"
          },
          "showarrow": false,
          "text": "-0.13",
          "x": "DFA",
          "xref": "x",
          "y": "NHR",
          "yref": "y"
         },
         {
          "font": {
           "color": "#FFFFFF"
          },
          "showarrow": false,
          "text": "0.54",
          "x": "spread1",
          "xref": "x",
          "y": "NHR",
          "yref": "y"
         },
         {
          "font": {
           "color": "#FFFFFF"
          },
          "showarrow": false,
          "text": "0.32",
          "x": "spread2",
          "xref": "x",
          "y": "NHR",
          "yref": "y"
         },
         {
          "font": {
           "color": "#FFFFFF"
          },
          "showarrow": false,
          "text": "0.47",
          "x": "D2",
          "xref": "x",
          "y": "NHR",
          "yref": "y"
         },
         {
          "font": {
           "color": "#FFFFFF"
          },
          "showarrow": false,
          "text": "0.55",
          "x": "PPE",
          "xref": "x",
          "y": "NHR",
          "yref": "y"
         },
         {
          "font": {
           "color": "#FFFFFF"
          },
          "showarrow": false,
          "text": "0.06",
          "x": "MDVP:Fo(Hz)",
          "xref": "x",
          "y": "HNR",
          "yref": "y"
         },
         {
          "font": {
           "color": "#FFFFFF"
          },
          "showarrow": false,
          "text": "-0.02",
          "x": "MDVP:Fhi(Hz)",
          "xref": "x",
          "y": "HNR",
          "yref": "y"
         },
         {
          "font": {
           "color": "#FFFFFF"
          },
          "showarrow": false,
          "text": "0.21",
          "x": "MDVP:Flo(Hz)",
          "xref": "x",
          "y": "HNR",
          "yref": "y"
         },
         {
          "font": {
           "color": "#FFFFFF"
          },
          "showarrow": false,
          "text": "-0.73",
          "x": "MDVP:Jitter(%)",
          "xref": "x",
          "y": "HNR",
          "yref": "y"
         },
         {
          "font": {
           "color": "#FFFFFF"
          },
          "showarrow": false,
          "text": "-0.66",
          "x": "MDVP:Jitter(Abs)",
          "xref": "x",
          "y": "HNR",
          "yref": "y"
         },
         {
          "font": {
           "color": "#FFFFFF"
          },
          "showarrow": false,
          "text": "-0.72",
          "x": "MDVP:RAP",
          "xref": "x",
          "y": "HNR",
          "yref": "y"
         },
         {
          "font": {
           "color": "#FFFFFF"
          },
          "showarrow": false,
          "text": "-0.73",
          "x": "MDVP:PPQ",
          "xref": "x",
          "y": "HNR",
          "yref": "y"
         },
         {
          "font": {
           "color": "#FFFFFF"
          },
          "showarrow": false,
          "text": "-0.72",
          "x": "Jitter:DDP",
          "xref": "x",
          "y": "HNR",
          "yref": "y"
         },
         {
          "font": {
           "color": "#FFFFFF"
          },
          "showarrow": false,
          "text": "-0.84",
          "x": "MDVP:Shimmer",
          "xref": "x",
          "y": "HNR",
          "yref": "y"
         },
         {
          "font": {
           "color": "#FFFFFF"
          },
          "showarrow": false,
          "text": "-0.83",
          "x": "MDVP:Shimmer(dB)",
          "xref": "x",
          "y": "HNR",
          "yref": "y"
         },
         {
          "font": {
           "color": "#FFFFFF"
          },
          "showarrow": false,
          "text": "-0.83",
          "x": "Shimmer:APQ3",
          "xref": "x",
          "y": "HNR",
          "yref": "y"
         },
         {
          "font": {
           "color": "#FFFFFF"
          },
          "showarrow": false,
          "text": "-0.81",
          "x": "Shimmer:APQ5",
          "xref": "x",
          "y": "HNR",
          "yref": "y"
         },
         {
          "font": {
           "color": "#FFFFFF"
          },
          "showarrow": false,
          "text": "-0.8",
          "x": "MDVP:APQ",
          "xref": "x",
          "y": "HNR",
          "yref": "y"
         },
         {
          "font": {
           "color": "#FFFFFF"
          },
          "showarrow": false,
          "text": "-0.83",
          "x": "Shimmer:DDA",
          "xref": "x",
          "y": "HNR",
          "yref": "y"
         },
         {
          "font": {
           "color": "#FFFFFF"
          },
          "showarrow": false,
          "text": "-0.71",
          "x": "NHR",
          "xref": "x",
          "y": "HNR",
          "yref": "y"
         },
         {
          "font": {
           "color": "#FFFFFF"
          },
          "showarrow": false,
          "text": "1.0",
          "x": "HNR",
          "xref": "x",
          "y": "HNR",
          "yref": "y"
         },
         {
          "font": {
           "color": "#FFFFFF"
          },
          "showarrow": false,
          "text": "-0.36",
          "x": "status",
          "xref": "x",
          "y": "HNR",
          "yref": "y"
         },
         {
          "font": {
           "color": "#FFFFFF"
          },
          "showarrow": false,
          "text": "-0.6",
          "x": "RPDE",
          "xref": "x",
          "y": "HNR",
          "yref": "y"
         },
         {
          "font": {
           "color": "#FFFFFF"
          },
          "showarrow": false,
          "text": "-0.01",
          "x": "DFA",
          "xref": "x",
          "y": "HNR",
          "yref": "y"
         },
         {
          "font": {
           "color": "#FFFFFF"
          },
          "showarrow": false,
          "text": "-0.67",
          "x": "spread1",
          "xref": "x",
          "y": "HNR",
          "yref": "y"
         },
         {
          "font": {
           "color": "#FFFFFF"
          },
          "showarrow": false,
          "text": "-0.43",
          "x": "spread2",
          "xref": "x",
          "y": "HNR",
          "yref": "y"
         },
         {
          "font": {
           "color": "#FFFFFF"
          },
          "showarrow": false,
          "text": "-0.6",
          "x": "D2",
          "xref": "x",
          "y": "HNR",
          "yref": "y"
         },
         {
          "font": {
           "color": "#FFFFFF"
          },
          "showarrow": false,
          "text": "-0.69",
          "x": "PPE",
          "xref": "x",
          "y": "HNR",
          "yref": "y"
         },
         {
          "font": {
           "color": "#FFFFFF"
          },
          "showarrow": false,
          "text": "-0.38",
          "x": "MDVP:Fo(Hz)",
          "xref": "x",
          "y": "status",
          "yref": "y"
         },
         {
          "font": {
           "color": "#FFFFFF"
          },
          "showarrow": false,
          "text": "-0.17",
          "x": "MDVP:Fhi(Hz)",
          "xref": "x",
          "y": "status",
          "yref": "y"
         },
         {
          "font": {
           "color": "#FFFFFF"
          },
          "showarrow": false,
          "text": "-0.38",
          "x": "MDVP:Flo(Hz)",
          "xref": "x",
          "y": "status",
          "yref": "y"
         },
         {
          "font": {
           "color": "#FFFFFF"
          },
          "showarrow": false,
          "text": "0.28",
          "x": "MDVP:Jitter(%)",
          "xref": "x",
          "y": "status",
          "yref": "y"
         },
         {
          "font": {
           "color": "#FFFFFF"
          },
          "showarrow": false,
          "text": "0.34",
          "x": "MDVP:Jitter(Abs)",
          "xref": "x",
          "y": "status",
          "yref": "y"
         },
         {
          "font": {
           "color": "#FFFFFF"
          },
          "showarrow": false,
          "text": "0.27",
          "x": "MDVP:RAP",
          "xref": "x",
          "y": "status",
          "yref": "y"
         },
         {
          "font": {
           "color": "#FFFFFF"
          },
          "showarrow": false,
          "text": "0.29",
          "x": "MDVP:PPQ",
          "xref": "x",
          "y": "status",
          "yref": "y"
         },
         {
          "font": {
           "color": "#FFFFFF"
          },
          "showarrow": false,
          "text": "0.27",
          "x": "Jitter:DDP",
          "xref": "x",
          "y": "status",
          "yref": "y"
         },
         {
          "font": {
           "color": "#FFFFFF"
          },
          "showarrow": false,
          "text": "0.37",
          "x": "MDVP:Shimmer",
          "xref": "x",
          "y": "status",
          "yref": "y"
         },
         {
          "font": {
           "color": "#FFFFFF"
          },
          "showarrow": false,
          "text": "0.35",
          "x": "MDVP:Shimmer(dB)",
          "xref": "x",
          "y": "status",
          "yref": "y"
         },
         {
          "font": {
           "color": "#FFFFFF"
          },
          "showarrow": false,
          "text": "0.35",
          "x": "Shimmer:APQ3",
          "xref": "x",
          "y": "status",
          "yref": "y"
         },
         {
          "font": {
           "color": "#FFFFFF"
          },
          "showarrow": false,
          "text": "0.35",
          "x": "Shimmer:APQ5",
          "xref": "x",
          "y": "status",
          "yref": "y"
         },
         {
          "font": {
           "color": "#FFFFFF"
          },
          "showarrow": false,
          "text": "0.36",
          "x": "MDVP:APQ",
          "xref": "x",
          "y": "status",
          "yref": "y"
         },
         {
          "font": {
           "color": "#FFFFFF"
          },
          "showarrow": false,
          "text": "0.35",
          "x": "Shimmer:DDA",
          "xref": "x",
          "y": "status",
          "yref": "y"
         },
         {
          "font": {
           "color": "#FFFFFF"
          },
          "showarrow": false,
          "text": "0.19",
          "x": "NHR",
          "xref": "x",
          "y": "status",
          "yref": "y"
         },
         {
          "font": {
           "color": "#FFFFFF"
          },
          "showarrow": false,
          "text": "-0.36",
          "x": "HNR",
          "xref": "x",
          "y": "status",
          "yref": "y"
         },
         {
          "font": {
           "color": "#FFFFFF"
          },
          "showarrow": false,
          "text": "1.0",
          "x": "status",
          "xref": "x",
          "y": "status",
          "yref": "y"
         },
         {
          "font": {
           "color": "#FFFFFF"
          },
          "showarrow": false,
          "text": "0.31",
          "x": "RPDE",
          "xref": "x",
          "y": "status",
          "yref": "y"
         },
         {
          "font": {
           "color": "#FFFFFF"
          },
          "showarrow": false,
          "text": "0.23",
          "x": "DFA",
          "xref": "x",
          "y": "status",
          "yref": "y"
         },
         {
          "font": {
           "color": "#FFFFFF"
          },
          "showarrow": false,
          "text": "0.56",
          "x": "spread1",
          "xref": "x",
          "y": "status",
          "yref": "y"
         },
         {
          "font": {
           "color": "#FFFFFF"
          },
          "showarrow": false,
          "text": "0.45",
          "x": "spread2",
          "xref": "x",
          "y": "status",
          "yref": "y"
         },
         {
          "font": {
           "color": "#FFFFFF"
          },
          "showarrow": false,
          "text": "0.34",
          "x": "D2",
          "xref": "x",
          "y": "status",
          "yref": "y"
         },
         {
          "font": {
           "color": "#FFFFFF"
          },
          "showarrow": false,
          "text": "0.53",
          "x": "PPE",
          "xref": "x",
          "y": "status",
          "yref": "y"
         },
         {
          "font": {
           "color": "#FFFFFF"
          },
          "showarrow": false,
          "text": "-0.38",
          "x": "MDVP:Fo(Hz)",
          "xref": "x",
          "y": "RPDE",
          "yref": "y"
         },
         {
          "font": {
           "color": "#FFFFFF"
          },
          "showarrow": false,
          "text": "-0.11",
          "x": "MDVP:Fhi(Hz)",
          "xref": "x",
          "y": "RPDE",
          "yref": "y"
         },
         {
          "font": {
           "color": "#FFFFFF"
          },
          "showarrow": false,
          "text": "-0.4",
          "x": "MDVP:Flo(Hz)",
          "xref": "x",
          "y": "RPDE",
          "yref": "y"
         },
         {
          "font": {
           "color": "#FFFFFF"
          },
          "showarrow": false,
          "text": "0.36",
          "x": "MDVP:Jitter(%)",
          "xref": "x",
          "y": "RPDE",
          "yref": "y"
         },
         {
          "font": {
           "color": "#FFFFFF"
          },
          "showarrow": false,
          "text": "0.44",
          "x": "MDVP:Jitter(Abs)",
          "xref": "x",
          "y": "RPDE",
          "yref": "y"
         },
         {
          "font": {
           "color": "#FFFFFF"
          },
          "showarrow": false,
          "text": "0.34",
          "x": "MDVP:RAP",
          "xref": "x",
          "y": "RPDE",
          "yref": "y"
         },
         {
          "font": {
           "color": "#FFFFFF"
          },
          "showarrow": false,
          "text": "0.33",
          "x": "MDVP:PPQ",
          "xref": "x",
          "y": "RPDE",
          "yref": "y"
         },
         {
          "font": {
           "color": "#FFFFFF"
          },
          "showarrow": false,
          "text": "0.34",
          "x": "Jitter:DDP",
          "xref": "x",
          "y": "RPDE",
          "yref": "y"
         },
         {
          "font": {
           "color": "#FFFFFF"
          },
          "showarrow": false,
          "text": "0.45",
          "x": "MDVP:Shimmer",
          "xref": "x",
          "y": "RPDE",
          "yref": "y"
         },
         {
          "font": {
           "color": "#FFFFFF"
          },
          "showarrow": false,
          "text": "0.41",
          "x": "MDVP:Shimmer(dB)",
          "xref": "x",
          "y": "RPDE",
          "yref": "y"
         },
         {
          "font": {
           "color": "#FFFFFF"
          },
          "showarrow": false,
          "text": "0.44",
          "x": "Shimmer:APQ3",
          "xref": "x",
          "y": "RPDE",
          "yref": "y"
         },
         {
          "font": {
           "color": "#FFFFFF"
          },
          "showarrow": false,
          "text": "0.4",
          "x": "Shimmer:APQ5",
          "xref": "x",
          "y": "RPDE",
          "yref": "y"
         },
         {
          "font": {
           "color": "#FFFFFF"
          },
          "showarrow": false,
          "text": "0.45",
          "x": "MDVP:APQ",
          "xref": "x",
          "y": "RPDE",
          "yref": "y"
         },
         {
          "font": {
           "color": "#FFFFFF"
          },
          "showarrow": false,
          "text": "0.44",
          "x": "Shimmer:DDA",
          "xref": "x",
          "y": "RPDE",
          "yref": "y"
         },
         {
          "font": {
           "color": "#FFFFFF"
          },
          "showarrow": false,
          "text": "0.37",
          "x": "NHR",
          "xref": "x",
          "y": "RPDE",
          "yref": "y"
         },
         {
          "font": {
           "color": "#FFFFFF"
          },
          "showarrow": false,
          "text": "-0.6",
          "x": "HNR",
          "xref": "x",
          "y": "RPDE",
          "yref": "y"
         },
         {
          "font": {
           "color": "#FFFFFF"
          },
          "showarrow": false,
          "text": "0.31",
          "x": "status",
          "xref": "x",
          "y": "RPDE",
          "yref": "y"
         },
         {
          "font": {
           "color": "#FFFFFF"
          },
          "showarrow": false,
          "text": "1.0",
          "x": "RPDE",
          "xref": "x",
          "y": "RPDE",
          "yref": "y"
         },
         {
          "font": {
           "color": "#FFFFFF"
          },
          "showarrow": false,
          "text": "-0.11",
          "x": "DFA",
          "xref": "x",
          "y": "RPDE",
          "yref": "y"
         },
         {
          "font": {
           "color": "#FFFFFF"
          },
          "showarrow": false,
          "text": "0.59",
          "x": "spread1",
          "xref": "x",
          "y": "RPDE",
          "yref": "y"
         },
         {
          "font": {
           "color": "#FFFFFF"
          },
          "showarrow": false,
          "text": "0.48",
          "x": "spread2",
          "xref": "x",
          "y": "RPDE",
          "yref": "y"
         },
         {
          "font": {
           "color": "#FFFFFF"
          },
          "showarrow": false,
          "text": "0.24",
          "x": "D2",
          "xref": "x",
          "y": "RPDE",
          "yref": "y"
         },
         {
          "font": {
           "color": "#FFFFFF"
          },
          "showarrow": false,
          "text": "0.55",
          "x": "PPE",
          "xref": "x",
          "y": "RPDE",
          "yref": "y"
         },
         {
          "font": {
           "color": "#FFFFFF"
          },
          "showarrow": false,
          "text": "-0.45",
          "x": "MDVP:Fo(Hz)",
          "xref": "x",
          "y": "DFA",
          "yref": "y"
         },
         {
          "font": {
           "color": "#FFFFFF"
          },
          "showarrow": false,
          "text": "-0.34",
          "x": "MDVP:Fhi(Hz)",
          "xref": "x",
          "y": "DFA",
          "yref": "y"
         },
         {
          "font": {
           "color": "#FFFFFF"
          },
          "showarrow": false,
          "text": "-0.05",
          "x": "MDVP:Flo(Hz)",
          "xref": "x",
          "y": "DFA",
          "yref": "y"
         },
         {
          "font": {
           "color": "#FFFFFF"
          },
          "showarrow": false,
          "text": "0.1",
          "x": "MDVP:Jitter(%)",
          "xref": "x",
          "y": "DFA",
          "yref": "y"
         },
         {
          "font": {
           "color": "#FFFFFF"
          },
          "showarrow": false,
          "text": "0.18",
          "x": "MDVP:Jitter(Abs)",
          "xref": "x",
          "y": "DFA",
          "yref": "y"
         },
         {
          "font": {
           "color": "#FFFFFF"
          },
          "showarrow": false,
          "text": "0.06",
          "x": "MDVP:RAP",
          "xref": "x",
          "y": "DFA",
          "yref": "y"
         },
         {
          "font": {
           "color": "#FFFFFF"
          },
          "showarrow": false,
          "text": "0.2",
          "x": "MDVP:PPQ",
          "xref": "x",
          "y": "DFA",
          "yref": "y"
         },
         {
          "font": {
           "color": "#FFFFFF"
          },
          "showarrow": false,
          "text": "0.06",
          "x": "Jitter:DDP",
          "xref": "x",
          "y": "DFA",
          "yref": "y"
         },
         {
          "font": {
           "color": "#FFFFFF"
          },
          "showarrow": false,
          "text": "0.16",
          "x": "MDVP:Shimmer",
          "xref": "x",
          "y": "DFA",
          "yref": "y"
         },
         {
          "font": {
           "color": "#FFFFFF"
          },
          "showarrow": false,
          "text": "0.17",
          "x": "MDVP:Shimmer(dB)",
          "xref": "x",
          "y": "DFA",
          "yref": "y"
         },
         {
          "font": {
           "color": "#FFFFFF"
          },
          "showarrow": false,
          "text": "0.15",
          "x": "Shimmer:APQ3",
          "xref": "x",
          "y": "DFA",
          "yref": "y"
         },
         {
          "font": {
           "color": "#FFFFFF"
          },
          "showarrow": false,
          "text": "0.21",
          "x": "Shimmer:APQ5",
          "xref": "x",
          "y": "DFA",
          "yref": "y"
         },
         {
          "font": {
           "color": "#FFFFFF"
          },
          "showarrow": false,
          "text": "0.16",
          "x": "MDVP:APQ",
          "xref": "x",
          "y": "DFA",
          "yref": "y"
         },
         {
          "font": {
           "color": "#FFFFFF"
          },
          "showarrow": false,
          "text": "0.15",
          "x": "Shimmer:DDA",
          "xref": "x",
          "y": "DFA",
          "yref": "y"
         },
         {
          "font": {
           "color": "#FFFFFF"
          },
          "showarrow": false,
          "text": "-0.13",
          "x": "NHR",
          "xref": "x",
          "y": "DFA",
          "yref": "y"
         },
         {
          "font": {
           "color": "#FFFFFF"
          },
          "showarrow": false,
          "text": "-0.01",
          "x": "HNR",
          "xref": "x",
          "y": "DFA",
          "yref": "y"
         },
         {
          "font": {
           "color": "#FFFFFF"
          },
          "showarrow": false,
          "text": "0.23",
          "x": "status",
          "xref": "x",
          "y": "DFA",
          "yref": "y"
         },
         {
          "font": {
           "color": "#FFFFFF"
          },
          "showarrow": false,
          "text": "-0.11",
          "x": "RPDE",
          "xref": "x",
          "y": "DFA",
          "yref": "y"
         },
         {
          "font": {
           "color": "#FFFFFF"
          },
          "showarrow": false,
          "text": "1.0",
          "x": "DFA",
          "xref": "x",
          "y": "DFA",
          "yref": "y"
         },
         {
          "font": {
           "color": "#FFFFFF"
          },
          "showarrow": false,
          "text": "0.2",
          "x": "spread1",
          "xref": "x",
          "y": "DFA",
          "yref": "y"
         },
         {
          "font": {
           "color": "#FFFFFF"
          },
          "showarrow": false,
          "text": "0.17",
          "x": "spread2",
          "xref": "x",
          "y": "DFA",
          "yref": "y"
         },
         {
          "font": {
           "color": "#FFFFFF"
          },
          "showarrow": false,
          "text": "-0.17",
          "x": "D2",
          "xref": "x",
          "y": "DFA",
          "yref": "y"
         },
         {
          "font": {
           "color": "#FFFFFF"
          },
          "showarrow": false,
          "text": "0.27",
          "x": "PPE",
          "xref": "x",
          "y": "DFA",
          "yref": "y"
         },
         {
          "font": {
           "color": "#FFFFFF"
          },
          "showarrow": false,
          "text": "-0.41",
          "x": "MDVP:Fo(Hz)",
          "xref": "x",
          "y": "spread1",
          "yref": "y"
         },
         {
          "font": {
           "color": "#FFFFFF"
          },
          "showarrow": false,
          "text": "-0.08",
          "x": "MDVP:Fhi(Hz)",
          "xref": "x",
          "y": "spread1",
          "yref": "y"
         },
         {
          "font": {
           "color": "#FFFFFF"
          },
          "showarrow": false,
          "text": "-0.39",
          "x": "MDVP:Flo(Hz)",
          "xref": "x",
          "y": "spread1",
          "yref": "y"
         },
         {
          "font": {
           "color": "#FFFFFF"
          },
          "showarrow": false,
          "text": "0.69",
          "x": "MDVP:Jitter(%)",
          "xref": "x",
          "y": "spread1",
          "yref": "y"
         },
         {
          "font": {
           "color": "#FFFFFF"
          },
          "showarrow": false,
          "text": "0.74",
          "x": "MDVP:Jitter(Abs)",
          "xref": "x",
          "y": "spread1",
          "yref": "y"
         },
         {
          "font": {
           "color": "#FFFFFF"
          },
          "showarrow": false,
          "text": "0.65",
          "x": "MDVP:RAP",
          "xref": "x",
          "y": "spread1",
          "yref": "y"
         },
         {
          "font": {
           "color": "#FFFFFF"
          },
          "showarrow": false,
          "text": "0.72",
          "x": "MDVP:PPQ",
          "xref": "x",
          "y": "spread1",
          "yref": "y"
         },
         {
          "font": {
           "color": "#FFFFFF"
          },
          "showarrow": false,
          "text": "0.65",
          "x": "Jitter:DDP",
          "xref": "x",
          "y": "spread1",
          "yref": "y"
         },
         {
          "font": {
           "color": "#FFFFFF"
          },
          "showarrow": false,
          "text": "0.65",
          "x": "MDVP:Shimmer",
          "xref": "x",
          "y": "spread1",
          "yref": "y"
         },
         {
          "font": {
           "color": "#FFFFFF"
          },
          "showarrow": false,
          "text": "0.65",
          "x": "MDVP:Shimmer(dB)",
          "xref": "x",
          "y": "spread1",
          "yref": "y"
         },
         {
          "font": {
           "color": "#FFFFFF"
          },
          "showarrow": false,
          "text": "0.61",
          "x": "Shimmer:APQ3",
          "xref": "x",
          "y": "spread1",
          "yref": "y"
         },
         {
          "font": {
           "color": "#FFFFFF"
          },
          "showarrow": false,
          "text": "0.65",
          "x": "Shimmer:APQ5",
          "xref": "x",
          "y": "spread1",
          "yref": "y"
         },
         {
          "font": {
           "color": "#FFFFFF"
          },
          "showarrow": false,
          "text": "0.67",
          "x": "MDVP:APQ",
          "xref": "x",
          "y": "spread1",
          "yref": "y"
         },
         {
          "font": {
           "color": "#FFFFFF"
          },
          "showarrow": false,
          "text": "0.61",
          "x": "Shimmer:DDA",
          "xref": "x",
          "y": "spread1",
          "yref": "y"
         },
         {
          "font": {
           "color": "#FFFFFF"
          },
          "showarrow": false,
          "text": "0.54",
          "x": "NHR",
          "xref": "x",
          "y": "spread1",
          "yref": "y"
         },
         {
          "font": {
           "color": "#FFFFFF"
          },
          "showarrow": false,
          "text": "-0.67",
          "x": "HNR",
          "xref": "x",
          "y": "spread1",
          "yref": "y"
         },
         {
          "font": {
           "color": "#FFFFFF"
          },
          "showarrow": false,
          "text": "0.56",
          "x": "status",
          "xref": "x",
          "y": "spread1",
          "yref": "y"
         },
         {
          "font": {
           "color": "#FFFFFF"
          },
          "showarrow": false,
          "text": "0.59",
          "x": "RPDE",
          "xref": "x",
          "y": "spread1",
          "yref": "y"
         },
         {
          "font": {
           "color": "#FFFFFF"
          },
          "showarrow": false,
          "text": "0.2",
          "x": "DFA",
          "xref": "x",
          "y": "spread1",
          "yref": "y"
         },
         {
          "font": {
           "color": "#FFFFFF"
          },
          "showarrow": false,
          "text": "1.0",
          "x": "spread1",
          "xref": "x",
          "y": "spread1",
          "yref": "y"
         },
         {
          "font": {
           "color": "#FFFFFF"
          },
          "showarrow": false,
          "text": "0.65",
          "x": "spread2",
          "xref": "x",
          "y": "spread1",
          "yref": "y"
         },
         {
          "font": {
           "color": "#FFFFFF"
          },
          "showarrow": false,
          "text": "0.5",
          "x": "D2",
          "xref": "x",
          "y": "spread1",
          "yref": "y"
         },
         {
          "font": {
           "color": "#FFFFFF"
          },
          "showarrow": false,
          "text": "0.96",
          "x": "PPE",
          "xref": "x",
          "y": "spread1",
          "yref": "y"
         },
         {
          "font": {
           "color": "#FFFFFF"
          },
          "showarrow": false,
          "text": "-0.25",
          "x": "MDVP:Fo(Hz)",
          "xref": "x",
          "y": "spread2",
          "yref": "y"
         },
         {
          "font": {
           "color": "#FFFFFF"
          },
          "showarrow": false,
          "text": "-0.0",
          "x": "MDVP:Fhi(Hz)",
          "xref": "x",
          "y": "spread2",
          "yref": "y"
         },
         {
          "font": {
           "color": "#FFFFFF"
          },
          "showarrow": false,
          "text": "-0.24",
          "x": "MDVP:Flo(Hz)",
          "xref": "x",
          "y": "spread2",
          "yref": "y"
         },
         {
          "font": {
           "color": "#FFFFFF"
          },
          "showarrow": false,
          "text": "0.39",
          "x": "MDVP:Jitter(%)",
          "xref": "x",
          "y": "spread2",
          "yref": "y"
         },
         {
          "font": {
           "color": "#FFFFFF"
          },
          "showarrow": false,
          "text": "0.39",
          "x": "MDVP:Jitter(Abs)",
          "xref": "x",
          "y": "spread2",
          "yref": "y"
         },
         {
          "font": {
           "color": "#FFFFFF"
          },
          "showarrow": false,
          "text": "0.32",
          "x": "MDVP:RAP",
          "xref": "x",
          "y": "spread2",
          "yref": "y"
         },
         {
          "font": {
           "color": "#FFFFFF"
          },
          "showarrow": false,
          "text": "0.41",
          "x": "MDVP:PPQ",
          "xref": "x",
          "y": "spread2",
          "yref": "y"
         },
         {
          "font": {
           "color": "#FFFFFF"
          },
          "showarrow": false,
          "text": "0.32",
          "x": "Jitter:DDP",
          "xref": "x",
          "y": "spread2",
          "yref": "y"
         },
         {
          "font": {
           "color": "#FFFFFF"
          },
          "showarrow": false,
          "text": "0.45",
          "x": "MDVP:Shimmer",
          "xref": "x",
          "y": "spread2",
          "yref": "y"
         },
         {
          "font": {
           "color": "#FFFFFF"
          },
          "showarrow": false,
          "text": "0.45",
          "x": "MDVP:Shimmer(dB)",
          "xref": "x",
          "y": "spread2",
          "yref": "y"
         },
         {
          "font": {
           "color": "#FFFFFF"
          },
          "showarrow": false,
          "text": "0.4",
          "x": "Shimmer:APQ3",
          "xref": "x",
          "y": "spread2",
          "yref": "y"
         },
         {
          "font": {
           "color": "#FFFFFF"
          },
          "showarrow": false,
          "text": "0.46",
          "x": "Shimmer:APQ5",
          "xref": "x",
          "y": "spread2",
          "yref": "y"
         },
         {
          "font": {
           "color": "#FFFFFF"
          },
          "showarrow": false,
          "text": "0.5",
          "x": "MDVP:APQ",
          "xref": "x",
          "y": "spread2",
          "yref": "y"
         },
         {
          "font": {
           "color": "#FFFFFF"
          },
          "showarrow": false,
          "text": "0.4",
          "x": "Shimmer:DDA",
          "xref": "x",
          "y": "spread2",
          "yref": "y"
         },
         {
          "font": {
           "color": "#FFFFFF"
          },
          "showarrow": false,
          "text": "0.32",
          "x": "NHR",
          "xref": "x",
          "y": "spread2",
          "yref": "y"
         },
         {
          "font": {
           "color": "#FFFFFF"
          },
          "showarrow": false,
          "text": "-0.43",
          "x": "HNR",
          "xref": "x",
          "y": "spread2",
          "yref": "y"
         },
         {
          "font": {
           "color": "#FFFFFF"
          },
          "showarrow": false,
          "text": "0.45",
          "x": "status",
          "xref": "x",
          "y": "spread2",
          "yref": "y"
         },
         {
          "font": {
           "color": "#FFFFFF"
          },
          "showarrow": false,
          "text": "0.48",
          "x": "RPDE",
          "xref": "x",
          "y": "spread2",
          "yref": "y"
         },
         {
          "font": {
           "color": "#FFFFFF"
          },
          "showarrow": false,
          "text": "0.17",
          "x": "DFA",
          "xref": "x",
          "y": "spread2",
          "yref": "y"
         },
         {
          "font": {
           "color": "#FFFFFF"
          },
          "showarrow": false,
          "text": "0.65",
          "x": "spread1",
          "xref": "x",
          "y": "spread2",
          "yref": "y"
         },
         {
          "font": {
           "color": "#FFFFFF"
          },
          "showarrow": false,
          "text": "1.0",
          "x": "spread2",
          "xref": "x",
          "y": "spread2",
          "yref": "y"
         },
         {
          "font": {
           "color": "#FFFFFF"
          },
          "showarrow": false,
          "text": "0.52",
          "x": "D2",
          "xref": "x",
          "y": "spread2",
          "yref": "y"
         },
         {
          "font": {
           "color": "#FFFFFF"
          },
          "showarrow": false,
          "text": "0.64",
          "x": "PPE",
          "xref": "x",
          "y": "spread2",
          "yref": "y"
         },
         {
          "font": {
           "color": "#FFFFFF"
          },
          "showarrow": false,
          "text": "0.18",
          "x": "MDVP:Fo(Hz)",
          "xref": "x",
          "y": "D2",
          "yref": "y"
         },
         {
          "font": {
           "color": "#FFFFFF"
          },
          "showarrow": false,
          "text": "0.18",
          "x": "MDVP:Fhi(Hz)",
          "xref": "x",
          "y": "D2",
          "yref": "y"
         },
         {
          "font": {
           "color": "#FFFFFF"
          },
          "showarrow": false,
          "text": "-0.1",
          "x": "MDVP:Flo(Hz)",
          "xref": "x",
          "y": "D2",
          "yref": "y"
         },
         {
          "font": {
           "color": "#FFFFFF"
          },
          "showarrow": false,
          "text": "0.43",
          "x": "MDVP:Jitter(%)",
          "xref": "x",
          "y": "D2",
          "yref": "y"
         },
         {
          "font": {
           "color": "#FFFFFF"
          },
          "showarrow": false,
          "text": "0.31",
          "x": "MDVP:Jitter(Abs)",
          "xref": "x",
          "y": "D2",
          "yref": "y"
         },
         {
          "font": {
           "color": "#FFFFFF"
          },
          "showarrow": false,
          "text": "0.43",
          "x": "MDVP:RAP",
          "xref": "x",
          "y": "D2",
          "yref": "y"
         },
         {
          "font": {
           "color": "#FFFFFF"
          },
          "showarrow": false,
          "text": "0.41",
          "x": "MDVP:PPQ",
          "xref": "x",
          "y": "D2",
          "yref": "y"
         },
         {
          "font": {
           "color": "#FFFFFF"
          },
          "showarrow": false,
          "text": "0.43",
          "x": "Jitter:DDP",
          "xref": "x",
          "y": "D2",
          "yref": "y"
         },
         {
          "font": {
           "color": "#FFFFFF"
          },
          "showarrow": false,
          "text": "0.51",
          "x": "MDVP:Shimmer",
          "xref": "x",
          "y": "D2",
          "yref": "y"
         },
         {
          "font": {
           "color": "#FFFFFF"
          },
          "showarrow": false,
          "text": "0.51",
          "x": "MDVP:Shimmer(dB)",
          "xref": "x",
          "y": "D2",
          "yref": "y"
         },
         {
          "font": {
           "color": "#FFFFFF"
          },
          "showarrow": false,
          "text": "0.47",
          "x": "Shimmer:APQ3",
          "xref": "x",
          "y": "D2",
          "yref": "y"
         },
         {
          "font": {
           "color": "#FFFFFF"
          },
          "showarrow": false,
          "text": "0.5",
          "x": "Shimmer:APQ5",
          "xref": "x",
          "y": "D2",
          "yref": "y"
         },
         {
          "font": {
           "color": "#FFFFFF"
          },
          "showarrow": false,
          "text": "0.54",
          "x": "MDVP:APQ",
          "xref": "x",
          "y": "D2",
          "yref": "y"
         },
         {
          "font": {
           "color": "#FFFFFF"
          },
          "showarrow": false,
          "text": "0.47",
          "x": "Shimmer:DDA",
          "xref": "x",
          "y": "D2",
          "yref": "y"
         },
         {
          "font": {
           "color": "#FFFFFF"
          },
          "showarrow": false,
          "text": "0.47",
          "x": "NHR",
          "xref": "x",
          "y": "D2",
          "yref": "y"
         },
         {
          "font": {
           "color": "#FFFFFF"
          },
          "showarrow": false,
          "text": "-0.6",
          "x": "HNR",
          "xref": "x",
          "y": "D2",
          "yref": "y"
         },
         {
          "font": {
           "color": "#FFFFFF"
          },
          "showarrow": false,
          "text": "0.34",
          "x": "status",
          "xref": "x",
          "y": "D2",
          "yref": "y"
         },
         {
          "font": {
           "color": "#FFFFFF"
          },
          "showarrow": false,
          "text": "0.24",
          "x": "RPDE",
          "xref": "x",
          "y": "D2",
          "yref": "y"
         },
         {
          "font": {
           "color": "#FFFFFF"
          },
          "showarrow": false,
          "text": "-0.17",
          "x": "DFA",
          "xref": "x",
          "y": "D2",
          "yref": "y"
         },
         {
          "font": {
           "color": "#FFFFFF"
          },
          "showarrow": false,
          "text": "0.5",
          "x": "spread1",
          "xref": "x",
          "y": "D2",
          "yref": "y"
         },
         {
          "font": {
           "color": "#FFFFFF"
          },
          "showarrow": false,
          "text": "0.52",
          "x": "spread2",
          "xref": "x",
          "y": "D2",
          "yref": "y"
         },
         {
          "font": {
           "color": "#FFFFFF"
          },
          "showarrow": false,
          "text": "1.0",
          "x": "D2",
          "xref": "x",
          "y": "D2",
          "yref": "y"
         },
         {
          "font": {
           "color": "#FFFFFF"
          },
          "showarrow": false,
          "text": "0.48",
          "x": "PPE",
          "xref": "x",
          "y": "D2",
          "yref": "y"
         },
         {
          "font": {
           "color": "#FFFFFF"
          },
          "showarrow": false,
          "text": "-0.37",
          "x": "MDVP:Fo(Hz)",
          "xref": "x",
          "y": "PPE",
          "yref": "y"
         },
         {
          "font": {
           "color": "#FFFFFF"
          },
          "showarrow": false,
          "text": "-0.07",
          "x": "MDVP:Fhi(Hz)",
          "xref": "x",
          "y": "PPE",
          "yref": "y"
         },
         {
          "font": {
           "color": "#FFFFFF"
          },
          "showarrow": false,
          "text": "-0.34",
          "x": "MDVP:Flo(Hz)",
          "xref": "x",
          "y": "PPE",
          "yref": "y"
         },
         {
          "font": {
           "color": "#FFFFFF"
          },
          "showarrow": false,
          "text": "0.72",
          "x": "MDVP:Jitter(%)",
          "xref": "x",
          "y": "PPE",
          "yref": "y"
         },
         {
          "font": {
           "color": "#FFFFFF"
          },
          "showarrow": false,
          "text": "0.75",
          "x": "MDVP:Jitter(Abs)",
          "xref": "x",
          "y": "PPE",
          "yref": "y"
         },
         {
          "font": {
           "color": "#FFFFFF"
          },
          "showarrow": false,
          "text": "0.67",
          "x": "MDVP:RAP",
          "xref": "x",
          "y": "PPE",
          "yref": "y"
         },
         {
          "font": {
           "color": "#FFFFFF"
          },
          "showarrow": false,
          "text": "0.77",
          "x": "MDVP:PPQ",
          "xref": "x",
          "y": "PPE",
          "yref": "y"
         },
         {
          "font": {
           "color": "#FFFFFF"
          },
          "showarrow": false,
          "text": "0.67",
          "x": "Jitter:DDP",
          "xref": "x",
          "y": "PPE",
          "yref": "y"
         },
         {
          "font": {
           "color": "#FFFFFF"
          },
          "showarrow": false,
          "text": "0.69",
          "x": "MDVP:Shimmer",
          "xref": "x",
          "y": "PPE",
          "yref": "y"
         },
         {
          "font": {
           "color": "#FFFFFF"
          },
          "showarrow": false,
          "text": "0.7",
          "x": "MDVP:Shimmer(dB)",
          "xref": "x",
          "y": "PPE",
          "yref": "y"
         },
         {
          "font": {
           "color": "#FFFFFF"
          },
          "showarrow": false,
          "text": "0.65",
          "x": "Shimmer:APQ3",
          "xref": "x",
          "y": "PPE",
          "yref": "y"
         },
         {
          "font": {
           "color": "#FFFFFF"
          },
          "showarrow": false,
          "text": "0.7",
          "x": "Shimmer:APQ5",
          "xref": "x",
          "y": "PPE",
          "yref": "y"
         },
         {
          "font": {
           "color": "#FFFFFF"
          },
          "showarrow": false,
          "text": "0.72",
          "x": "MDVP:APQ",
          "xref": "x",
          "y": "PPE",
          "yref": "y"
         },
         {
          "font": {
           "color": "#FFFFFF"
          },
          "showarrow": false,
          "text": "0.65",
          "x": "Shimmer:DDA",
          "xref": "x",
          "y": "PPE",
          "yref": "y"
         },
         {
          "font": {
           "color": "#FFFFFF"
          },
          "showarrow": false,
          "text": "0.55",
          "x": "NHR",
          "xref": "x",
          "y": "PPE",
          "yref": "y"
         },
         {
          "font": {
           "color": "#FFFFFF"
          },
          "showarrow": false,
          "text": "-0.69",
          "x": "HNR",
          "xref": "x",
          "y": "PPE",
          "yref": "y"
         },
         {
          "font": {
           "color": "#FFFFFF"
          },
          "showarrow": false,
          "text": "0.53",
          "x": "status",
          "xref": "x",
          "y": "PPE",
          "yref": "y"
         },
         {
          "font": {
           "color": "#FFFFFF"
          },
          "showarrow": false,
          "text": "0.55",
          "x": "RPDE",
          "xref": "x",
          "y": "PPE",
          "yref": "y"
         },
         {
          "font": {
           "color": "#FFFFFF"
          },
          "showarrow": false,
          "text": "0.27",
          "x": "DFA",
          "xref": "x",
          "y": "PPE",
          "yref": "y"
         },
         {
          "font": {
           "color": "#FFFFFF"
          },
          "showarrow": false,
          "text": "0.96",
          "x": "spread1",
          "xref": "x",
          "y": "PPE",
          "yref": "y"
         },
         {
          "font": {
           "color": "#FFFFFF"
          },
          "showarrow": false,
          "text": "0.64",
          "x": "spread2",
          "xref": "x",
          "y": "PPE",
          "yref": "y"
         },
         {
          "font": {
           "color": "#FFFFFF"
          },
          "showarrow": false,
          "text": "0.48",
          "x": "D2",
          "xref": "x",
          "y": "PPE",
          "yref": "y"
         },
         {
          "font": {
           "color": "#FFFFFF"
          },
          "showarrow": false,
          "text": "1.0",
          "x": "PPE",
          "xref": "x",
          "y": "PPE",
          "yref": "y"
         }
        ],
        "font": {
         "size": 10
        },
        "height": 800,
        "template": {
         "data": {
          "bar": [
           {
            "error_x": {
             "color": "#f2f5fa"
            },
            "error_y": {
             "color": "#f2f5fa"
            },
            "marker": {
             "line": {
              "color": "rgb(17,17,17)",
              "width": 0.5
             },
             "pattern": {
              "fillmode": "overlay",
              "size": 10,
              "solidity": 0.2
             }
            },
            "type": "bar"
           }
          ],
          "barpolar": [
           {
            "marker": {
             "line": {
              "color": "rgb(17,17,17)",
              "width": 0.5
             },
             "pattern": {
              "fillmode": "overlay",
              "size": 10,
              "solidity": 0.2
             }
            },
            "type": "barpolar"
           }
          ],
          "carpet": [
           {
            "aaxis": {
             "endlinecolor": "#A2B1C6",
             "gridcolor": "#506784",
             "linecolor": "#506784",
             "minorgridcolor": "#506784",
             "startlinecolor": "#A2B1C6"
            },
            "baxis": {
             "endlinecolor": "#A2B1C6",
             "gridcolor": "#506784",
             "linecolor": "#506784",
             "minorgridcolor": "#506784",
             "startlinecolor": "#A2B1C6"
            },
            "type": "carpet"
           }
          ],
          "choropleth": [
           {
            "colorbar": {
             "outlinewidth": 0,
             "ticks": ""
            },
            "type": "choropleth"
           }
          ],
          "contour": [
           {
            "colorbar": {
             "outlinewidth": 0,
             "ticks": ""
            },
            "colorscale": [
             [
              0,
              "#0d0887"
             ],
             [
              0.1111111111111111,
              "#46039f"
             ],
             [
              0.2222222222222222,
              "#7201a8"
             ],
             [
              0.3333333333333333,
              "#9c179e"
             ],
             [
              0.4444444444444444,
              "#bd3786"
             ],
             [
              0.5555555555555556,
              "#d8576b"
             ],
             [
              0.6666666666666666,
              "#ed7953"
             ],
             [
              0.7777777777777778,
              "#fb9f3a"
             ],
             [
              0.8888888888888888,
              "#fdca26"
             ],
             [
              1,
              "#f0f921"
             ]
            ],
            "type": "contour"
           }
          ],
          "contourcarpet": [
           {
            "colorbar": {
             "outlinewidth": 0,
             "ticks": ""
            },
            "type": "contourcarpet"
           }
          ],
          "heatmap": [
           {
            "colorbar": {
             "outlinewidth": 0,
             "ticks": ""
            },
            "colorscale": [
             [
              0,
              "#0d0887"
             ],
             [
              0.1111111111111111,
              "#46039f"
             ],
             [
              0.2222222222222222,
              "#7201a8"
             ],
             [
              0.3333333333333333,
              "#9c179e"
             ],
             [
              0.4444444444444444,
              "#bd3786"
             ],
             [
              0.5555555555555556,
              "#d8576b"
             ],
             [
              0.6666666666666666,
              "#ed7953"
             ],
             [
              0.7777777777777778,
              "#fb9f3a"
             ],
             [
              0.8888888888888888,
              "#fdca26"
             ],
             [
              1,
              "#f0f921"
             ]
            ],
            "type": "heatmap"
           }
          ],
          "heatmapgl": [
           {
            "colorbar": {
             "outlinewidth": 0,
             "ticks": ""
            },
            "colorscale": [
             [
              0,
              "#0d0887"
             ],
             [
              0.1111111111111111,
              "#46039f"
             ],
             [
              0.2222222222222222,
              "#7201a8"
             ],
             [
              0.3333333333333333,
              "#9c179e"
             ],
             [
              0.4444444444444444,
              "#bd3786"
             ],
             [
              0.5555555555555556,
              "#d8576b"
             ],
             [
              0.6666666666666666,
              "#ed7953"
             ],
             [
              0.7777777777777778,
              "#fb9f3a"
             ],
             [
              0.8888888888888888,
              "#fdca26"
             ],
             [
              1,
              "#f0f921"
             ]
            ],
            "type": "heatmapgl"
           }
          ],
          "histogram": [
           {
            "marker": {
             "pattern": {
              "fillmode": "overlay",
              "size": 10,
              "solidity": 0.2
             }
            },
            "type": "histogram"
           }
          ],
          "histogram2d": [
           {
            "colorbar": {
             "outlinewidth": 0,
             "ticks": ""
            },
            "colorscale": [
             [
              0,
              "#0d0887"
             ],
             [
              0.1111111111111111,
              "#46039f"
             ],
             [
              0.2222222222222222,
              "#7201a8"
             ],
             [
              0.3333333333333333,
              "#9c179e"
             ],
             [
              0.4444444444444444,
              "#bd3786"
             ],
             [
              0.5555555555555556,
              "#d8576b"
             ],
             [
              0.6666666666666666,
              "#ed7953"
             ],
             [
              0.7777777777777778,
              "#fb9f3a"
             ],
             [
              0.8888888888888888,
              "#fdca26"
             ],
             [
              1,
              "#f0f921"
             ]
            ],
            "type": "histogram2d"
           }
          ],
          "histogram2dcontour": [
           {
            "colorbar": {
             "outlinewidth": 0,
             "ticks": ""
            },
            "colorscale": [
             [
              0,
              "#0d0887"
             ],
             [
              0.1111111111111111,
              "#46039f"
             ],
             [
              0.2222222222222222,
              "#7201a8"
             ],
             [
              0.3333333333333333,
              "#9c179e"
             ],
             [
              0.4444444444444444,
              "#bd3786"
             ],
             [
              0.5555555555555556,
              "#d8576b"
             ],
             [
              0.6666666666666666,
              "#ed7953"
             ],
             [
              0.7777777777777778,
              "#fb9f3a"
             ],
             [
              0.8888888888888888,
              "#fdca26"
             ],
             [
              1,
              "#f0f921"
             ]
            ],
            "type": "histogram2dcontour"
           }
          ],
          "mesh3d": [
           {
            "colorbar": {
             "outlinewidth": 0,
             "ticks": ""
            },
            "type": "mesh3d"
           }
          ],
          "parcoords": [
           {
            "line": {
             "colorbar": {
              "outlinewidth": 0,
              "ticks": ""
             }
            },
            "type": "parcoords"
           }
          ],
          "pie": [
           {
            "automargin": true,
            "type": "pie"
           }
          ],
          "scatter": [
           {
            "marker": {
             "line": {
              "color": "#283442"
             }
            },
            "type": "scatter"
           }
          ],
          "scatter3d": [
           {
            "line": {
             "colorbar": {
              "outlinewidth": 0,
              "ticks": ""
             }
            },
            "marker": {
             "colorbar": {
              "outlinewidth": 0,
              "ticks": ""
             }
            },
            "type": "scatter3d"
           }
          ],
          "scattercarpet": [
           {
            "marker": {
             "colorbar": {
              "outlinewidth": 0,
              "ticks": ""
             }
            },
            "type": "scattercarpet"
           }
          ],
          "scattergeo": [
           {
            "marker": {
             "colorbar": {
              "outlinewidth": 0,
              "ticks": ""
             }
            },
            "type": "scattergeo"
           }
          ],
          "scattergl": [
           {
            "marker": {
             "line": {
              "color": "#283442"
             }
            },
            "type": "scattergl"
           }
          ],
          "scattermapbox": [
           {
            "marker": {
             "colorbar": {
              "outlinewidth": 0,
              "ticks": ""
             }
            },
            "type": "scattermapbox"
           }
          ],
          "scatterpolar": [
           {
            "marker": {
             "colorbar": {
              "outlinewidth": 0,
              "ticks": ""
             }
            },
            "type": "scatterpolar"
           }
          ],
          "scatterpolargl": [
           {
            "marker": {
             "colorbar": {
              "outlinewidth": 0,
              "ticks": ""
             }
            },
            "type": "scatterpolargl"
           }
          ],
          "scatterternary": [
           {
            "marker": {
             "colorbar": {
              "outlinewidth": 0,
              "ticks": ""
             }
            },
            "type": "scatterternary"
           }
          ],
          "surface": [
           {
            "colorbar": {
             "outlinewidth": 0,
             "ticks": ""
            },
            "colorscale": [
             [
              0,
              "#0d0887"
             ],
             [
              0.1111111111111111,
              "#46039f"
             ],
             [
              0.2222222222222222,
              "#7201a8"
             ],
             [
              0.3333333333333333,
              "#9c179e"
             ],
             [
              0.4444444444444444,
              "#bd3786"
             ],
             [
              0.5555555555555556,
              "#d8576b"
             ],
             [
              0.6666666666666666,
              "#ed7953"
             ],
             [
              0.7777777777777778,
              "#fb9f3a"
             ],
             [
              0.8888888888888888,
              "#fdca26"
             ],
             [
              1,
              "#f0f921"
             ]
            ],
            "type": "surface"
           }
          ],
          "table": [
           {
            "cells": {
             "fill": {
              "color": "#506784"
             },
             "line": {
              "color": "rgb(17,17,17)"
             }
            },
            "header": {
             "fill": {
              "color": "#2a3f5f"
             },
             "line": {
              "color": "rgb(17,17,17)"
             }
            },
            "type": "table"
           }
          ]
         },
         "layout": {
          "annotationdefaults": {
           "arrowcolor": "#f2f5fa",
           "arrowhead": 0,
           "arrowwidth": 1
          },
          "autotypenumbers": "strict",
          "coloraxis": {
           "colorbar": {
            "outlinewidth": 0,
            "ticks": ""
           }
          },
          "colorscale": {
           "diverging": [
            [
             0,
             "#8e0152"
            ],
            [
             0.1,
             "#c51b7d"
            ],
            [
             0.2,
             "#de77ae"
            ],
            [
             0.3,
             "#f1b6da"
            ],
            [
             0.4,
             "#fde0ef"
            ],
            [
             0.5,
             "#f7f7f7"
            ],
            [
             0.6,
             "#e6f5d0"
            ],
            [
             0.7,
             "#b8e186"
            ],
            [
             0.8,
             "#7fbc41"
            ],
            [
             0.9,
             "#4d9221"
            ],
            [
             1,
             "#276419"
            ]
           ],
           "sequential": [
            [
             0,
             "#0d0887"
            ],
            [
             0.1111111111111111,
             "#46039f"
            ],
            [
             0.2222222222222222,
             "#7201a8"
            ],
            [
             0.3333333333333333,
             "#9c179e"
            ],
            [
             0.4444444444444444,
             "#bd3786"
            ],
            [
             0.5555555555555556,
             "#d8576b"
            ],
            [
             0.6666666666666666,
             "#ed7953"
            ],
            [
             0.7777777777777778,
             "#fb9f3a"
            ],
            [
             0.8888888888888888,
             "#fdca26"
            ],
            [
             1,
             "#f0f921"
            ]
           ],
           "sequentialminus": [
            [
             0,
             "#0d0887"
            ],
            [
             0.1111111111111111,
             "#46039f"
            ],
            [
             0.2222222222222222,
             "#7201a8"
            ],
            [
             0.3333333333333333,
             "#9c179e"
            ],
            [
             0.4444444444444444,
             "#bd3786"
            ],
            [
             0.5555555555555556,
             "#d8576b"
            ],
            [
             0.6666666666666666,
             "#ed7953"
            ],
            [
             0.7777777777777778,
             "#fb9f3a"
            ],
            [
             0.8888888888888888,
             "#fdca26"
            ],
            [
             1,
             "#f0f921"
            ]
           ]
          },
          "colorway": [
           "#636efa",
           "#EF553B",
           "#00cc96",
           "#ab63fa",
           "#FFA15A",
           "#19d3f3",
           "#FF6692",
           "#B6E880",
           "#FF97FF",
           "#FECB52"
          ],
          "font": {
           "color": "#f2f5fa"
          },
          "geo": {
           "bgcolor": "rgb(17,17,17)",
           "lakecolor": "rgb(17,17,17)",
           "landcolor": "rgb(17,17,17)",
           "showlakes": true,
           "showland": true,
           "subunitcolor": "#506784"
          },
          "hoverlabel": {
           "align": "left"
          },
          "hovermode": "closest",
          "mapbox": {
           "style": "dark"
          },
          "paper_bgcolor": "rgb(17,17,17)",
          "plot_bgcolor": "rgb(17,17,17)",
          "polar": {
           "angularaxis": {
            "gridcolor": "#506784",
            "linecolor": "#506784",
            "ticks": ""
           },
           "bgcolor": "rgb(17,17,17)",
           "radialaxis": {
            "gridcolor": "#506784",
            "linecolor": "#506784",
            "ticks": ""
           }
          },
          "scene": {
           "xaxis": {
            "backgroundcolor": "rgb(17,17,17)",
            "gridcolor": "#506784",
            "gridwidth": 2,
            "linecolor": "#506784",
            "showbackground": true,
            "ticks": "",
            "zerolinecolor": "#C8D4E3"
           },
           "yaxis": {
            "backgroundcolor": "rgb(17,17,17)",
            "gridcolor": "#506784",
            "gridwidth": 2,
            "linecolor": "#506784",
            "showbackground": true,
            "ticks": "",
            "zerolinecolor": "#C8D4E3"
           },
           "zaxis": {
            "backgroundcolor": "rgb(17,17,17)",
            "gridcolor": "#506784",
            "gridwidth": 2,
            "linecolor": "#506784",
            "showbackground": true,
            "ticks": "",
            "zerolinecolor": "#C8D4E3"
           }
          },
          "shapedefaults": {
           "line": {
            "color": "#f2f5fa"
           }
          },
          "sliderdefaults": {
           "bgcolor": "#C8D4E3",
           "bordercolor": "rgb(17,17,17)",
           "borderwidth": 1,
           "tickwidth": 0
          },
          "ternary": {
           "aaxis": {
            "gridcolor": "#506784",
            "linecolor": "#506784",
            "ticks": ""
           },
           "baxis": {
            "gridcolor": "#506784",
            "linecolor": "#506784",
            "ticks": ""
           },
           "bgcolor": "rgb(17,17,17)",
           "caxis": {
            "gridcolor": "#506784",
            "linecolor": "#506784",
            "ticks": ""
           }
          },
          "title": {
           "x": 0.05
          },
          "updatemenudefaults": {
           "bgcolor": "#506784",
           "borderwidth": 0
          },
          "xaxis": {
           "automargin": true,
           "gridcolor": "#283442",
           "linecolor": "#506784",
           "ticks": "",
           "title": {
            "standoff": 15
           },
           "zerolinecolor": "#283442",
           "zerolinewidth": 2
          },
          "yaxis": {
           "automargin": true,
           "gridcolor": "#283442",
           "linecolor": "#506784",
           "ticks": "",
           "title": {
            "standoff": 15
           },
           "zerolinecolor": "#283442",
           "zerolinewidth": 2
          }
         }
        },
        "title": {
         "text": "Correlation Matrix"
        },
        "width": 800,
        "xaxis": {
         "autorange": true,
         "dtick": 1,
         "gridcolor": "rgb(0, 0, 0)",
         "range": [
          -0.62,
          22.62
         ],
         "side": "top",
         "ticks": "",
         "type": "category"
        },
        "yaxis": {
         "autorange": true,
         "dtick": 1,
         "range": [
          -0.5,
          22.5
         ],
         "ticks": "",
         "ticksuffix": "  ",
         "type": "category"
        }
       }
      },
      "image/png": "[encoded data removed]",
      "text/html": [
       "<div>                            <div id=\"b1e4a002-a869-4b76-b87e-3379ea00ef4c\" class=\"plotly-graph-div\" style=\"height:800px; width:800px;\"></div>            <script type=\"text/javascript\">                require([\"plotly\"], function(Plotly) {                    window.PLOTLYENV=window.PLOTLYENV || {};                                    if (document.getElementById(\"b1e4a002-a869-4b76-b87e-3379ea00ef4c\")) {                    Plotly.newPlot(                        \"b1e4a002-a869-4b76-b87e-3379ea00ef4c\",                        [{\"colorscale\":[[0.0,\"#30123b\"],[0.07142857142857142,\"#4145ab\"],[0.14285714285714285,\"#4675ed\"],[0.21428571428571427,\"#39a2fc\"],[0.2857142857142857,\"#1bcfd4\"],[0.35714285714285715,\"#24eca6\"],[0.42857142857142855,\"#61fc6c\"],[0.5,\"#a4fc3b\"],[0.5714285714285714,\"#d1e834\"],[0.6428571428571429,\"#f3c63a\"],[0.7142857142857143,\"#fe9b2d\"],[0.7857142857142857,\"#f36315\"],[0.8571428571428571,\"#d93806\"],[0.9285714285714286,\"#b11901\"],[1.0,\"#7a0402\"]],\"reversescale\":false,\"showscale\":true,\"x\":[\"MDVP:Fo(Hz)\",\"MDVP:Fhi(Hz)\",\"MDVP:Flo(Hz)\",\"MDVP:Jitter(%)\",\"MDVP:Jitter(Abs)\",\"MDVP:RAP\",\"MDVP:PPQ\",\"Jitter:DDP\",\"MDVP:Shimmer\",\"MDVP:Shimmer(dB)\",\"Shimmer:APQ3\",\"Shimmer:APQ5\",\"MDVP:APQ\",\"Shimmer:DDA\",\"NHR\",\"HNR\",\"status\",\"RPDE\",\"DFA\",\"spread1\",\"spread2\",\"D2\",\"PPE\"],\"y\":[\"MDVP:Fo(Hz)\",\"MDVP:Fhi(Hz)\",\"MDVP:Flo(Hz)\",\"MDVP:Jitter(%)\",\"MDVP:Jitter(Abs)\",\"MDVP:RAP\",\"MDVP:PPQ\",\"Jitter:DDP\",\"MDVP:Shimmer\",\"MDVP:Shimmer(dB)\",\"Shimmer:APQ3\",\"Shimmer:APQ5\",\"MDVP:APQ\",\"Shimmer:DDA\",\"NHR\",\"HNR\",\"status\",\"RPDE\",\"DFA\",\"spread1\",\"spread2\",\"D2\",\"PPE\"],\"z\":[[1.0,0.400984676246063,0.5965455187557581,-0.11800263427894579,-0.3820266504663678,-0.07619381346479433,-0.11216542705872061,-0.07621269300516523,-0.09837374829584043,-0.07374245609073365,-0.0947170621194912,-0.07068178479968985,-0.07777381916221815,-0.09473156705289977,-0.021980775454139723,0.05914438737203222,-0.3835351511879843,-0.38389389817011094,-0.44601329189881533,-0.41373816906269145,-0.24945004590316408,0.17797951124377967,-0.3723563762117115],[0.400984676246063,1.0,0.08495125082573743,0.10208634926247942,-0.029198333408944854,0.09717661865552282,0.09112619350801972,0.09714986733954807,0.0022812312855108215,0.04346516418997709,-0.0037432508049241226,-0.009996776333901019,0.004936984593305436,-0.0037328930569046448,0.16376640355829544,-0.024893140111423944,-0.16613634721043585,-0.11240351340948893,-0.34309672394058466,-0.07665780081874446,-0.0029536140264944683,0.176322817737353,-0.06954300158643284],[0.5965455187557581,0.08495125082573743,1.0,-0.13991889088796255,-0.2778152408967079,-0.10051931926087963,-0.0958283660127037,-0.10048768027765027,-0.14454332390202176,-0.11908865234123221,-0.15074650251395216,-0.10109461598556982,-0.10729342298553768,-0.1507367363097968,-0.10867044514662783,0.2108508977145553,-0.38020043070127174,-0.40014306648170456,-0.05040630712091805,-0.39485735863611066,-0.24382940268243491,-0.10062908738021632,-0.3400713417130427],[-0.11800263427894579,0.10208634926247942,-0.13991889088796255,1.0,0.9357139812023576,0.9902755852458324,0.9742563864635724,0.9902762153275699,0.7690632347556402,0.8042892804109836,0.746625201439508,0.7255610027610432,0.7582552552660887,0.7466351724740432,0.9069586005733022,-0.728165073683029,0.2782195982792976,0.36067348477688616,0.09857244224833091,0.6935767056718979,0.3851234732049305,0.4334340169608591,0.7215429322160547],[-0.3820266504663678,-0.029198333408944854,-0.2778152408967079,0.9357139812023576,1.0,0.9229109688984641,0.8977779044154587,0.9229130329829802,0.7033223722797606,0.7166012833303699,0.6971530271575993,0.6489606955014681,0.6487934422057566,0.6971697059095131,0.834972175372741,-0.6568095934698216,0.33865309807934696,0.4418385550109511,0.1750359924060526,0.7357792295607326,0.38854283523905564,0.31069444660049556,0.7481616539833134],[-0.07619381346479433,0.09717661865552282,-0.10051931926087963,0.9902755852458324,0.9229109688984641,1.0,0.9573168930480012,0.9999996001041346,0.759580521417032,0.7906515453207152,0.7449123568558381,0.7099268229736406,0.7374546661656013,0.7449192282551104,0.9195207096034025,-0.7215431601882,0.26666755653419655,0.34213980461956583,0.06408301887028978,0.6483277660337077,0.3244071793719276,0.42660538057733915,0.6709990451615564],[-0.11216542705872061,0.09112619350801972,-0.0958283660127037,0.9742563864635724,0.8977779044154587,0.9573168930480012,1.0,0.9573191582070275,0.7978260251663125,0.8392389388017151,0.7635799155343806,0.7867804738318485,0.8041393030861171,0.7635921605350862,0.8446035313113316,-0.7315104660188033,0.28869834669063865,0.3332741474462124,0.19630142439433995,0.7164886367467859,0.4076054773904926,0.4125236818817847,0.769647290695728],[-0.07621269300516523,0.09714986733954807,-0.10048768027765027,0.9902762153275699,0.9229130329829802,0.9999996001041346,0.9573191582070275,1.0,0.7595546996942697,0.790620600403772,0.7448937646921454,0.7099070853805517,0.7374386749396065,0.7449006202578067,0.9195481848735726,-0.7214943702167113,0.2666460942115804,0.3420794780767535,0.06402640066610338,0.6483275504831423,0.3243768521621534,0.42655576181259375,0.6710052524512012],[-0.09837374829584043,0.0022812312855108215,-0.14454332390202176,0.7690632347556402,0.7033223722797606,0.759580521417032,0.7978260251663125,0.7595546996942697,1.0,0.9872578145507636,0.9876250519099831,0.9828354477070603,0.9500828933606196,0.9876256527301991,0.7221944544438803,-0.8352706760187872,0.3674298598935418,0.44742364497080594,0.1599536181078859,0.654734299579934,0.4520248258345715,0.5070882809156209,0.6937707204181819],[-0.07374245609073365,0.04346516418997709,-0.11908865234123221,0.8042892804109836,0.7166012833303699,0.7906515453207152,0.8392389388017151,0.790620600403772,0.9872578145507636,1.0,0.9631980852351487,0.9737505606234652,0.9609767232961025,0.9632017037204204,0.7444772830593587,-0.8278053459625166,0.35069690571747497,0.41068379949819106,0.16515658020856816,0.6525466647104954,0.45431437259803187,0.5122331686060015,0.6950581251208202],[-0.0947170621194912,-0.0037432508049241226,-0.15074650251395216,0.746625201439508,0.6971530271575993,0.7449123568558381,0.7635799155343806,0.7448937646921454,0.9876250519099831,0.9631980852351487,1.0,0.9600697638028992,0.8966445192684656,0.9999999636932835,0.7162067352312057,-0.8271233108794721,0.34761696522403324,0.4352424246204064,0.1511244644004547,0.6109673624504394,0.40224295441348107,0.4672654299918025,0.6453766860843696],[-0.07068178479968985,-0.009996776333901019,-0.10109461598556982,0.7255610027610432,0.6489606955014681,0.7099268229736406,0.7867804738318485,0.7099070853805517,0.9828354477070603,0.9737505606234652,0.9600697638028992,1.0,0.9491461105717156,0.9600715928435893,0.6580797585441377,-0.8137527888760941,0.35114843593802664,0.3999028494726733,0.21387310241726257,0.6468089329108885,0.45719494530192417,0.5021744331725523,0.7024556640756282],[-0.07777381916221815,0.004936984593305436,-0.10729342298553768,0.7582552552660887,0.6487934422057566,0.7374546661656013,0.8041393030861171,0.7374386749396065,0.9500828933606196,0.9609767232961025,0.8966445192684656,0.9491461105717156,1.0,0.8966467659005807,0.6940190491984044,-0.8004065614900296,0.3643157392231119,0.45137905017848834,0.1572757835244971,0.6731581405432578,0.5021878857205962,0.5368690283391933,0.7216939533492276],[-0.09473156705289977,-0.0037328930569046448,-0.1507367363097968,0.7466351724740432,0.6971697059095131,0.7449192282551104,0.7635921605350862,0.7449006202578067,0.9876256527301991,0.9632017037204204,0.9999999636932835,0.9600715928435893,0.8966467659005807,1.0,0.7162145388970821,-0.8271302021986698,0.34760835453797745,0.4352373024523331,0.15113239377157112,0.6109712127400587,0.40222309193165273,0.46726137419039365,0.6453889543264241],[-0.021980775454139723,0.16376640355829544,-0.10867044514662783,0.9069586005733022,0.834972175372741,0.9195207096034025,0.8446035313113316,0.9195481848735726,0.7221944544438803,0.7444772830593587,0.7162067352312057,0.6580797585441377,0.6940190491984044,0.7162145388970821,1.0,-0.7140724302477724,0.18942931888728265,0.370890489192788,-0.1318817425127101,0.5408651376738496,0.31809896172776425,0.47094875655300694,0.5525912721487585],[0.05914438737203222,-0.024893140111423944,0.2108508977145553,-0.728165073683029,-0.6568095934698216,-0.7215431601882,-0.7315104660188033,-0.7214943702167113,-0.8352706760187872,-0.8278053459625166,-0.8271233108794721,-0.8137527888760941,-0.8004065614900296,-0.8271302021986698,-0.7140724302477724,1.0,-0.3615148666997222,-0.598736336791991,-0.008664939255232807,-0.6732098179814572,-0.43156374802708947,-0.601401006196737,-0.6928758533354252],[-0.3835351511879843,-0.16613634721043585,-0.38020043070127174,0.2782195982792976,0.33865309807934696,0.26666755653419655,0.28869834669063865,0.2666460942115804,0.3674298598935418,0.35069690571747497,0.34761696522403324,0.35114843593802664,0.3643157392231119,0.34760835453797745,0.18942931888728265,-0.3615148666997222,1.0,0.30856725130270335,0.2317392727603787,0.5648379969876433,0.4548421261086424,0.3402315098803638,0.5310391538731207],[-0.38389389817011094,-0.11240351340948893,-0.40014306648170456,0.36067348477688616,0.4418385550109511,0.34213980461956583,0.3332741474462124,0.3420794780767535,0.44742364497080594,0.41068379949819106,0.4352424246204064,0.3999028494726733,0.45137905017848834,0.4352373024523331,0.370890489192788,-0.598736336791991,0.30856725130270335,1.0,-0.1109499603192649,0.5911169605769877,0.4799045280925974,0.2369313530810479,0.5458857453794111],[-0.44601329189881533,-0.34309672394058466,-0.05040630712091805,0.09857244224833091,0.1750359924060526,0.06408301887028978,0.19630142439433995,0.06402640066610338,0.1599536181078859,0.16515658020856816,0.1511244644004547,0.21387310241726257,0.1572757835244971,0.15113239377157112,-0.1318817425127101,-0.008664939255232807,0.2317392727603787,-0.1109499603192649,1.0,0.19566840324942594,0.1665481111816505,-0.1653810352859944,0.270444747455759],[-0.41373816906269145,-0.07665780081874446,-0.39485735863611066,0.6935767056718979,0.7357792295607326,0.6483277660337077,0.7164886367467859,0.6483275504831423,0.654734299579934,0.6525466647104954,0.6109673624504394,0.6468089329108885,0.6731581405432578,0.6109712127400587,0.5408651376738496,-0.6732098179814572,0.5648379969876433,0.5911169605769877,0.19566840324942594,1.0,0.6523578119076812,0.4951227245364616,0.9624352932572805],[-0.24945004590316408,-0.0029536140264944683,-0.24382940268243491,0.3851234732049305,0.38854283523905564,0.3244071793719276,0.4076054773904926,0.3243768521621534,0.4520248258345715,0.45431437259803187,0.40224295441348107,0.45719494530192417,0.5021878857205962,0.40222309193165273,0.31809896172776425,-0.43156374802708947,0.4548421261086424,0.4799045280925974,0.1665481111816505,0.6523578119076812,1.0,0.5235317348384103,0.6447109591546178],[0.17797951124377967,0.176322817737353,-0.10062908738021632,0.4334340169608591,0.31069444660049556,0.42660538057733915,0.4125236818817847,0.42655576181259375,0.5070882809156209,0.5122331686060015,0.4672654299918025,0.5021744331725523,0.5368690283391933,0.46726137419039365,0.47094875655300694,-0.601401006196737,0.3402315098803638,0.2369313530810479,-0.1653810352859944,0.4951227245364616,0.5235317348384103,1.0,0.480584544421794],[-0.3723563762117115,-0.06954300158643284,-0.3400713417130427,0.7215429322160547,0.7481616539833134,0.6709990451615564,0.769647290695728,0.6710052524512012,0.6937707204181819,0.6950581251208202,0.6453766860843696,0.7024556640756282,0.7216939533492276,0.6453889543264241,0.5525912721487585,-0.6928758533354252,0.5310391538731207,0.5458857453794111,0.270444747455759,0.9624352932572805,0.6447109591546178,0.480584544421794,1.0]],\"type\":\"heatmap\"}],                        {\"annotations\":[{\"font\":{\"color\":\"#FFFFFF\"},\"showarrow\":false,\"text\":\"1.0\",\"x\":\"MDVP:Fo(Hz)\",\"xref\":\"x\",\"y\":\"MDVP:Fo(Hz)\",\"yref\":\"y\"},{\"font\":{\"color\":\"#FFFFFF\"},\"showarrow\":false,\"text\":\"0.4\",\"x\":\"MDVP:Fhi(Hz)\",\"xref\":\"x\",\"y\":\"MDVP:Fo(Hz)\",\"yref\":\"y\"},{\"font\":{\"color\":\"#FFFFFF\"},\"showarrow\":false,\"text\":\"0.6\",\"x\":\"MDVP:Flo(Hz)\",\"xref\":\"x\",\"y\":\"MDVP:Fo(Hz)\",\"yref\":\"y\"},{\"font\":{\"color\":\"#FFFFFF\"},\"showarrow\":false,\"text\":\"-0.12\",\"x\":\"MDVP:Jitter(%)\",\"xref\":\"x\",\"y\":\"MDVP:Fo(Hz)\",\"yref\":\"y\"},{\"font\":{\"color\":\"#FFFFFF\"},\"showarrow\":false,\"text\":\"-0.38\",\"x\":\"MDVP:Jitter(Abs)\",\"xref\":\"x\",\"y\":\"MDVP:Fo(Hz)\",\"yref\":\"y\"},{\"font\":{\"color\":\"#FFFFFF\"},\"showarrow\":false,\"text\":\"-0.08\",\"x\":\"MDVP:RAP\",\"xref\":\"x\",\"y\":\"MDVP:Fo(Hz)\",\"yref\":\"y\"},{\"font\":{\"color\":\"#FFFFFF\"},\"showarrow\":false,\"text\":\"-0.11\",\"x\":\"MDVP:PPQ\",\"xref\":\"x\",\"y\":\"MDVP:Fo(Hz)\",\"yref\":\"y\"},{\"font\":{\"color\":\"#FFFFFF\"},\"showarrow\":false,\"text\":\"-0.08\",\"x\":\"Jitter:DDP\",\"xref\":\"x\",\"y\":\"MDVP:Fo(Hz)\",\"yref\":\"y\"},{\"font\":{\"color\":\"#FFFFFF\"},\"showarrow\":false,\"text\":\"-0.1\",\"x\":\"MDVP:Shimmer\",\"xref\":\"x\",\"y\":\"MDVP:Fo(Hz)\",\"yref\":\"y\"},{\"font\":{\"color\":\"#FFFFFF\"},\"showarrow\":false,\"text\":\"-0.07\",\"x\":\"MDVP:Shimmer(dB)\",\"xref\":\"x\",\"y\":\"MDVP:Fo(Hz)\",\"yref\":\"y\"},{\"font\":{\"color\":\"#FFFFFF\"},\"showarrow\":false,\"text\":\"-0.09\",\"x\":\"Shimmer:APQ3\",\"xref\":\"x\",\"y\":\"MDVP:Fo(Hz)\",\"yref\":\"y\"},{\"font\":{\"color\":\"#FFFFFF\"},\"showarrow\":false,\"text\":\"-0.07\",\"x\":\"Shimmer:APQ5\",\"xref\":\"x\",\"y\":\"MDVP:Fo(Hz)\",\"yref\":\"y\"},{\"font\":{\"color\":\"#FFFFFF\"},\"showarrow\":false,\"text\":\"-0.08\",\"x\":\"MDVP:APQ\",\"xref\":\"x\",\"y\":\"MDVP:Fo(Hz)\",\"yref\":\"y\"},{\"font\":{\"color\":\"#FFFFFF\"},\"showarrow\":false,\"text\":\"-0.09\",\"x\":\"Shimmer:DDA\",\"xref\":\"x\",\"y\":\"MDVP:Fo(Hz)\",\"yref\":\"y\"},{\"font\":{\"color\":\"#FFFFFF\"},\"showarrow\":false,\"text\":\"-0.02\",\"x\":\"NHR\",\"xref\":\"x\",\"y\":\"MDVP:Fo(Hz)\",\"yref\":\"y\"},{\"font\":{\"color\":\"#FFFFFF\"},\"showarrow\":false,\"text\":\"0.06\",\"x\":\"HNR\",\"xref\":\"x\",\"y\":\"MDVP:Fo(Hz)\",\"yref\":\"y\"},{\"font\":{\"color\":\"#FFFFFF\"},\"showarrow\":false,\"text\":\"-0.38\",\"x\":\"status\",\"xref\":\"x\",\"y\":\"MDVP:Fo(Hz)\",\"yref\":\"y\"},{\"font\":{\"color\":\"#FFFFFF\"},\"showarrow\":false,\"text\":\"-0.38\",\"x\":\"RPDE\",\"xref\":\"x\",\"y\":\"MDVP:Fo(Hz)\",\"yref\":\"y\"},{\"font\":{\"color\":\"#FFFFFF\"},\"showarrow\":false,\"text\":\"-0.45\",\"x\":\"DFA\",\"xref\":\"x\",\"y\":\"MDVP:Fo(Hz)\",\"yref\":\"y\"},{\"font\":{\"color\":\"#FFFFFF\"},\"showarrow\":false,\"text\":\"-0.41\",\"x\":\"spread1\",\"xref\":\"x\",\"y\":\"MDVP:Fo(Hz)\",\"yref\":\"y\"},{\"font\":{\"color\":\"#FFFFFF\"},\"showarrow\":false,\"text\":\"-0.25\",\"x\":\"spread2\",\"xref\":\"x\",\"y\":\"MDVP:Fo(Hz)\",\"yref\":\"y\"},{\"font\":{\"color\":\"#FFFFFF\"},\"showarrow\":false,\"text\":\"0.18\",\"x\":\"D2\",\"xref\":\"x\",\"y\":\"MDVP:Fo(Hz)\",\"yref\":\"y\"},{\"font\":{\"color\":\"#FFFFFF\"},\"showarrow\":false,\"text\":\"-0.37\",\"x\":\"PPE\",\"xref\":\"x\",\"y\":\"MDVP:Fo(Hz)\",\"yref\":\"y\"},{\"font\":{\"color\":\"#FFFFFF\"},\"showarrow\":false,\"text\":\"0.4\",\"x\":\"MDVP:Fo(Hz)\",\"xref\":\"x\",\"y\":\"MDVP:Fhi(Hz)\",\"yref\":\"y\"},{\"font\":{\"color\":\"#FFFFFF\"},\"showarrow\":false,\"text\":\"1.0\",\"x\":\"MDVP:Fhi(Hz)\",\"xref\":\"x\",\"y\":\"MDVP:Fhi(Hz)\",\"yref\":\"y\"},{\"font\":{\"color\":\"#FFFFFF\"},\"showarrow\":false,\"text\":\"0.08\",\"x\":\"MDVP:Flo(Hz)\",\"xref\":\"x\",\"y\":\"MDVP:Fhi(Hz)\",\"yref\":\"y\"},{\"font\":{\"color\":\"#FFFFFF\"},\"showarrow\":false,\"text\":\"0.1\",\"x\":\"MDVP:Jitter(%)\",\"xref\":\"x\",\"y\":\"MDVP:Fhi(Hz)\",\"yref\":\"y\"},{\"font\":{\"color\":\"#FFFFFF\"},\"showarrow\":false,\"text\":\"-0.03\",\"x\":\"MDVP:Jitter(Abs)\",\"xref\":\"x\",\"y\":\"MDVP:Fhi(Hz)\",\"yref\":\"y\"},{\"font\":{\"color\":\"#FFFFFF\"},\"showarrow\":false,\"text\":\"0.1\",\"x\":\"MDVP:RAP\",\"xref\":\"x\",\"y\":\"MDVP:Fhi(Hz)\",\"yref\":\"y\"},{\"font\":{\"color\":\"#FFFFFF\"},\"showarrow\":false,\"text\":\"0.09\",\"x\":\"MDVP:PPQ\",\"xref\":\"x\",\"y\":\"MDVP:Fhi(Hz)\",\"yref\":\"y\"},{\"font\":{\"color\":\"#FFFFFF\"},\"showarrow\":false,\"text\":\"0.1\",\"x\":\"Jitter:DDP\",\"xref\":\"x\",\"y\":\"MDVP:Fhi(Hz)\",\"yref\":\"y\"},{\"font\":{\"color\":\"#FFFFFF\"},\"showarrow\":false,\"text\":\"0.0\",\"x\":\"MDVP:Shimmer\",\"xref\":\"x\",\"y\":\"MDVP:Fhi(Hz)\",\"yref\":\"y\"},{\"font\":{\"color\":\"#FFFFFF\"},\"showarrow\":false,\"text\":\"0.04\",\"x\":\"MDVP:Shimmer(dB)\",\"xref\":\"x\",\"y\":\"MDVP:Fhi(Hz)\",\"yref\":\"y\"},{\"font\":{\"color\":\"#FFFFFF\"},\"showarrow\":false,\"text\":\"-0.0\",\"x\":\"Shimmer:APQ3\",\"xref\":\"x\",\"y\":\"MDVP:Fhi(Hz)\",\"yref\":\"y\"},{\"font\":{\"color\":\"#FFFFFF\"},\"showarrow\":false,\"text\":\"-0.01\",\"x\":\"Shimmer:APQ5\",\"xref\":\"x\",\"y\":\"MDVP:Fhi(Hz)\",\"yref\":\"y\"},{\"font\":{\"color\":\"#FFFFFF\"},\"showarrow\":false,\"text\":\"0.0\",\"x\":\"MDVP:APQ\",\"xref\":\"x\",\"y\":\"MDVP:Fhi(Hz)\",\"yref\":\"y\"},{\"font\":{\"color\":\"#FFFFFF\"},\"showarrow\":false,\"text\":\"-0.0\",\"x\":\"Shimmer:DDA\",\"xref\":\"x\",\"y\":\"MDVP:Fhi(Hz)\",\"yref\":\"y\"},{\"font\":{\"color\":\"#FFFFFF\"},\"showarrow\":false,\"text\":\"0.16\",\"x\":\"NHR\",\"xref\":\"x\",\"y\":\"MDVP:Fhi(Hz)\",\"yref\":\"y\"},{\"font\":{\"color\":\"#FFFFFF\"},\"showarrow\":false,\"text\":\"-0.02\",\"x\":\"HNR\",\"xref\":\"x\",\"y\":\"MDVP:Fhi(Hz)\",\"yref\":\"y\"},{\"font\":{\"color\":\"#FFFFFF\"},\"showarrow\":false,\"text\":\"-0.17\",\"x\":\"status\",\"xref\":\"x\",\"y\":\"MDVP:Fhi(Hz)\",\"yref\":\"y\"},{\"font\":{\"color\":\"#FFFFFF\"},\"showarrow\":false,\"text\":\"-0.11\",\"x\":\"RPDE\",\"xref\":\"x\",\"y\":\"MDVP:Fhi(Hz)\",\"yref\":\"y\"},{\"font\":{\"color\":\"#FFFFFF\"},\"showarrow\":false,\"text\":\"-0.34\",\"x\":\"DFA\",\"xref\":\"x\",\"y\":\"MDVP:Fhi(Hz)\",\"yref\":\"y\"},{\"font\":{\"color\":\"#FFFFFF\"},\"showarrow\":false,\"text\":\"-0.08\",\"x\":\"spread1\",\"xref\":\"x\",\"y\":\"MDVP:Fhi(Hz)\",\"yref\":\"y\"},{\"font\":{\"color\":\"#FFFFFF\"},\"showarrow\":false,\"text\":\"-0.0\",\"x\":\"spread2\",\"xref\":\"x\",\"y\":\"MDVP:Fhi(Hz)\",\"yref\":\"y\"},{\"font\":{\"color\":\"#FFFFFF\"},\"showarrow\":false,\"text\":\"0.18\",\"x\":\"D2\",\"xref\":\"x\",\"y\":\"MDVP:Fhi(Hz)\",\"yref\":\"y\"},{\"font\":{\"color\":\"#FFFFFF\"},\"showarrow\":false,\"text\":\"-0.07\",\"x\":\"PPE\",\"xref\":\"x\",\"y\":\"MDVP:Fhi(Hz)\",\"yref\":\"y\"},{\"font\":{\"color\":\"#FFFFFF\"},\"showarrow\":false,\"text\":\"0.6\",\"x\":\"MDVP:Fo(Hz)\",\"xref\":\"x\",\"y\":\"MDVP:Flo(Hz)\",\"yref\":\"y\"},{\"font\":{\"color\":\"#FFFFFF\"},\"showarrow\":false,\"text\":\"0.08\",\"x\":\"MDVP:Fhi(Hz)\",\"xref\":\"x\",\"y\":\"MDVP:Flo(Hz)\",\"yref\":\"y\"},{\"font\":{\"color\":\"#FFFFFF\"},\"showarrow\":false,\"text\":\"1.0\",\"x\":\"MDVP:Flo(Hz)\",\"xref\":\"x\",\"y\":\"MDVP:Flo(Hz)\",\"yref\":\"y\"},{\"font\":{\"color\":\"#FFFFFF\"},\"showarrow\":false,\"text\":\"-0.14\",\"x\":\"MDVP:Jitter(%)\",\"xref\":\"x\",\"y\":\"MDVP:Flo(Hz)\",\"yref\":\"y\"},{\"font\":{\"color\":\"#FFFFFF\"},\"showarrow\":false,\"text\":\"-0.28\",\"x\":\"MDVP:Jitter(Abs)\",\"xref\":\"x\",\"y\":\"MDVP:Flo(Hz)\",\"yref\":\"y\"},{\"font\":{\"color\":\"#FFFFFF\"},\"showarrow\":false,\"text\":\"-0.1\",\"x\":\"MDVP:RAP\",\"xref\":\"x\",\"y\":\"MDVP:Flo(Hz)\",\"yref\":\"y\"},{\"font\":{\"color\":\"#FFFFFF\"},\"showarrow\":false,\"text\":\"-0.1\",\"x\":\"MDVP:PPQ\",\"xref\":\"x\",\"y\":\"MDVP:Flo(Hz)\",\"yref\":\"y\"},{\"font\":{\"color\":\"#FFFFFF\"},\"showarrow\":false,\"text\":\"-0.1\",\"x\":\"Jitter:DDP\",\"xref\":\"x\",\"y\":\"MDVP:Flo(Hz)\",\"yref\":\"y\"},{\"font\":{\"color\":\"#FFFFFF\"},\"showarrow\":false,\"text\":\"-0.14\",\"x\":\"MDVP:Shimmer\",\"xref\":\"x\",\"y\":\"MDVP:Flo(Hz)\",\"yref\":\"y\"},{\"font\":{\"color\":\"#FFFFFF\"},\"showarrow\":false,\"text\":\"-0.12\",\"x\":\"MDVP:Shimmer(dB)\",\"xref\":\"x\",\"y\":\"MDVP:Flo(Hz)\",\"yref\":\"y\"},{\"font\":{\"color\":\"#FFFFFF\"},\"showarrow\":false,\"text\":\"-0.15\",\"x\":\"Shimmer:APQ3\",\"xref\":\"x\",\"y\":\"MDVP:Flo(Hz)\",\"yref\":\"y\"},{\"font\":{\"color\":\"#FFFFFF\"},\"showarrow\":false,\"text\":\"-0.1\",\"x\":\"Shimmer:APQ5\",\"xref\":\"x\",\"y\":\"MDVP:Flo(Hz)\",\"yref\":\"y\"},{\"font\":{\"color\":\"#FFFFFF\"},\"showarrow\":false,\"text\":\"-0.11\",\"x\":\"MDVP:APQ\",\"xref\":\"x\",\"y\":\"MDVP:Flo(Hz)\",\"yref\":\"y\"},{\"font\":{\"color\":\"#FFFFFF\"},\"showarrow\":false,\"text\":\"-0.15\",\"x\":\"Shimmer:DDA\",\"xref\":\"x\",\"y\":\"MDVP:Flo(Hz)\",\"yref\":\"y\"},{\"font\":{\"color\":\"#FFFFFF\"},\"showarrow\":false,\"text\":\"-0.11\",\"x\":\"NHR\",\"xref\":\"x\",\"y\":\"MDVP:Flo(Hz)\",\"yref\":\"y\"},{\"font\":{\"color\":\"#FFFFFF\"},\"showarrow\":false,\"text\":\"0.21\",\"x\":\"HNR\",\"xref\":\"x\",\"y\":\"MDVP:Flo(Hz)\",\"yref\":\"y\"},{\"font\":{\"color\":\"#FFFFFF\"},\"showarrow\":false,\"text\":\"-0.38\",\"x\":\"status\",\"xref\":\"x\",\"y\":\"MDVP:Flo(Hz)\",\"yref\":\"y\"},{\"font\":{\"color\":\"#FFFFFF\"},\"showarrow\":false,\"text\":\"-0.4\",\"x\":\"RPDE\",\"xref\":\"x\",\"y\":\"MDVP:Flo(Hz)\",\"yref\":\"y\"},{\"font\":{\"color\":\"#FFFFFF\"},\"showarrow\":false,\"text\":\"-0.05\",\"x\":\"DFA\",\"xref\":\"x\",\"y\":\"MDVP:Flo(Hz)\",\"yref\":\"y\"},{\"font\":{\"color\":\"#FFFFFF\"},\"showarrow\":false,\"text\":\"-0.39\",\"x\":\"spread1\",\"xref\":\"x\",\"y\":\"MDVP:Flo(Hz)\",\"yref\":\"y\"},{\"font\":{\"color\":\"#FFFFFF\"},\"showarrow\":false,\"text\":\"-0.24\",\"x\":\"spread2\",\"xref\":\"x\",\"y\":\"MDVP:Flo(Hz)\",\"yref\":\"y\"},{\"font\":{\"color\":\"#FFFFFF\"},\"showarrow\":false,\"text\":\"-0.1\",\"x\":\"D2\",\"xref\":\"x\",\"y\":\"MDVP:Flo(Hz)\",\"yref\":\"y\"},{\"font\":{\"color\":\"#FFFFFF\"},\"showarrow\":false,\"text\":\"-0.34\",\"x\":\"PPE\",\"xref\":\"x\",\"y\":\"MDVP:Flo(Hz)\",\"yref\":\"y\"},{\"font\":{\"color\":\"#FFFFFF\"},\"showarrow\":false,\"text\":\"-0.12\",\"x\":\"MDVP:Fo(Hz)\",\"xref\":\"x\",\"y\":\"MDVP:Jitter(%)\",\"yref\":\"y\"},{\"font\":{\"color\":\"#FFFFFF\"},\"showarrow\":false,\"text\":\"0.1\",\"x\":\"MDVP:Fhi(Hz)\",\"xref\":\"x\",\"y\":\"MDVP:Jitter(%)\",\"yref\":\"y\"},{\"font\":{\"color\":\"#FFFFFF\"},\"showarrow\":false,\"text\":\"-0.14\",\"x\":\"MDVP:Flo(Hz)\",\"xref\":\"x\",\"y\":\"MDVP:Jitter(%)\",\"yref\":\"y\"},{\"font\":{\"color\":\"#FFFFFF\"},\"showarrow\":false,\"text\":\"1.0\",\"x\":\"MDVP:Jitter(%)\",\"xref\":\"x\",\"y\":\"MDVP:Jitter(%)\",\"yref\":\"y\"},{\"font\":{\"color\":\"#FFFFFF\"},\"showarrow\":false,\"text\":\"0.94\",\"x\":\"MDVP:Jitter(Abs)\",\"xref\":\"x\",\"y\":\"MDVP:Jitter(%)\",\"yref\":\"y\"},{\"font\":{\"color\":\"#FFFFFF\"},\"showarrow\":false,\"text\":\"0.99\",\"x\":\"MDVP:RAP\",\"xref\":\"x\",\"y\":\"MDVP:Jitter(%)\",\"yref\":\"y\"},{\"font\":{\"color\":\"#FFFFFF\"},\"showarrow\":false,\"text\":\"0.97\",\"x\":\"MDVP:PPQ\",\"xref\":\"x\",\"y\":\"MDVP:Jitter(%)\",\"yref\":\"y\"},{\"font\":{\"color\":\"#FFFFFF\"},\"showarrow\":false,\"text\":\"0.99\",\"x\":\"Jitter:DDP\",\"xref\":\"x\",\"y\":\"MDVP:Jitter(%)\",\"yref\":\"y\"},{\"font\":{\"color\":\"#FFFFFF\"},\"showarrow\":false,\"text\":\"0.77\",\"x\":\"MDVP:Shimmer\",\"xref\":\"x\",\"y\":\"MDVP:Jitter(%)\",\"yref\":\"y\"},{\"font\":{\"color\":\"#FFFFFF\"},\"showarrow\":false,\"text\":\"0.8\",\"x\":\"MDVP:Shimmer(dB)\",\"xref\":\"x\",\"y\":\"MDVP:Jitter(%)\",\"yref\":\"y\"},{\"font\":{\"color\":\"#FFFFFF\"},\"showarrow\":false,\"text\":\"0.75\",\"x\":\"Shimmer:APQ3\",\"xref\":\"x\",\"y\":\"MDVP:Jitter(%)\",\"yref\":\"y\"},{\"font\":{\"color\":\"#FFFFFF\"},\"showarrow\":false,\"text\":\"0.73\",\"x\":\"Shimmer:APQ5\",\"xref\":\"x\",\"y\":\"MDVP:Jitter(%)\",\"yref\":\"y\"},{\"font\":{\"color\":\"#FFFFFF\"},\"showarrow\":false,\"text\":\"0.76\",\"x\":\"MDVP:APQ\",\"xref\":\"x\",\"y\":\"MDVP:Jitter(%)\",\"yref\":\"y\"},{\"font\":{\"color\":\"#FFFFFF\"},\"showarrow\":false,\"text\":\"0.75\",\"x\":\"Shimmer:DDA\",\"xref\":\"x\",\"y\":\"MDVP:Jitter(%)\",\"yref\":\"y\"},{\"font\":{\"color\":\"#FFFFFF\"},\"showarrow\":false,\"text\":\"0.91\",\"x\":\"NHR\",\"xref\":\"x\",\"y\":\"MDVP:Jitter(%)\",\"yref\":\"y\"},{\"font\":{\"color\":\"#FFFFFF\"},\"showarrow\":false,\"text\":\"-0.73\",\"x\":\"HNR\",\"xref\":\"x\",\"y\":\"MDVP:Jitter(%)\",\"yref\":\"y\"},{\"font\":{\"color\":\"#FFFFFF\"},\"showarrow\":false,\"text\":\"0.28\",\"x\":\"status\",\"xref\":\"x\",\"y\":\"MDVP:Jitter(%)\",\"yref\":\"y\"},{\"font\":{\"color\":\"#FFFFFF\"},\"showarrow\":false,\"text\":\"0.36\",\"x\":\"RPDE\",\"xref\":\"x\",\"y\":\"MDVP:Jitter(%)\",\"yref\":\"y\"},{\"font\":{\"color\":\"#FFFFFF\"},\"showarrow\":false,\"text\":\"0.1\",\"x\":\"DFA\",\"xref\":\"x\",\"y\":\"MDVP:Jitter(%)\",\"yref\":\"y\"},{\"font\":{\"color\":\"#FFFFFF\"},\"showarrow\":false,\"text\":\"0.69\",\"x\":\"spread1\",\"xref\":\"x\",\"y\":\"MDVP:Jitter(%)\",\"yref\":\"y\"},{\"font\":{\"color\":\"#FFFFFF\"},\"showarrow\":false,\"text\":\"0.39\",\"x\":\"spread2\",\"xref\":\"x\",\"y\":\"MDVP:Jitter(%)\",\"yref\":\"y\"},{\"font\":{\"color\":\"#FFFFFF\"},\"showarrow\":false,\"text\":\"0.43\",\"x\":\"D2\",\"xref\":\"x\",\"y\":\"MDVP:Jitter(%)\",\"yref\":\"y\"},{\"font\":{\"color\":\"#FFFFFF\"},\"showarrow\":false,\"text\":\"0.72\",\"x\":\"PPE\",\"xref\":\"x\",\"y\":\"MDVP:Jitter(%)\",\"yref\":\"y\"},{\"font\":{\"color\":\"#FFFFFF\"},\"showarrow\":false,\"text\":\"-0.38\",\"x\":\"MDVP:Fo(Hz)\",\"xref\":\"x\",\"y\":\"MDVP:Jitter(Abs)\",\"yref\":\"y\"},{\"font\":{\"color\":\"#FFFFFF\"},\"showarrow\":false,\"text\":\"-0.03\",\"x\":\"MDVP:Fhi(Hz)\",\"xref\":\"x\",\"y\":\"MDVP:Jitter(Abs)\",\"yref\":\"y\"},{\"font\":{\"color\":\"#FFFFFF\"},\"showarrow\":false,\"text\":\"-0.28\",\"x\":\"MDVP:Flo(Hz)\",\"xref\":\"x\",\"y\":\"MDVP:Jitter(Abs)\",\"yref\":\"y\"},{\"font\":{\"color\":\"#FFFFFF\"},\"showarrow\":false,\"text\":\"0.94\",\"x\":\"MDVP:Jitter(%)\",\"xref\":\"x\",\"y\":\"MDVP:Jitter(Abs)\",\"yref\":\"y\"},{\"font\":{\"color\":\"#FFFFFF\"},\"showarrow\":false,\"text\":\"1.0\",\"x\":\"MDVP:Jitter(Abs)\",\"xref\":\"x\",\"y\":\"MDVP:Jitter(Abs)\",\"yref\":\"y\"},{\"font\":{\"color\":\"#FFFFFF\"},\"showarrow\":false,\"text\":\"0.92\",\"x\":\"MDVP:RAP\",\"xref\":\"x\",\"y\":\"MDVP:Jitter(Abs)\",\"yref\":\"y\"},{\"font\":{\"color\":\"#FFFFFF\"},\"showarrow\":false,\"text\":\"0.9\",\"x\":\"MDVP:PPQ\",\"xref\":\"x\",\"y\":\"MDVP:Jitter(Abs)\",\"yref\":\"y\"},{\"font\":{\"color\":\"#FFFFFF\"},\"showarrow\":false,\"text\":\"0.92\",\"x\":\"Jitter:DDP\",\"xref\":\"x\",\"y\":\"MDVP:Jitter(Abs)\",\"yref\":\"y\"},{\"font\":{\"color\":\"#FFFFFF\"},\"showarrow\":false,\"text\":\"0.7\",\"x\":\"MDVP:Shimmer\",\"xref\":\"x\",\"y\":\"MDVP:Jitter(Abs)\",\"yref\":\"y\"},{\"font\":{\"color\":\"#FFFFFF\"},\"showarrow\":false,\"text\":\"0.72\",\"x\":\"MDVP:Shimmer(dB)\",\"xref\":\"x\",\"y\":\"MDVP:Jitter(Abs)\",\"yref\":\"y\"},{\"font\":{\"color\":\"#FFFFFF\"},\"showarrow\":false,\"text\":\"0.7\",\"x\":\"Shimmer:APQ3\",\"xref\":\"x\",\"y\":\"MDVP:Jitter(Abs)\",\"yref\":\"y\"},{\"font\":{\"color\":\"#FFFFFF\"},\"showarrow\":false,\"text\":\"0.65\",\"x\":\"Shimmer:APQ5\",\"xref\":\"x\",\"y\":\"MDVP:Jitter(Abs)\",\"yref\":\"y\"},{\"font\":{\"color\":\"#FFFFFF\"},\"showarrow\":false,\"text\":\"0.65\",\"x\":\"MDVP:APQ\",\"xref\":\"x\",\"y\":\"MDVP:Jitter(Abs)\",\"yref\":\"y\"},{\"font\":{\"color\":\"#FFFFFF\"},\"showarrow\":false,\"text\":\"0.7\",\"x\":\"Shimmer:DDA\",\"xref\":\"x\",\"y\":\"MDVP:Jitter(Abs)\",\"yref\":\"y\"},{\"font\":{\"color\":\"#FFFFFF\"},\"showarrow\":false,\"text\":\"0.83\",\"x\":\"NHR\",\"xref\":\"x\",\"y\":\"MDVP:Jitter(Abs)\",\"yref\":\"y\"},{\"font\":{\"color\":\"#FFFFFF\"},\"showarrow\":false,\"text\":\"-0.66\",\"x\":\"HNR\",\"xref\":\"x\",\"y\":\"MDVP:Jitter(Abs)\",\"yref\":\"y\"},{\"font\":{\"color\":\"#FFFFFF\"},\"showarrow\":false,\"text\":\"0.34\",\"x\":\"status\",\"xref\":\"x\",\"y\":\"MDVP:Jitter(Abs)\",\"yref\":\"y\"},{\"font\":{\"color\":\"#FFFFFF\"},\"showarrow\":false,\"text\":\"0.44\",\"x\":\"RPDE\",\"xref\":\"x\",\"y\":\"MDVP:Jitter(Abs)\",\"yref\":\"y\"},{\"font\":{\"color\":\"#FFFFFF\"},\"showarrow\":false,\"text\":\"0.18\",\"x\":\"DFA\",\"xref\":\"x\",\"y\":\"MDVP:Jitter(Abs)\",\"yref\":\"y\"},{\"font\":{\"color\":\"#FFFFFF\"},\"showarrow\":false,\"text\":\"0.74\",\"x\":\"spread1\",\"xref\":\"x\",\"y\":\"MDVP:Jitter(Abs)\",\"yref\":\"y\"},{\"font\":{\"color\":\"#FFFFFF\"},\"showarrow\":false,\"text\":\"0.39\",\"x\":\"spread2\",\"xref\":\"x\",\"y\":\"MDVP:Jitter(Abs)\",\"yref\":\"y\"},{\"font\":{\"color\":\"#FFFFFF\"},\"showarrow\":false,\"text\":\"0.31\",\"x\":\"D2\",\"xref\":\"x\",\"y\":\"MDVP:Jitter(Abs)\",\"yref\":\"y\"},{\"font\":{\"color\":\"#FFFFFF\"},\"showarrow\":false,\"text\":\"0.75\",\"x\":\"PPE\",\"xref\":\"x\",\"y\":\"MDVP:Jitter(Abs)\",\"yref\":\"y\"},{\"font\":{\"color\":\"#FFFFFF\"},\"showarrow\":false,\"text\":\"-0.08\",\"x\":\"MDVP:Fo(Hz)\",\"xref\":\"x\",\"y\":\"MDVP:RAP\",\"yref\":\"y\"},{\"font\":{\"color\":\"#FFFFFF\"},\"showarrow\":false,\"text\":\"0.1\",\"x\":\"MDVP:Fhi(Hz)\",\"xref\":\"x\",\"y\":\"MDVP:RAP\",\"yref\":\"y\"},{\"font\":{\"color\":\"#FFFFFF\"},\"showarrow\":false,\"text\":\"-0.1\",\"x\":\"MDVP:Flo(Hz)\",\"xref\":\"x\",\"y\":\"MDVP:RAP\",\"yref\":\"y\"},{\"font\":{\"color\":\"#FFFFFF\"},\"showarrow\":false,\"text\":\"0.99\",\"x\":\"MDVP:Jitter(%)\",\"xref\":\"x\",\"y\":\"MDVP:RAP\",\"yref\":\"y\"},{\"font\":{\"color\":\"#FFFFFF\"},\"showarrow\":false,\"text\":\"0.92\",\"x\":\"MDVP:Jitter(Abs)\",\"xref\":\"x\",\"y\":\"MDVP:RAP\",\"yref\":\"y\"},{\"font\":{\"color\":\"#FFFFFF\"},\"showarrow\":false,\"text\":\"1.0\",\"x\":\"MDVP:RAP\",\"xref\":\"x\",\"y\":\"MDVP:RAP\",\"yref\":\"y\"},{\"font\":{\"color\":\"#FFFFFF\"},\"showarrow\":false,\"text\":\"0.96\",\"x\":\"MDVP:PPQ\",\"xref\":\"x\",\"y\":\"MDVP:RAP\",\"yref\":\"y\"},{\"font\":{\"color\":\"#FFFFFF\"},\"showarrow\":false,\"text\":\"1.0\",\"x\":\"Jitter:DDP\",\"xref\":\"x\",\"y\":\"MDVP:RAP\",\"yref\":\"y\"},{\"font\":{\"color\":\"#FFFFFF\"},\"showarrow\":false,\"text\":\"0.76\",\"x\":\"MDVP:Shimmer\",\"xref\":\"x\",\"y\":\"MDVP:RAP\",\"yref\":\"y\"},{\"font\":{\"color\":\"#FFFFFF\"},\"showarrow\":false,\"text\":\"0.79\",\"x\":\"MDVP:Shimmer(dB)\",\"xref\":\"x\",\"y\":\"MDVP:RAP\",\"yref\":\"y\"},{\"font\":{\"color\":\"#FFFFFF\"},\"showarrow\":false,\"text\":\"0.74\",\"x\":\"Shimmer:APQ3\",\"xref\":\"x\",\"y\":\"MDVP:RAP\",\"yref\":\"y\"},{\"font\":{\"color\":\"#FFFFFF\"},\"showarrow\":false,\"text\":\"0.71\",\"x\":\"Shimmer:APQ5\",\"xref\":\"x\",\"y\":\"MDVP:RAP\",\"yref\":\"y\"},{\"font\":{\"color\":\"#FFFFFF\"},\"showarrow\":false,\"text\":\"0.74\",\"x\":\"MDVP:APQ\",\"xref\":\"x\",\"y\":\"MDVP:RAP\",\"yref\":\"y\"},{\"font\":{\"color\":\"#FFFFFF\"},\"showarrow\":false,\"text\":\"0.74\",\"x\":\"Shimmer:DDA\",\"xref\":\"x\",\"y\":\"MDVP:RAP\",\"yref\":\"y\"},{\"font\":{\"color\":\"#FFFFFF\"},\"showarrow\":false,\"text\":\"0.92\",\"x\":\"NHR\",\"xref\":\"x\",\"y\":\"MDVP:RAP\",\"yref\":\"y\"},{\"font\":{\"color\":\"#FFFFFF\"},\"showarrow\":false,\"text\":\"-0.72\",\"x\":\"HNR\",\"xref\":\"x\",\"y\":\"MDVP:RAP\",\"yref\":\"y\"},{\"font\":{\"color\":\"#FFFFFF\"},\"showarrow\":false,\"text\":\"0.27\",\"x\":\"status\",\"xref\":\"x\",\"y\":\"MDVP:RAP\",\"yref\":\"y\"},{\"font\":{\"color\":\"#FFFFFF\"},\"showarrow\":false,\"text\":\"0.34\",\"x\":\"RPDE\",\"xref\":\"x\",\"y\":\"MDVP:RAP\",\"yref\":\"y\"},{\"font\":{\"color\":\"#FFFFFF\"},\"showarrow\":false,\"text\":\"0.06\",\"x\":\"DFA\",\"xref\":\"x\",\"y\":\"MDVP:RAP\",\"yref\":\"y\"},{\"font\":{\"color\":\"#FFFFFF\"},\"showarrow\":false,\"text\":\"0.65\",\"x\":\"spread1\",\"xref\":\"x\",\"y\":\"MDVP:RAP\",\"yref\":\"y\"},{\"font\":{\"color\":\"#FFFFFF\"},\"showarrow\":false,\"text\":\"0.32\",\"x\":\"spread2\",\"xref\":\"x\",\"y\":\"MDVP:RAP\",\"yref\":\"y\"},{\"font\":{\"color\":\"#FFFFFF\"},\"showarrow\":false,\"text\":\"0.43\",\"x\":\"D2\",\"xref\":\"x\",\"y\":\"MDVP:RAP\",\"yref\":\"y\"},{\"font\":{\"color\":\"#FFFFFF\"},\"showarrow\":false,\"text\":\"0.67\",\"x\":\"PPE\",\"xref\":\"x\",\"y\":\"MDVP:RAP\",\"yref\":\"y\"},{\"font\":{\"color\":\"#FFFFFF\"},\"showarrow\":false,\"text\":\"-0.11\",\"x\":\"MDVP:Fo(Hz)\",\"xref\":\"x\",\"y\":\"MDVP:PPQ\",\"yref\":\"y\"},{\"font\":{\"color\":\"#FFFFFF\"},\"showarrow\":false,\"text\":\"0.09\",\"x\":\"MDVP:Fhi(Hz)\",\"xref\":\"x\",\"y\":\"MDVP:PPQ\",\"yref\":\"y\"},{\"font\":{\"color\":\"#FFFFFF\"},\"showarrow\":false,\"text\":\"-0.1\",\"x\":\"MDVP:Flo(Hz)\",\"xref\":\"x\",\"y\":\"MDVP:PPQ\",\"yref\":\"y\"},{\"font\":{\"color\":\"#FFFFFF\"},\"showarrow\":false,\"text\":\"0.97\",\"x\":\"MDVP:Jitter(%)\",\"xref\":\"x\",\"y\":\"MDVP:PPQ\",\"yref\":\"y\"},{\"font\":{\"color\":\"#FFFFFF\"},\"showarrow\":false,\"text\":\"0.9\",\"x\":\"MDVP:Jitter(Abs)\",\"xref\":\"x\",\"y\":\"MDVP:PPQ\",\"yref\":\"y\"},{\"font\":{\"color\":\"#FFFFFF\"},\"showarrow\":false,\"text\":\"0.96\",\"x\":\"MDVP:RAP\",\"xref\":\"x\",\"y\":\"MDVP:PPQ\",\"yref\":\"y\"},{\"font\":{\"color\":\"#FFFFFF\"},\"showarrow\":false,\"text\":\"1.0\",\"x\":\"MDVP:PPQ\",\"xref\":\"x\",\"y\":\"MDVP:PPQ\",\"yref\":\"y\"},{\"font\":{\"color\":\"#FFFFFF\"},\"showarrow\":false,\"text\":\"0.96\",\"x\":\"Jitter:DDP\",\"xref\":\"x\",\"y\":\"MDVP:PPQ\",\"yref\":\"y\"},{\"font\":{\"color\":\"#FFFFFF\"},\"showarrow\":false,\"text\":\"0.8\",\"x\":\"MDVP:Shimmer\",\"xref\":\"x\",\"y\":\"MDVP:PPQ\",\"yref\":\"y\"},{\"font\":{\"color\":\"#FFFFFF\"},\"showarrow\":false,\"text\":\"0.84\",\"x\":\"MDVP:Shimmer(dB)\",\"xref\":\"x\",\"y\":\"MDVP:PPQ\",\"yref\":\"y\"},{\"font\":{\"color\":\"#FFFFFF\"},\"showarrow\":false,\"text\":\"0.76\",\"x\":\"Shimmer:APQ3\",\"xref\":\"x\",\"y\":\"MDVP:PPQ\",\"yref\":\"y\"},{\"font\":{\"color\":\"#FFFFFF\"},\"showarrow\":false,\"text\":\"0.79\",\"x\":\"Shimmer:APQ5\",\"xref\":\"x\",\"y\":\"MDVP:PPQ\",\"yref\":\"y\"},{\"font\":{\"color\":\"#FFFFFF\"},\"showarrow\":false,\"text\":\"0.8\",\"x\":\"MDVP:APQ\",\"xref\":\"x\",\"y\":\"MDVP:PPQ\",\"yref\":\"y\"},{\"font\":{\"color\":\"#FFFFFF\"},\"showarrow\":false,\"text\":\"0.76\",\"x\":\"Shimmer:DDA\",\"xref\":\"x\",\"y\":\"MDVP:PPQ\",\"yref\":\"y\"},{\"font\":{\"color\":\"#FFFFFF\"},\"showarrow\":false,\"text\":\"0.84\",\"x\":\"NHR\",\"xref\":\"x\",\"y\":\"MDVP:PPQ\",\"yref\":\"y\"},{\"font\":{\"color\":\"#FFFFFF\"},\"showarrow\":false,\"text\":\"-0.73\",\"x\":\"HNR\",\"xref\":\"x\",\"y\":\"MDVP:PPQ\",\"yref\":\"y\"},{\"font\":{\"color\":\"#FFFFFF\"},\"showarrow\":false,\"text\":\"0.29\",\"x\":\"status\",\"xref\":\"x\",\"y\":\"MDVP:PPQ\",\"yref\":\"y\"},{\"font\":{\"color\":\"#FFFFFF\"},\"showarrow\":false,\"text\":\"0.33\",\"x\":\"RPDE\",\"xref\":\"x\",\"y\":\"MDVP:PPQ\",\"yref\":\"y\"},{\"font\":{\"color\":\"#FFFFFF\"},\"showarrow\":false,\"text\":\"0.2\",\"x\":\"DFA\",\"xref\":\"x\",\"y\":\"MDVP:PPQ\",\"yref\":\"y\"},{\"font\":{\"color\":\"#FFFFFF\"},\"showarrow\":false,\"text\":\"0.72\",\"x\":\"spread1\",\"xref\":\"x\",\"y\":\"MDVP:PPQ\",\"yref\":\"y\"},{\"font\":{\"color\":\"#FFFFFF\"},\"showarrow\":false,\"text\":\"0.41\",\"x\":\"spread2\",\"xref\":\"x\",\"y\":\"MDVP:PPQ\",\"yref\":\"y\"},{\"font\":{\"color\":\"#FFFFFF\"},\"showarrow\":false,\"text\":\"0.41\",\"x\":\"D2\",\"xref\":\"x\",\"y\":\"MDVP:PPQ\",\"yref\":\"y\"},{\"font\":{\"color\":\"#FFFFFF\"},\"showarrow\":false,\"text\":\"0.77\",\"x\":\"PPE\",\"xref\":\"x\",\"y\":\"MDVP:PPQ\",\"yref\":\"y\"},{\"font\":{\"color\":\"#FFFFFF\"},\"showarrow\":false,\"text\":\"-0.08\",\"x\":\"MDVP:Fo(Hz)\",\"xref\":\"x\",\"y\":\"Jitter:DDP\",\"yref\":\"y\"},{\"font\":{\"color\":\"#FFFFFF\"},\"showarrow\":false,\"text\":\"0.1\",\"x\":\"MDVP:Fhi(Hz)\",\"xref\":\"x\",\"y\":\"Jitter:DDP\",\"yref\":\"y\"},{\"font\":{\"color\":\"#FFFFFF\"},\"showarrow\":false,\"text\":\"-0.1\",\"x\":\"MDVP:Flo(Hz)\",\"xref\":\"x\",\"y\":\"Jitter:DDP\",\"yref\":\"y\"},{\"font\":{\"color\":\"#FFFFFF\"},\"showarrow\":false,\"text\":\"0.99\",\"x\":\"MDVP:Jitter(%)\",\"xref\":\"x\",\"y\":\"Jitter:DDP\",\"yref\":\"y\"},{\"font\":{\"color\":\"#FFFFFF\"},\"showarrow\":false,\"text\":\"0.92\",\"x\":\"MDVP:Jitter(Abs)\",\"xref\":\"x\",\"y\":\"Jitter:DDP\",\"yref\":\"y\"},{\"font\":{\"color\":\"#FFFFFF\"},\"showarrow\":false,\"text\":\"1.0\",\"x\":\"MDVP:RAP\",\"xref\":\"x\",\"y\":\"Jitter:DDP\",\"yref\":\"y\"},{\"font\":{\"color\":\"#FFFFFF\"},\"showarrow\":false,\"text\":\"0.96\",\"x\":\"MDVP:PPQ\",\"xref\":\"x\",\"y\":\"Jitter:DDP\",\"yref\":\"y\"},{\"font\":{\"color\":\"#FFFFFF\"},\"showarrow\":false,\"text\":\"1.0\",\"x\":\"Jitter:DDP\",\"xref\":\"x\",\"y\":\"Jitter:DDP\",\"yref\":\"y\"},{\"font\":{\"color\":\"#FFFFFF\"},\"showarrow\":false,\"text\":\"0.76\",\"x\":\"MDVP:Shimmer\",\"xref\":\"x\",\"y\":\"Jitter:DDP\",\"yref\":\"y\"},{\"font\":{\"color\":\"#FFFFFF\"},\"showarrow\":false,\"text\":\"0.79\",\"x\":\"MDVP:Shimmer(dB)\",\"xref\":\"x\",\"y\":\"Jitter:DDP\",\"yref\":\"y\"},{\"font\":{\"color\":\"#FFFFFF\"},\"showarrow\":false,\"text\":\"0.74\",\"x\":\"Shimmer:APQ3\",\"xref\":\"x\",\"y\":\"Jitter:DDP\",\"yref\":\"y\"},{\"font\":{\"color\":\"#FFFFFF\"},\"showarrow\":false,\"text\":\"0.71\",\"x\":\"Shimmer:APQ5\",\"xref\":\"x\",\"y\":\"Jitter:DDP\",\"yref\":\"y\"},{\"font\":{\"color\":\"#FFFFFF\"},\"showarrow\":false,\"text\":\"0.74\",\"x\":\"MDVP:APQ\",\"xref\":\"x\",\"y\":\"Jitter:DDP\",\"yref\":\"y\"},{\"font\":{\"color\":\"#FFFFFF\"},\"showarrow\":false,\"text\":\"0.74\",\"x\":\"Shimmer:DDA\",\"xref\":\"x\",\"y\":\"Jitter:DDP\",\"yref\":\"y\"},{\"font\":{\"color\":\"#FFFFFF\"},\"showarrow\":false,\"text\":\"0.92\",\"x\":\"NHR\",\"xref\":\"x\",\"y\":\"Jitter:DDP\",\"yref\":\"y\"},{\"font\":{\"color\":\"#FFFFFF\"},\"showarrow\":false,\"text\":\"-0.72\",\"x\":\"HNR\",\"xref\":\"x\",\"y\":\"Jitter:DDP\",\"yref\":\"y\"},{\"font\":{\"color\":\"#FFFFFF\"},\"showarrow\":false,\"text\":\"0.27\",\"x\":\"status\",\"xref\":\"x\",\"y\":\"Jitter:DDP\",\"yref\":\"y\"},{\"font\":{\"color\":\"#FFFFFF\"},\"showarrow\":false,\"text\":\"0.34\",\"x\":\"RPDE\",\"xref\":\"x\",\"y\":\"Jitter:DDP\",\"yref\":\"y\"},{\"font\":{\"color\":\"#FFFFFF\"},\"showarrow\":false,\"text\":\"0.06\",\"x\":\"DFA\",\"xref\":\"x\",\"y\":\"Jitter:DDP\",\"yref\":\"y\"},{\"font\":{\"color\":\"#FFFFFF\"},\"showarrow\":false,\"text\":\"0.65\",\"x\":\"spread1\",\"xref\":\"x\",\"y\":\"Jitter:DDP\",\"yref\":\"y\"},{\"font\":{\"color\":\"#FFFFFF\"},\"showarrow\":false,\"text\":\"0.32\",\"x\":\"spread2\",\"xref\":\"x\",\"y\":\"Jitter:DDP\",\"yref\":\"y\"},{\"font\":{\"color\":\"#FFFFFF\"},\"showarrow\":false,\"text\":\"0.43\",\"x\":\"D2\",\"xref\":\"x\",\"y\":\"Jitter:DDP\",\"yref\":\"y\"},{\"font\":{\"color\":\"#FFFFFF\"},\"showarrow\":false,\"text\":\"0.67\",\"x\":\"PPE\",\"xref\":\"x\",\"y\":\"Jitter:DDP\",\"yref\":\"y\"},{\"font\":{\"color\":\"#FFFFFF\"},\"showarrow\":false,\"text\":\"-0.1\",\"x\":\"MDVP:Fo(Hz)\",\"xref\":\"x\",\"y\":\"MDVP:Shimmer\",\"yref\":\"y\"},{\"font\":{\"color\":\"#FFFFFF\"},\"showarrow\":false,\"text\":\"0.0\",\"x\":\"MDVP:Fhi(Hz)\",\"xref\":\"x\",\"y\":\"MDVP:Shimmer\",\"yref\":\"y\"},{\"font\":{\"color\":\"#FFFFFF\"},\"showarrow\":false,\"text\":\"-0.14\",\"x\":\"MDVP:Flo(Hz)\",\"xref\":\"x\",\"y\":\"MDVP:Shimmer\",\"yref\":\"y\"},{\"font\":{\"color\":\"#FFFFFF\"},\"showarrow\":false,\"text\":\"0.77\",\"x\":\"MDVP:Jitter(%)\",\"xref\":\"x\",\"y\":\"MDVP:Shimmer\",\"yref\":\"y\"},{\"font\":{\"color\":\"#FFFFFF\"},\"showarrow\":false,\"text\":\"0.7\",\"x\":\"MDVP:Jitter(Abs)\",\"xref\":\"x\",\"y\":\"MDVP:Shimmer\",\"yref\":\"y\"},{\"font\":{\"color\":\"#FFFFFF\"},\"showarrow\":false,\"text\":\"0.76\",\"x\":\"MDVP:RAP\",\"xref\":\"x\",\"y\":\"MDVP:Shimmer\",\"yref\":\"y\"},{\"font\":{\"color\":\"#FFFFFF\"},\"showarrow\":false,\"text\":\"0.8\",\"x\":\"MDVP:PPQ\",\"xref\":\"x\",\"y\":\"MDVP:Shimmer\",\"yref\":\"y\"},{\"font\":{\"color\":\"#FFFFFF\"},\"showarrow\":false,\"text\":\"0.76\",\"x\":\"Jitter:DDP\",\"xref\":\"x\",\"y\":\"MDVP:Shimmer\",\"yref\":\"y\"},{\"font\":{\"color\":\"#FFFFFF\"},\"showarrow\":false,\"text\":\"1.0\",\"x\":\"MDVP:Shimmer\",\"xref\":\"x\",\"y\":\"MDVP:Shimmer\",\"yref\":\"y\"},{\"font\":{\"color\":\"#FFFFFF\"},\"showarrow\":false,\"text\":\"0.99\",\"x\":\"MDVP:Shimmer(dB)\",\"xref\":\"x\",\"y\":\"MDVP:Shimmer\",\"yref\":\"y\"},{\"font\":{\"color\":\"#FFFFFF\"},\"showarrow\":false,\"text\":\"0.99\",\"x\":\"Shimmer:APQ3\",\"xref\":\"x\",\"y\":\"MDVP:Shimmer\",\"yref\":\"y\"},{\"font\":{\"color\":\"#FFFFFF\"},\"showarrow\":false,\"text\":\"0.98\",\"x\":\"Shimmer:APQ5\",\"xref\":\"x\",\"y\":\"MDVP:Shimmer\",\"yref\":\"y\"},{\"font\":{\"color\":\"#FFFFFF\"},\"showarrow\":false,\"text\":\"0.95\",\"x\":\"MDVP:APQ\",\"xref\":\"x\",\"y\":\"MDVP:Shimmer\",\"yref\":\"y\"},{\"font\":{\"color\":\"#FFFFFF\"},\"showarrow\":false,\"text\":\"0.99\",\"x\":\"Shimmer:DDA\",\"xref\":\"x\",\"y\":\"MDVP:Shimmer\",\"yref\":\"y\"},{\"font\":{\"color\":\"#FFFFFF\"},\"showarrow\":false,\"text\":\"0.72\",\"x\":\"NHR\",\"xref\":\"x\",\"y\":\"MDVP:Shimmer\",\"yref\":\"y\"},{\"font\":{\"color\":\"#FFFFFF\"},\"showarrow\":false,\"text\":\"-0.84\",\"x\":\"HNR\",\"xref\":\"x\",\"y\":\"MDVP:Shimmer\",\"yref\":\"y\"},{\"font\":{\"color\":\"#FFFFFF\"},\"showarrow\":false,\"text\":\"0.37\",\"x\":\"status\",\"xref\":\"x\",\"y\":\"MDVP:Shimmer\",\"yref\":\"y\"},{\"font\":{\"color\":\"#FFFFFF\"},\"showarrow\":false,\"text\":\"0.45\",\"x\":\"RPDE\",\"xref\":\"x\",\"y\":\"MDVP:Shimmer\",\"yref\":\"y\"},{\"font\":{\"color\":\"#FFFFFF\"},\"showarrow\":false,\"text\":\"0.16\",\"x\":\"DFA\",\"xref\":\"x\",\"y\":\"MDVP:Shimmer\",\"yref\":\"y\"},{\"font\":{\"color\":\"#FFFFFF\"},\"showarrow\":false,\"text\":\"0.65\",\"x\":\"spread1\",\"xref\":\"x\",\"y\":\"MDVP:Shimmer\",\"yref\":\"y\"},{\"font\":{\"color\":\"#FFFFFF\"},\"showarrow\":false,\"text\":\"0.45\",\"x\":\"spread2\",\"xref\":\"x\",\"y\":\"MDVP:Shimmer\",\"yref\":\"y\"},{\"font\":{\"color\":\"#FFFFFF\"},\"showarrow\":false,\"text\":\"0.51\",\"x\":\"D2\",\"xref\":\"x\",\"y\":\"MDVP:Shimmer\",\"yref\":\"y\"},{\"font\":{\"color\":\"#FFFFFF\"},\"showarrow\":false,\"text\":\"0.69\",\"x\":\"PPE\",\"xref\":\"x\",\"y\":\"MDVP:Shimmer\",\"yref\":\"y\"},{\"font\":{\"color\":\"#FFFFFF\"},\"showarrow\":false,\"text\":\"-0.07\",\"x\":\"MDVP:Fo(Hz)\",\"xref\":\"x\",\"y\":\"MDVP:Shimmer(dB)\",\"yref\":\"y\"},{\"font\":{\"color\":\"#FFFFFF\"},\"showarrow\":false,\"text\":\"0.04\",\"x\":\"MDVP:Fhi(Hz)\",\"xref\":\"x\",\"y\":\"MDVP:Shimmer(dB)\",\"yref\":\"y\"},{\"font\":{\"color\":\"#FFFFFF\"},\"showarrow\":false,\"text\":\"-0.12\",\"x\":\"MDVP:Flo(Hz)\",\"xref\":\"x\",\"y\":\"MDVP:Shimmer(dB)\",\"yref\":\"y\"},{\"font\":{\"color\":\"#FFFFFF\"},\"showarrow\":false,\"text\":\"0.8\",\"x\":\"MDVP:Jitter(%)\",\"xref\":\"x\",\"y\":\"MDVP:Shimmer(dB)\",\"yref\":\"y\"},{\"font\":{\"color\":\"#FFFFFF\"},\"showarrow\":false,\"text\":\"0.72\",\"x\":\"MDVP:Jitter(Abs)\",\"xref\":\"x\",\"y\":\"MDVP:Shimmer(dB)\",\"yref\":\"y\"},{\"font\":{\"color\":\"#FFFFFF\"},\"showarrow\":false,\"text\":\"0.79\",\"x\":\"MDVP:RAP\",\"xref\":\"x\",\"y\":\"MDVP:Shimmer(dB)\",\"yref\":\"y\"},{\"font\":{\"color\":\"#FFFFFF\"},\"showarrow\":false,\"text\":\"0.84\",\"x\":\"MDVP:PPQ\",\"xref\":\"x\",\"y\":\"MDVP:Shimmer(dB)\",\"yref\":\"y\"},{\"font\":{\"color\":\"#FFFFFF\"},\"showarrow\":false,\"text\":\"0.79\",\"x\":\"Jitter:DDP\",\"xref\":\"x\",\"y\":\"MDVP:Shimmer(dB)\",\"yref\":\"y\"},{\"font\":{\"color\":\"#FFFFFF\"},\"showarrow\":false,\"text\":\"0.99\",\"x\":\"MDVP:Shimmer\",\"xref\":\"x\",\"y\":\"MDVP:Shimmer(dB)\",\"yref\":\"y\"},{\"font\":{\"color\":\"#FFFFFF\"},\"showarrow\":false,\"text\":\"1.0\",\"x\":\"MDVP:Shimmer(dB)\",\"xref\":\"x\",\"y\":\"MDVP:Shimmer(dB)\",\"yref\":\"y\"},{\"font\":{\"color\":\"#FFFFFF\"},\"showarrow\":false,\"text\":\"0.96\",\"x\":\"Shimmer:APQ3\",\"xref\":\"x\",\"y\":\"MDVP:Shimmer(dB)\",\"yref\":\"y\"},{\"font\":{\"color\":\"#FFFFFF\"},\"showarrow\":false,\"text\":\"0.97\",\"x\":\"Shimmer:APQ5\",\"xref\":\"x\",\"y\":\"MDVP:Shimmer(dB)\",\"yref\":\"y\"},{\"font\":{\"color\":\"#FFFFFF\"},\"showarrow\":false,\"text\":\"0.96\",\"x\":\"MDVP:APQ\",\"xref\":\"x\",\"y\":\"MDVP:Shimmer(dB)\",\"yref\":\"y\"},{\"font\":{\"color\":\"#FFFFFF\"},\"showarrow\":false,\"text\":\"0.96\",\"x\":\"Shimmer:DDA\",\"xref\":\"x\",\"y\":\"MDVP:Shimmer(dB)\",\"yref\":\"y\"},{\"font\":{\"color\":\"#FFFFFF\"},\"showarrow\":false,\"text\":\"0.74\",\"x\":\"NHR\",\"xref\":\"x\",\"y\":\"MDVP:Shimmer(dB)\",\"yref\":\"y\"},{\"font\":{\"color\":\"#FFFFFF\"},\"showarrow\":false,\"text\":\"-0.83\",\"x\":\"HNR\",\"xref\":\"x\",\"y\":\"MDVP:Shimmer(dB)\",\"yref\":\"y\"},{\"font\":{\"color\":\"#FFFFFF\"},\"showarrow\":false,\"text\":\"0.35\",\"x\":\"status\",\"xref\":\"x\",\"y\":\"MDVP:Shimmer(dB)\",\"yref\":\"y\"},{\"font\":{\"color\":\"#FFFFFF\"},\"showarrow\":false,\"text\":\"0.41\",\"x\":\"RPDE\",\"xref\":\"x\",\"y\":\"MDVP:Shimmer(dB)\",\"yref\":\"y\"},{\"font\":{\"color\":\"#FFFFFF\"},\"showarrow\":false,\"text\":\"0.17\",\"x\":\"DFA\",\"xref\":\"x\",\"y\":\"MDVP:Shimmer(dB)\",\"yref\":\"y\"},{\"font\":{\"color\":\"#FFFFFF\"},\"showarrow\":false,\"text\":\"0.65\",\"x\":\"spread1\",\"xref\":\"x\",\"y\":\"MDVP:Shimmer(dB)\",\"yref\":\"y\"},{\"font\":{\"color\":\"#FFFFFF\"},\"showarrow\":false,\"text\":\"0.45\",\"x\":\"spread2\",\"xref\":\"x\",\"y\":\"MDVP:Shimmer(dB)\",\"yref\":\"y\"},{\"font\":{\"color\":\"#FFFFFF\"},\"showarrow\":false,\"text\":\"0.51\",\"x\":\"D2\",\"xref\":\"x\",\"y\":\"MDVP:Shimmer(dB)\",\"yref\":\"y\"},{\"font\":{\"color\":\"#FFFFFF\"},\"showarrow\":false,\"text\":\"0.7\",\"x\":\"PPE\",\"xref\":\"x\",\"y\":\"MDVP:Shimmer(dB)\",\"yref\":\"y\"},{\"font\":{\"color\":\"#FFFFFF\"},\"showarrow\":false,\"text\":\"-0.09\",\"x\":\"MDVP:Fo(Hz)\",\"xref\":\"x\",\"y\":\"Shimmer:APQ3\",\"yref\":\"y\"},{\"font\":{\"color\":\"#FFFFFF\"},\"showarrow\":false,\"text\":\"-0.0\",\"x\":\"MDVP:Fhi(Hz)\",\"xref\":\"x\",\"y\":\"Shimmer:APQ3\",\"yref\":\"y\"},{\"font\":{\"color\":\"#FFFFFF\"},\"showarrow\":false,\"text\":\"-0.15\",\"x\":\"MDVP:Flo(Hz)\",\"xref\":\"x\",\"y\":\"Shimmer:APQ3\",\"yref\":\"y\"},{\"font\":{\"color\":\"#FFFFFF\"},\"showarrow\":false,\"text\":\"0.75\",\"x\":\"MDVP:Jitter(%)\",\"xref\":\"x\",\"y\":\"Shimmer:APQ3\",\"yref\":\"y\"},{\"font\":{\"color\":\"#FFFFFF\"},\"showarrow\":false,\"text\":\"0.7\",\"x\":\"MDVP:Jitter(Abs)\",\"xref\":\"x\",\"y\":\"Shimmer:APQ3\",\"yref\":\"y\"},{\"font\":{\"color\":\"#FFFFFF\"},\"showarrow\":false,\"text\":\"0.74\",\"x\":\"MDVP:RAP\",\"xref\":\"x\",\"y\":\"Shimmer:APQ3\",\"yref\":\"y\"},{\"font\":{\"color\":\"#FFFFFF\"},\"showarrow\":false,\"text\":\"0.76\",\"x\":\"MDVP:PPQ\",\"xref\":\"x\",\"y\":\"Shimmer:APQ3\",\"yref\":\"y\"},{\"font\":{\"color\":\"#FFFFFF\"},\"showarrow\":false,\"text\":\"0.74\",\"x\":\"Jitter:DDP\",\"xref\":\"x\",\"y\":\"Shimmer:APQ3\",\"yref\":\"y\"},{\"font\":{\"color\":\"#FFFFFF\"},\"showarrow\":false,\"text\":\"0.99\",\"x\":\"MDVP:Shimmer\",\"xref\":\"x\",\"y\":\"Shimmer:APQ3\",\"yref\":\"y\"},{\"font\":{\"color\":\"#FFFFFF\"},\"showarrow\":false,\"text\":\"0.96\",\"x\":\"MDVP:Shimmer(dB)\",\"xref\":\"x\",\"y\":\"Shimmer:APQ3\",\"yref\":\"y\"},{\"font\":{\"color\":\"#FFFFFF\"},\"showarrow\":false,\"text\":\"1.0\",\"x\":\"Shimmer:APQ3\",\"xref\":\"x\",\"y\":\"Shimmer:APQ3\",\"yref\":\"y\"},{\"font\":{\"color\":\"#FFFFFF\"},\"showarrow\":false,\"text\":\"0.96\",\"x\":\"Shimmer:APQ5\",\"xref\":\"x\",\"y\":\"Shimmer:APQ3\",\"yref\":\"y\"},{\"font\":{\"color\":\"#FFFFFF\"},\"showarrow\":false,\"text\":\"0.9\",\"x\":\"MDVP:APQ\",\"xref\":\"x\",\"y\":\"Shimmer:APQ3\",\"yref\":\"y\"},{\"font\":{\"color\":\"#FFFFFF\"},\"showarrow\":false,\"text\":\"1.0\",\"x\":\"Shimmer:DDA\",\"xref\":\"x\",\"y\":\"Shimmer:APQ3\",\"yref\":\"y\"},{\"font\":{\"color\":\"#FFFFFF\"},\"showarrow\":false,\"text\":\"0.72\",\"x\":\"NHR\",\"xref\":\"x\",\"y\":\"Shimmer:APQ3\",\"yref\":\"y\"},{\"font\":{\"color\":\"#FFFFFF\"},\"showarrow\":false,\"text\":\"-0.83\",\"x\":\"HNR\",\"xref\":\"x\",\"y\":\"Shimmer:APQ3\",\"yref\":\"y\"},{\"font\":{\"color\":\"#FFFFFF\"},\"showarrow\":false,\"text\":\"0.35\",\"x\":\"status\",\"xref\":\"x\",\"y\":\"Shimmer:APQ3\",\"yref\":\"y\"},{\"font\":{\"color\":\"#FFFFFF\"},\"showarrow\":false,\"text\":\"0.44\",\"x\":\"RPDE\",\"xref\":\"x\",\"y\":\"Shimmer:APQ3\",\"yref\":\"y\"},{\"font\":{\"color\":\"#FFFFFF\"},\"showarrow\":false,\"text\":\"0.15\",\"x\":\"DFA\",\"xref\":\"x\",\"y\":\"Shimmer:APQ3\",\"yref\":\"y\"},{\"font\":{\"color\":\"#FFFFFF\"},\"showarrow\":false,\"text\":\"0.61\",\"x\":\"spread1\",\"xref\":\"x\",\"y\":\"Shimmer:APQ3\",\"yref\":\"y\"},{\"font\":{\"color\":\"#FFFFFF\"},\"showarrow\":false,\"text\":\"0.4\",\"x\":\"spread2\",\"xref\":\"x\",\"y\":\"Shimmer:APQ3\",\"yref\":\"y\"},{\"font\":{\"color\":\"#FFFFFF\"},\"showarrow\":false,\"text\":\"0.47\",\"x\":\"D2\",\"xref\":\"x\",\"y\":\"Shimmer:APQ3\",\"yref\":\"y\"},{\"font\":{\"color\":\"#FFFFFF\"},\"showarrow\":false,\"text\":\"0.65\",\"x\":\"PPE\",\"xref\":\"x\",\"y\":\"Shimmer:APQ3\",\"yref\":\"y\"},{\"font\":{\"color\":\"#FFFFFF\"},\"showarrow\":false,\"text\":\"-0.07\",\"x\":\"MDVP:Fo(Hz)\",\"xref\":\"x\",\"y\":\"Shimmer:APQ5\",\"yref\":\"y\"},{\"font\":{\"color\":\"#FFFFFF\"},\"showarrow\":false,\"text\":\"-0.01\",\"x\":\"MDVP:Fhi(Hz)\",\"xref\":\"x\",\"y\":\"Shimmer:APQ5\",\"yref\":\"y\"},{\"font\":{\"color\":\"#FFFFFF\"},\"showarrow\":false,\"text\":\"-0.1\",\"x\":\"MDVP:Flo(Hz)\",\"xref\":\"x\",\"y\":\"Shimmer:APQ5\",\"yref\":\"y\"},{\"font\":{\"color\":\"#FFFFFF\"},\"showarrow\":false,\"text\":\"0.73\",\"x\":\"MDVP:Jitter(%)\",\"xref\":\"x\",\"y\":\"Shimmer:APQ5\",\"yref\":\"y\"},{\"font\":{\"color\":\"#FFFFFF\"},\"showarrow\":false,\"text\":\"0.65\",\"x\":\"MDVP:Jitter(Abs)\",\"xref\":\"x\",\"y\":\"Shimmer:APQ5\",\"yref\":\"y\"},{\"font\":{\"color\":\"#FFFFFF\"},\"showarrow\":false,\"text\":\"0.71\",\"x\":\"MDVP:RAP\",\"xref\":\"x\",\"y\":\"Shimmer:APQ5\",\"yref\":\"y\"},{\"font\":{\"color\":\"#FFFFFF\"},\"showarrow\":false,\"text\":\"0.79\",\"x\":\"MDVP:PPQ\",\"xref\":\"x\",\"y\":\"Shimmer:APQ5\",\"yref\":\"y\"},{\"font\":{\"color\":\"#FFFFFF\"},\"showarrow\":false,\"text\":\"0.71\",\"x\":\"Jitter:DDP\",\"xref\":\"x\",\"y\":\"Shimmer:APQ5\",\"yref\":\"y\"},{\"font\":{\"color\":\"#FFFFFF\"},\"showarrow\":false,\"text\":\"0.98\",\"x\":\"MDVP:Shimmer\",\"xref\":\"x\",\"y\":\"Shimmer:APQ5\",\"yref\":\"y\"},{\"font\":{\"color\":\"#FFFFFF\"},\"showarrow\":false,\"text\":\"0.97\",\"x\":\"MDVP:Shimmer(dB)\",\"xref\":\"x\",\"y\":\"Shimmer:APQ5\",\"yref\":\"y\"},{\"font\":{\"color\":\"#FFFFFF\"},\"showarrow\":false,\"text\":\"0.96\",\"x\":\"Shimmer:APQ3\",\"xref\":\"x\",\"y\":\"Shimmer:APQ5\",\"yref\":\"y\"},{\"font\":{\"color\":\"#FFFFFF\"},\"showarrow\":false,\"text\":\"1.0\",\"x\":\"Shimmer:APQ5\",\"xref\":\"x\",\"y\":\"Shimmer:APQ5\",\"yref\":\"y\"},{\"font\":{\"color\":\"#FFFFFF\"},\"showarrow\":false,\"text\":\"0.95\",\"x\":\"MDVP:APQ\",\"xref\":\"x\",\"y\":\"Shimmer:APQ5\",\"yref\":\"y\"},{\"font\":{\"color\":\"#FFFFFF\"},\"showarrow\":false,\"text\":\"0.96\",\"x\":\"Shimmer:DDA\",\"xref\":\"x\",\"y\":\"Shimmer:APQ5\",\"yref\":\"y\"},{\"font\":{\"color\":\"#FFFFFF\"},\"showarrow\":false,\"text\":\"0.66\",\"x\":\"NHR\",\"xref\":\"x\",\"y\":\"Shimmer:APQ5\",\"yref\":\"y\"},{\"font\":{\"color\":\"#FFFFFF\"},\"showarrow\":false,\"text\":\"-0.81\",\"x\":\"HNR\",\"xref\":\"x\",\"y\":\"Shimmer:APQ5\",\"yref\":\"y\"},{\"font\":{\"color\":\"#FFFFFF\"},\"showarrow\":false,\"text\":\"0.35\",\"x\":\"status\",\"xref\":\"x\",\"y\":\"Shimmer:APQ5\",\"yref\":\"y\"},{\"font\":{\"color\":\"#FFFFFF\"},\"showarrow\":false,\"text\":\"0.4\",\"x\":\"RPDE\",\"xref\":\"x\",\"y\":\"Shimmer:APQ5\",\"yref\":\"y\"},{\"font\":{\"color\":\"#FFFFFF\"},\"showarrow\":false,\"text\":\"0.21\",\"x\":\"DFA\",\"xref\":\"x\",\"y\":\"Shimmer:APQ5\",\"yref\":\"y\"},{\"font\":{\"color\":\"#FFFFFF\"},\"showarrow\":false,\"text\":\"0.65\",\"x\":\"spread1\",\"xref\":\"x\",\"y\":\"Shimmer:APQ5\",\"yref\":\"y\"},{\"font\":{\"color\":\"#FFFFFF\"},\"showarrow\":false,\"text\":\"0.46\",\"x\":\"spread2\",\"xref\":\"x\",\"y\":\"Shimmer:APQ5\",\"yref\":\"y\"},{\"font\":{\"color\":\"#FFFFFF\"},\"showarrow\":false,\"text\":\"0.5\",\"x\":\"D2\",\"xref\":\"x\",\"y\":\"Shimmer:APQ5\",\"yref\":\"y\"},{\"font\":{\"color\":\"#FFFFFF\"},\"showarrow\":false,\"text\":\"0.7\",\"x\":\"PPE\",\"xref\":\"x\",\"y\":\"Shimmer:APQ5\",\"yref\":\"y\"},{\"font\":{\"color\":\"#FFFFFF\"},\"showarrow\":false,\"text\":\"-0.08\",\"x\":\"MDVP:Fo(Hz)\",\"xref\":\"x\",\"y\":\"MDVP:APQ\",\"yref\":\"y\"},{\"font\":{\"color\":\"#FFFFFF\"},\"showarrow\":false,\"text\":\"0.0\",\"x\":\"MDVP:Fhi(Hz)\",\"xref\":\"x\",\"y\":\"MDVP:APQ\",\"yref\":\"y\"},{\"font\":{\"color\":\"#FFFFFF\"},\"showarrow\":false,\"text\":\"-0.11\",\"x\":\"MDVP:Flo(Hz)\",\"xref\":\"x\",\"y\":\"MDVP:APQ\",\"yref\":\"y\"},{\"font\":{\"color\":\"#FFFFFF\"},\"showarrow\":false,\"text\":\"0.76\",\"x\":\"MDVP:Jitter(%)\",\"xref\":\"x\",\"y\":\"MDVP:APQ\",\"yref\":\"y\"},{\"font\":{\"color\":\"#FFFFFF\"},\"showarrow\":false,\"text\":\"0.65\",\"x\":\"MDVP:Jitter(Abs)\",\"xref\":\"x\",\"y\":\"MDVP:APQ\",\"yref\":\"y\"},{\"font\":{\"color\":\"#FFFFFF\"},\"showarrow\":false,\"text\":\"0.74\",\"x\":\"MDVP:RAP\",\"xref\":\"x\",\"y\":\"MDVP:APQ\",\"yref\":\"y\"},{\"font\":{\"color\":\"#FFFFFF\"},\"showarrow\":false,\"text\":\"0.8\",\"x\":\"MDVP:PPQ\",\"xref\":\"x\",\"y\":\"MDVP:APQ\",\"yref\":\"y\"},{\"font\":{\"color\":\"#FFFFFF\"},\"showarrow\":false,\"text\":\"0.74\",\"x\":\"Jitter:DDP\",\"xref\":\"x\",\"y\":\"MDVP:APQ\",\"yref\":\"y\"},{\"font\":{\"color\":\"#FFFFFF\"},\"showarrow\":false,\"text\":\"0.95\",\"x\":\"MDVP:Shimmer\",\"xref\":\"x\",\"y\":\"MDVP:APQ\",\"yref\":\"y\"},{\"font\":{\"color\":\"#FFFFFF\"},\"showarrow\":false,\"text\":\"0.96\",\"x\":\"MDVP:Shimmer(dB)\",\"xref\":\"x\",\"y\":\"MDVP:APQ\",\"yref\":\"y\"},{\"font\":{\"color\":\"#FFFFFF\"},\"showarrow\":false,\"text\":\"0.9\",\"x\":\"Shimmer:APQ3\",\"xref\":\"x\",\"y\":\"MDVP:APQ\",\"yref\":\"y\"},{\"font\":{\"color\":\"#FFFFFF\"},\"showarrow\":false,\"text\":\"0.95\",\"x\":\"Shimmer:APQ5\",\"xref\":\"x\",\"y\":\"MDVP:APQ\",\"yref\":\"y\"},{\"font\":{\"color\":\"#FFFFFF\"},\"showarrow\":false,\"text\":\"1.0\",\"x\":\"MDVP:APQ\",\"xref\":\"x\",\"y\":\"MDVP:APQ\",\"yref\":\"y\"},{\"font\":{\"color\":\"#FFFFFF\"},\"showarrow\":false,\"text\":\"0.9\",\"x\":\"Shimmer:DDA\",\"xref\":\"x\",\"y\":\"MDVP:APQ\",\"yref\":\"y\"},{\"font\":{\"color\":\"#FFFFFF\"},\"showarrow\":false,\"text\":\"0.69\",\"x\":\"NHR\",\"xref\":\"x\",\"y\":\"MDVP:APQ\",\"yref\":\"y\"},{\"font\":{\"color\":\"#FFFFFF\"},\"showarrow\":false,\"text\":\"-0.8\",\"x\":\"HNR\",\"xref\":\"x\",\"y\":\"MDVP:APQ\",\"yref\":\"y\"},{\"font\":{\"color\":\"#FFFFFF\"},\"showarrow\":false,\"text\":\"0.36\",\"x\":\"status\",\"xref\":\"x\",\"y\":\"MDVP:APQ\",\"yref\":\"y\"},{\"font\":{\"color\":\"#FFFFFF\"},\"showarrow\":false,\"text\":\"0.45\",\"x\":\"RPDE\",\"xref\":\"x\",\"y\":\"MDVP:APQ\",\"yref\":\"y\"},{\"font\":{\"color\":\"#FFFFFF\"},\"showarrow\":false,\"text\":\"0.16\",\"x\":\"DFA\",\"xref\":\"x\",\"y\":\"MDVP:APQ\",\"yref\":\"y\"},{\"font\":{\"color\":\"#FFFFFF\"},\"showarrow\":false,\"text\":\"0.67\",\"x\":\"spread1\",\"xref\":\"x\",\"y\":\"MDVP:APQ\",\"yref\":\"y\"},{\"font\":{\"color\":\"#FFFFFF\"},\"showarrow\":false,\"text\":\"0.5\",\"x\":\"spread2\",\"xref\":\"x\",\"y\":\"MDVP:APQ\",\"yref\":\"y\"},{\"font\":{\"color\":\"#FFFFFF\"},\"showarrow\":false,\"text\":\"0.54\",\"x\":\"D2\",\"xref\":\"x\",\"y\":\"MDVP:APQ\",\"yref\":\"y\"},{\"font\":{\"color\":\"#FFFFFF\"},\"showarrow\":false,\"text\":\"0.72\",\"x\":\"PPE\",\"xref\":\"x\",\"y\":\"MDVP:APQ\",\"yref\":\"y\"},{\"font\":{\"color\":\"#FFFFFF\"},\"showarrow\":false,\"text\":\"-0.09\",\"x\":\"MDVP:Fo(Hz)\",\"xref\":\"x\",\"y\":\"Shimmer:DDA\",\"yref\":\"y\"},{\"font\":{\"color\":\"#FFFFFF\"},\"showarrow\":false,\"text\":\"-0.0\",\"x\":\"MDVP:Fhi(Hz)\",\"xref\":\"x\",\"y\":\"Shimmer:DDA\",\"yref\":\"y\"},{\"font\":{\"color\":\"#FFFFFF\"},\"showarrow\":false,\"text\":\"-0.15\",\"x\":\"MDVP:Flo(Hz)\",\"xref\":\"x\",\"y\":\"Shimmer:DDA\",\"yref\":\"y\"},{\"font\":{\"color\":\"#FFFFFF\"},\"showarrow\":false,\"text\":\"0.75\",\"x\":\"MDVP:Jitter(%)\",\"xref\":\"x\",\"y\":\"Shimmer:DDA\",\"yref\":\"y\"},{\"font\":{\"color\":\"#FFFFFF\"},\"showarrow\":false,\"text\":\"0.7\",\"x\":\"MDVP:Jitter(Abs)\",\"xref\":\"x\",\"y\":\"Shimmer:DDA\",\"yref\":\"y\"},{\"font\":{\"color\":\"#FFFFFF\"},\"showarrow\":false,\"text\":\"0.74\",\"x\":\"MDVP:RAP\",\"xref\":\"x\",\"y\":\"Shimmer:DDA\",\"yref\":\"y\"},{\"font\":{\"color\":\"#FFFFFF\"},\"showarrow\":false,\"text\":\"0.76\",\"x\":\"MDVP:PPQ\",\"xref\":\"x\",\"y\":\"Shimmer:DDA\",\"yref\":\"y\"},{\"font\":{\"color\":\"#FFFFFF\"},\"showarrow\":false,\"text\":\"0.74\",\"x\":\"Jitter:DDP\",\"xref\":\"x\",\"y\":\"Shimmer:DDA\",\"yref\":\"y\"},{\"font\":{\"color\":\"#FFFFFF\"},\"showarrow\":false,\"text\":\"0.99\",\"x\":\"MDVP:Shimmer\",\"xref\":\"x\",\"y\":\"Shimmer:DDA\",\"yref\":\"y\"},{\"font\":{\"color\":\"#FFFFFF\"},\"showarrow\":false,\"text\":\"0.96\",\"x\":\"MDVP:Shimmer(dB)\",\"xref\":\"x\",\"y\":\"Shimmer:DDA\",\"yref\":\"y\"},{\"font\":{\"color\":\"#FFFFFF\"},\"showarrow\":false,\"text\":\"1.0\",\"x\":\"Shimmer:APQ3\",\"xref\":\"x\",\"y\":\"Shimmer:DDA\",\"yref\":\"y\"},{\"font\":{\"color\":\"#FFFFFF\"},\"showarrow\":false,\"text\":\"0.96\",\"x\":\"Shimmer:APQ5\",\"xref\":\"x\",\"y\":\"Shimmer:DDA\",\"yref\":\"y\"},{\"font\":{\"color\":\"#FFFFFF\"},\"showarrow\":false,\"text\":\"0.9\",\"x\":\"MDVP:APQ\",\"xref\":\"x\",\"y\":\"Shimmer:DDA\",\"yref\":\"y\"},{\"font\":{\"color\":\"#FFFFFF\"},\"showarrow\":false,\"text\":\"1.0\",\"x\":\"Shimmer:DDA\",\"xref\":\"x\",\"y\":\"Shimmer:DDA\",\"yref\":\"y\"},{\"font\":{\"color\":\"#FFFFFF\"},\"showarrow\":false,\"text\":\"0.72\",\"x\":\"NHR\",\"xref\":\"x\",\"y\":\"Shimmer:DDA\",\"yref\":\"y\"},{\"font\":{\"color\":\"#FFFFFF\"},\"showarrow\":false,\"text\":\"-0.83\",\"x\":\"HNR\",\"xref\":\"x\",\"y\":\"Shimmer:DDA\",\"yref\":\"y\"},{\"font\":{\"color\":\"#FFFFFF\"},\"showarrow\":false,\"text\":\"0.35\",\"x\":\"status\",\"xref\":\"x\",\"y\":\"Shimmer:DDA\",\"yref\":\"y\"},{\"font\":{\"color\":\"#FFFFFF\"},\"showarrow\":false,\"text\":\"0.44\",\"x\":\"RPDE\",\"xref\":\"x\",\"y\":\"Shimmer:DDA\",\"yref\":\"y\"},{\"font\":{\"color\":\"#FFFFFF\"},\"showarrow\":false,\"text\":\"0.15\",\"x\":\"DFA\",\"xref\":\"x\",\"y\":\"Shimmer:DDA\",\"yref\":\"y\"},{\"font\":{\"color\":\"#FFFFFF\"},\"showarrow\":false,\"text\":\"0.61\",\"x\":\"spread1\",\"xref\":\"x\",\"y\":\"Shimmer:DDA\",\"yref\":\"y\"},{\"font\":{\"color\":\"#FFFFFF\"},\"showarrow\":false,\"text\":\"0.4\",\"x\":\"spread2\",\"xref\":\"x\",\"y\":\"Shimmer:DDA\",\"yref\":\"y\"},{\"font\":{\"color\":\"#FFFFFF\"},\"showarrow\":false,\"text\":\"0.47\",\"x\":\"D2\",\"xref\":\"x\",\"y\":\"Shimmer:DDA\",\"yref\":\"y\"},{\"font\":{\"color\":\"#FFFFFF\"},\"showarrow\":false,\"text\":\"0.65\",\"x\":\"PPE\",\"xref\":\"x\",\"y\":\"Shimmer:DDA\",\"yref\":\"y\"},{\"font\":{\"color\":\"#FFFFFF\"},\"showarrow\":false,\"text\":\"-0.02\",\"x\":\"MDVP:Fo(Hz)\",\"xref\":\"x\",\"y\":\"NHR\",\"yref\":\"y\"},{\"font\":{\"color\":\"#FFFFFF\"},\"showarrow\":false,\"text\":\"0.16\",\"x\":\"MDVP:Fhi(Hz)\",\"xref\":\"x\",\"y\":\"NHR\",\"yref\":\"y\"},{\"font\":{\"color\":\"#FFFFFF\"},\"showarrow\":false,\"text\":\"-0.11\",\"x\":\"MDVP:Flo(Hz)\",\"xref\":\"x\",\"y\":\"NHR\",\"yref\":\"y\"},{\"font\":{\"color\":\"#FFFFFF\"},\"showarrow\":false,\"text\":\"0.91\",\"x\":\"MDVP:Jitter(%)\",\"xref\":\"x\",\"y\":\"NHR\",\"yref\":\"y\"},{\"font\":{\"color\":\"#FFFFFF\"},\"showarrow\":false,\"text\":\"0.83\",\"x\":\"MDVP:Jitter(Abs)\",\"xref\":\"x\",\"y\":\"NHR\",\"yref\":\"y\"},{\"font\":{\"color\":\"#FFFFFF\"},\"showarrow\":false,\"text\":\"0.92\",\"x\":\"MDVP:RAP\",\"xref\":\"x\",\"y\":\"NHR\",\"yref\":\"y\"},{\"font\":{\"color\":\"#FFFFFF\"},\"showarrow\":false,\"text\":\"0.84\",\"x\":\"MDVP:PPQ\",\"xref\":\"x\",\"y\":\"NHR\",\"yref\":\"y\"},{\"font\":{\"color\":\"#FFFFFF\"},\"showarrow\":false,\"text\":\"0.92\",\"x\":\"Jitter:DDP\",\"xref\":\"x\",\"y\":\"NHR\",\"yref\":\"y\"},{\"font\":{\"color\":\"#FFFFFF\"},\"showarrow\":false,\"text\":\"0.72\",\"x\":\"MDVP:Shimmer\",\"xref\":\"x\",\"y\":\"NHR\",\"yref\":\"y\"},{\"font\":{\"color\":\"#FFFFFF\"},\"showarrow\":false,\"text\":\"0.74\",\"x\":\"MDVP:Shimmer(dB)\",\"xref\":\"x\",\"y\":\"NHR\",\"yref\":\"y\"},{\"font\":{\"color\":\"#FFFFFF\"},\"showarrow\":false,\"text\":\"0.72\",\"x\":\"Shimmer:APQ3\",\"xref\":\"x\",\"y\":\"NHR\",\"yref\":\"y\"},{\"font\":{\"color\":\"#FFFFFF\"},\"showarrow\":false,\"text\":\"0.66\",\"x\":\"Shimmer:APQ5\",\"xref\":\"x\",\"y\":\"NHR\",\"yref\":\"y\"},{\"font\":{\"color\":\"#FFFFFF\"},\"showarrow\":false,\"text\":\"0.69\",\"x\":\"MDVP:APQ\",\"xref\":\"x\",\"y\":\"NHR\",\"yref\":\"y\"},{\"font\":{\"color\":\"#FFFFFF\"},\"showarrow\":false,\"text\":\"0.72\",\"x\":\"Shimmer:DDA\",\"xref\":\"x\",\"y\":\"NHR\",\"yref\":\"y\"},{\"font\":{\"color\":\"#FFFFFF\"},\"showarrow\":false,\"text\":\"1.0\",\"x\":\"NHR\",\"xref\":\"x\",\"y\":\"NHR\",\"yref\":\"y\"},{\"font\":{\"color\":\"#FFFFFF\"},\"showarrow\":false,\"text\":\"-0.71\",\"x\":\"HNR\",\"xref\":\"x\",\"y\":\"NHR\",\"yref\":\"y\"},{\"font\":{\"color\":\"#FFFFFF\"},\"showarrow\":false,\"text\":\"0.19\",\"x\":\"status\",\"xref\":\"x\",\"y\":\"NHR\",\"yref\":\"y\"},{\"font\":{\"color\":\"#FFFFFF\"},\"showarrow\":false,\"text\":\"0.37\",\"x\":\"RPDE\",\"xref\":\"x\",\"y\":\"NHR\",\"yref\":\"y\"},{\"font\":{\"color\":\"#FFFFFF\"},\"showarrow\":false,\"text\":\"-0.13\",\"x\":\"DFA\",\"xref\":\"x\",\"y\":\"NHR\",\"yref\":\"y\"},{\"font\":{\"color\":\"#FFFFFF\"},\"showarrow\":false,\"text\":\"0.54\",\"x\":\"spread1\",\"xref\":\"x\",\"y\":\"NHR\",\"yref\":\"y\"},{\"font\":{\"color\":\"#FFFFFF\"},\"showarrow\":false,\"text\":\"0.32\",\"x\":\"spread2\",\"xref\":\"x\",\"y\":\"NHR\",\"yref\":\"y\"},{\"font\":{\"color\":\"#FFFFFF\"},\"showarrow\":false,\"text\":\"0.47\",\"x\":\"D2\",\"xref\":\"x\",\"y\":\"NHR\",\"yref\":\"y\"},{\"font\":{\"color\":\"#FFFFFF\"},\"showarrow\":false,\"text\":\"0.55\",\"x\":\"PPE\",\"xref\":\"x\",\"y\":\"NHR\",\"yref\":\"y\"},{\"font\":{\"color\":\"#FFFFFF\"},\"showarrow\":false,\"text\":\"0.06\",\"x\":\"MDVP:Fo(Hz)\",\"xref\":\"x\",\"y\":\"HNR\",\"yref\":\"y\"},{\"font\":{\"color\":\"#FFFFFF\"},\"showarrow\":false,\"text\":\"-0.02\",\"x\":\"MDVP:Fhi(Hz)\",\"xref\":\"x\",\"y\":\"HNR\",\"yref\":\"y\"},{\"font\":{\"color\":\"#FFFFFF\"},\"showarrow\":false,\"text\":\"0.21\",\"x\":\"MDVP:Flo(Hz)\",\"xref\":\"x\",\"y\":\"HNR\",\"yref\":\"y\"},{\"font\":{\"color\":\"#FFFFFF\"},\"showarrow\":false,\"text\":\"-0.73\",\"x\":\"MDVP:Jitter(%)\",\"xref\":\"x\",\"y\":\"HNR\",\"yref\":\"y\"},{\"font\":{\"color\":\"#FFFFFF\"},\"showarrow\":false,\"text\":\"-0.66\",\"x\":\"MDVP:Jitter(Abs)\",\"xref\":\"x\",\"y\":\"HNR\",\"yref\":\"y\"},{\"font\":{\"color\":\"#FFFFFF\"},\"showarrow\":false,\"text\":\"-0.72\",\"x\":\"MDVP:RAP\",\"xref\":\"x\",\"y\":\"HNR\",\"yref\":\"y\"},{\"font\":{\"color\":\"#FFFFFF\"},\"showarrow\":false,\"text\":\"-0.73\",\"x\":\"MDVP:PPQ\",\"xref\":\"x\",\"y\":\"HNR\",\"yref\":\"y\"},{\"font\":{\"color\":\"#FFFFFF\"},\"showarrow\":false,\"text\":\"-0.72\",\"x\":\"Jitter:DDP\",\"xref\":\"x\",\"y\":\"HNR\",\"yref\":\"y\"},{\"font\":{\"color\":\"#FFFFFF\"},\"showarrow\":false,\"text\":\"-0.84\",\"x\":\"MDVP:Shimmer\",\"xref\":\"x\",\"y\":\"HNR\",\"yref\":\"y\"},{\"font\":{\"color\":\"#FFFFFF\"},\"showarrow\":false,\"text\":\"-0.83\",\"x\":\"MDVP:Shimmer(dB)\",\"xref\":\"x\",\"y\":\"HNR\",\"yref\":\"y\"},{\"font\":{\"color\":\"#FFFFFF\"},\"showarrow\":false,\"text\":\"-0.83\",\"x\":\"Shimmer:APQ3\",\"xref\":\"x\",\"y\":\"HNR\",\"yref\":\"y\"},{\"font\":{\"color\":\"#FFFFFF\"},\"showarrow\":false,\"text\":\"-0.81\",\"x\":\"Shimmer:APQ5\",\"xref\":\"x\",\"y\":\"HNR\",\"yref\":\"y\"},{\"font\":{\"color\":\"#FFFFFF\"},\"showarrow\":false,\"text\":\"-0.8\",\"x\":\"MDVP:APQ\",\"xref\":\"x\",\"y\":\"HNR\",\"yref\":\"y\"},{\"font\":{\"color\":\"#FFFFFF\"},\"showarrow\":false,\"text\":\"-0.83\",\"x\":\"Shimmer:DDA\",\"xref\":\"x\",\"y\":\"HNR\",\"yref\":\"y\"},{\"font\":{\"color\":\"#FFFFFF\"},\"showarrow\":false,\"text\":\"-0.71\",\"x\":\"NHR\",\"xref\":\"x\",\"y\":\"HNR\",\"yref\":\"y\"},{\"font\":{\"color\":\"#FFFFFF\"},\"showarrow\":false,\"text\":\"1.0\",\"x\":\"HNR\",\"xref\":\"x\",\"y\":\"HNR\",\"yref\":\"y\"},{\"font\":{\"color\":\"#FFFFFF\"},\"showarrow\":false,\"text\":\"-0.36\",\"x\":\"status\",\"xref\":\"x\",\"y\":\"HNR\",\"yref\":\"y\"},{\"font\":{\"color\":\"#FFFFFF\"},\"showarrow\":false,\"text\":\"-0.6\",\"x\":\"RPDE\",\"xref\":\"x\",\"y\":\"HNR\",\"yref\":\"y\"},{\"font\":{\"color\":\"#FFFFFF\"},\"showarrow\":false,\"text\":\"-0.01\",\"x\":\"DFA\",\"xref\":\"x\",\"y\":\"HNR\",\"yref\":\"y\"},{\"font\":{\"color\":\"#FFFFFF\"},\"showarrow\":false,\"text\":\"-0.67\",\"x\":\"spread1\",\"xref\":\"x\",\"y\":\"HNR\",\"yref\":\"y\"},{\"font\":{\"color\":\"#FFFFFF\"},\"showarrow\":false,\"text\":\"-0.43\",\"x\":\"spread2\",\"xref\":\"x\",\"y\":\"HNR\",\"yref\":\"y\"},{\"font\":{\"color\":\"#FFFFFF\"},\"showarrow\":false,\"text\":\"-0.6\",\"x\":\"D2\",\"xref\":\"x\",\"y\":\"HNR\",\"yref\":\"y\"},{\"font\":{\"color\":\"#FFFFFF\"},\"showarrow\":false,\"text\":\"-0.69\",\"x\":\"PPE\",\"xref\":\"x\",\"y\":\"HNR\",\"yref\":\"y\"},{\"font\":{\"color\":\"#FFFFFF\"},\"showarrow\":false,\"text\":\"-0.38\",\"x\":\"MDVP:Fo(Hz)\",\"xref\":\"x\",\"y\":\"status\",\"yref\":\"y\"},{\"font\":{\"color\":\"#FFFFFF\"},\"showarrow\":false,\"text\":\"-0.17\",\"x\":\"MDVP:Fhi(Hz)\",\"xref\":\"x\",\"y\":\"status\",\"yref\":\"y\"},{\"font\":{\"color\":\"#FFFFFF\"},\"showarrow\":false,\"text\":\"-0.38\",\"x\":\"MDVP:Flo(Hz)\",\"xref\":\"x\",\"y\":\"status\",\"yref\":\"y\"},{\"font\":{\"color\":\"#FFFFFF\"},\"showarrow\":false,\"text\":\"0.28\",\"x\":\"MDVP:Jitter(%)\",\"xref\":\"x\",\"y\":\"status\",\"yref\":\"y\"},{\"font\":{\"color\":\"#FFFFFF\"},\"showarrow\":false,\"text\":\"0.34\",\"x\":\"MDVP:Jitter(Abs)\",\"xref\":\"x\",\"y\":\"status\",\"yref\":\"y\"},{\"font\":{\"color\":\"#FFFFFF\"},\"showarrow\":false,\"text\":\"0.27\",\"x\":\"MDVP:RAP\",\"xref\":\"x\",\"y\":\"status\",\"yref\":\"y\"},{\"font\":{\"color\":\"#FFFFFF\"},\"showarrow\":false,\"text\":\"0.29\",\"x\":\"MDVP:PPQ\",\"xref\":\"x\",\"y\":\"status\",\"yref\":\"y\"},{\"font\":{\"color\":\"#FFFFFF\"},\"showarrow\":false,\"text\":\"0.27\",\"x\":\"Jitter:DDP\",\"xref\":\"x\",\"y\":\"status\",\"yref\":\"y\"},{\"font\":{\"color\":\"#FFFFFF\"},\"showarrow\":false,\"text\":\"0.37\",\"x\":\"MDVP:Shimmer\",\"xref\":\"x\",\"y\":\"status\",\"yref\":\"y\"},{\"font\":{\"color\":\"#FFFFFF\"},\"showarrow\":false,\"text\":\"0.35\",\"x\":\"MDVP:Shimmer(dB)\",\"xref\":\"x\",\"y\":\"status\",\"yref\":\"y\"},{\"font\":{\"color\":\"#FFFFFF\"},\"showarrow\":false,\"text\":\"0.35\",\"x\":\"Shimmer:APQ3\",\"xref\":\"x\",\"y\":\"status\",\"yref\":\"y\"},{\"font\":{\"color\":\"#FFFFFF\"},\"showarrow\":false,\"text\":\"0.35\",\"x\":\"Shimmer:APQ5\",\"xref\":\"x\",\"y\":\"status\",\"yref\":\"y\"},{\"font\":{\"color\":\"#FFFFFF\"},\"showarrow\":false,\"text\":\"0.36\",\"x\":\"MDVP:APQ\",\"xref\":\"x\",\"y\":\"status\",\"yref\":\"y\"},{\"font\":{\"color\":\"#FFFFFF\"},\"showarrow\":false,\"text\":\"0.35\",\"x\":\"Shimmer:DDA\",\"xref\":\"x\",\"y\":\"status\",\"yref\":\"y\"},{\"font\":{\"color\":\"#FFFFFF\"},\"showarrow\":false,\"text\":\"0.19\",\"x\":\"NHR\",\"xref\":\"x\",\"y\":\"status\",\"yref\":\"y\"},{\"font\":{\"color\":\"#FFFFFF\"},\"showarrow\":false,\"text\":\"-0.36\",\"x\":\"HNR\",\"xref\":\"x\",\"y\":\"status\",\"yref\":\"y\"},{\"font\":{\"color\":\"#FFFFFF\"},\"showarrow\":false,\"text\":\"1.0\",\"x\":\"status\",\"xref\":\"x\",\"y\":\"status\",\"yref\":\"y\"},{\"font\":{\"color\":\"#FFFFFF\"},\"showarrow\":false,\"text\":\"0.31\",\"x\":\"RPDE\",\"xref\":\"x\",\"y\":\"status\",\"yref\":\"y\"},{\"font\":{\"color\":\"#FFFFFF\"},\"showarrow\":false,\"text\":\"0.23\",\"x\":\"DFA\",\"xref\":\"x\",\"y\":\"status\",\"yref\":\"y\"},{\"font\":{\"color\":\"#FFFFFF\"},\"showarrow\":false,\"text\":\"0.56\",\"x\":\"spread1\",\"xref\":\"x\",\"y\":\"status\",\"yref\":\"y\"},{\"font\":{\"color\":\"#FFFFFF\"},\"showarrow\":false,\"text\":\"0.45\",\"x\":\"spread2\",\"xref\":\"x\",\"y\":\"status\",\"yref\":\"y\"},{\"font\":{\"color\":\"#FFFFFF\"},\"showarrow\":false,\"text\":\"0.34\",\"x\":\"D2\",\"xref\":\"x\",\"y\":\"status\",\"yref\":\"y\"},{\"font\":{\"color\":\"#FFFFFF\"},\"showarrow\":false,\"text\":\"0.53\",\"x\":\"PPE\",\"xref\":\"x\",\"y\":\"status\",\"yref\":\"y\"},{\"font\":{\"color\":\"#FFFFFF\"},\"showarrow\":false,\"text\":\"-0.38\",\"x\":\"MDVP:Fo(Hz)\",\"xref\":\"x\",\"y\":\"RPDE\",\"yref\":\"y\"},{\"font\":{\"color\":\"#FFFFFF\"},\"showarrow\":false,\"text\":\"-0.11\",\"x\":\"MDVP:Fhi(Hz)\",\"xref\":\"x\",\"y\":\"RPDE\",\"yref\":\"y\"},{\"font\":{\"color\":\"#FFFFFF\"},\"showarrow\":false,\"text\":\"-0.4\",\"x\":\"MDVP:Flo(Hz)\",\"xref\":\"x\",\"y\":\"RPDE\",\"yref\":\"y\"},{\"font\":{\"color\":\"#FFFFFF\"},\"showarrow\":false,\"text\":\"0.36\",\"x\":\"MDVP:Jitter(%)\",\"xref\":\"x\",\"y\":\"RPDE\",\"yref\":\"y\"},{\"font\":{\"color\":\"#FFFFFF\"},\"showarrow\":false,\"text\":\"0.44\",\"x\":\"MDVP:Jitter(Abs)\",\"xref\":\"x\",\"y\":\"RPDE\",\"yref\":\"y\"},{\"font\":{\"color\":\"#FFFFFF\"},\"showarrow\":false,\"text\":\"0.34\",\"x\":\"MDVP:RAP\",\"xref\":\"x\",\"y\":\"RPDE\",\"yref\":\"y\"},{\"font\":{\"color\":\"#FFFFFF\"},\"showarrow\":false,\"text\":\"0.33\",\"x\":\"MDVP:PPQ\",\"xref\":\"x\",\"y\":\"RPDE\",\"yref\":\"y\"},{\"font\":{\"color\":\"#FFFFFF\"},\"showarrow\":false,\"text\":\"0.34\",\"x\":\"Jitter:DDP\",\"xref\":\"x\",\"y\":\"RPDE\",\"yref\":\"y\"},{\"font\":{\"color\":\"#FFFFFF\"},\"showarrow\":false,\"text\":\"0.45\",\"x\":\"MDVP:Shimmer\",\"xref\":\"x\",\"y\":\"RPDE\",\"yref\":\"y\"},{\"font\":{\"color\":\"#FFFFFF\"},\"showarrow\":false,\"text\":\"0.41\",\"x\":\"MDVP:Shimmer(dB)\",\"xref\":\"x\",\"y\":\"RPDE\",\"yref\":\"y\"},{\"font\":{\"color\":\"#FFFFFF\"},\"showarrow\":false,\"text\":\"0.44\",\"x\":\"Shimmer:APQ3\",\"xref\":\"x\",\"y\":\"RPDE\",\"yref\":\"y\"},{\"font\":{\"color\":\"#FFFFFF\"},\"showarrow\":false,\"text\":\"0.4\",\"x\":\"Shimmer:APQ5\",\"xref\":\"x\",\"y\":\"RPDE\",\"yref\":\"y\"},{\"font\":{\"color\":\"#FFFFFF\"},\"showarrow\":false,\"text\":\"0.45\",\"x\":\"MDVP:APQ\",\"xref\":\"x\",\"y\":\"RPDE\",\"yref\":\"y\"},{\"font\":{\"color\":\"#FFFFFF\"},\"showarrow\":false,\"text\":\"0.44\",\"x\":\"Shimmer:DDA\",\"xref\":\"x\",\"y\":\"RPDE\",\"yref\":\"y\"},{\"font\":{\"color\":\"#FFFFFF\"},\"showarrow\":false,\"text\":\"0.37\",\"x\":\"NHR\",\"xref\":\"x\",\"y\":\"RPDE\",\"yref\":\"y\"},{\"font\":{\"color\":\"#FFFFFF\"},\"showarrow\":false,\"text\":\"-0.6\",\"x\":\"HNR\",\"xref\":\"x\",\"y\":\"RPDE\",\"yref\":\"y\"},{\"font\":{\"color\":\"#FFFFFF\"},\"showarrow\":false,\"text\":\"0.31\",\"x\":\"status\",\"xref\":\"x\",\"y\":\"RPDE\",\"yref\":\"y\"},{\"font\":{\"color\":\"#FFFFFF\"},\"showarrow\":false,\"text\":\"1.0\",\"x\":\"RPDE\",\"xref\":\"x\",\"y\":\"RPDE\",\"yref\":\"y\"},{\"font\":{\"color\":\"#FFFFFF\"},\"showarrow\":false,\"text\":\"-0.11\",\"x\":\"DFA\",\"xref\":\"x\",\"y\":\"RPDE\",\"yref\":\"y\"},{\"font\":{\"color\":\"#FFFFFF\"},\"showarrow\":false,\"text\":\"0.59\",\"x\":\"spread1\",\"xref\":\"x\",\"y\":\"RPDE\",\"yref\":\"y\"},{\"font\":{\"color\":\"#FFFFFF\"},\"showarrow\":false,\"text\":\"0.48\",\"x\":\"spread2\",\"xref\":\"x\",\"y\":\"RPDE\",\"yref\":\"y\"},{\"font\":{\"color\":\"#FFFFFF\"},\"showarrow\":false,\"text\":\"0.24\",\"x\":\"D2\",\"xref\":\"x\",\"y\":\"RPDE\",\"yref\":\"y\"},{\"font\":{\"color\":\"#FFFFFF\"},\"showarrow\":false,\"text\":\"0.55\",\"x\":\"PPE\",\"xref\":\"x\",\"y\":\"RPDE\",\"yref\":\"y\"},{\"font\":{\"color\":\"#FFFFFF\"},\"showarrow\":false,\"text\":\"-0.45\",\"x\":\"MDVP:Fo(Hz)\",\"xref\":\"x\",\"y\":\"DFA\",\"yref\":\"y\"},{\"font\":{\"color\":\"#FFFFFF\"},\"showarrow\":false,\"text\":\"-0.34\",\"x\":\"MDVP:Fhi(Hz)\",\"xref\":\"x\",\"y\":\"DFA\",\"yref\":\"y\"},{\"font\":{\"color\":\"#FFFFFF\"},\"showarrow\":false,\"text\":\"-0.05\",\"x\":\"MDVP:Flo(Hz)\",\"xref\":\"x\",\"y\":\"DFA\",\"yref\":\"y\"},{\"font\":{\"color\":\"#FFFFFF\"},\"showarrow\":false,\"text\":\"0.1\",\"x\":\"MDVP:Jitter(%)\",\"xref\":\"x\",\"y\":\"DFA\",\"yref\":\"y\"},{\"font\":{\"color\":\"#FFFFFF\"},\"showarrow\":false,\"text\":\"0.18\",\"x\":\"MDVP:Jitter(Abs)\",\"xref\":\"x\",\"y\":\"DFA\",\"yref\":\"y\"},{\"font\":{\"color\":\"#FFFFFF\"},\"showarrow\":false,\"text\":\"0.06\",\"x\":\"MDVP:RAP\",\"xref\":\"x\",\"y\":\"DFA\",\"yref\":\"y\"},{\"font\":{\"color\":\"#FFFFFF\"},\"showarrow\":false,\"text\":\"0.2\",\"x\":\"MDVP:PPQ\",\"xref\":\"x\",\"y\":\"DFA\",\"yref\":\"y\"},{\"font\":{\"color\":\"#FFFFFF\"},\"showarrow\":false,\"text\":\"0.06\",\"x\":\"Jitter:DDP\",\"xref\":\"x\",\"y\":\"DFA\",\"yref\":\"y\"},{\"font\":{\"color\":\"#FFFFFF\"},\"showarrow\":false,\"text\":\"0.16\",\"x\":\"MDVP:Shimmer\",\"xref\":\"x\",\"y\":\"DFA\",\"yref\":\"y\"},{\"font\":{\"color\":\"#FFFFFF\"},\"showarrow\":false,\"text\":\"0.17\",\"x\":\"MDVP:Shimmer(dB)\",\"xref\":\"x\",\"y\":\"DFA\",\"yref\":\"y\"},{\"font\":{\"color\":\"#FFFFFF\"},\"showarrow\":false,\"text\":\"0.15\",\"x\":\"Shimmer:APQ3\",\"xref\":\"x\",\"y\":\"DFA\",\"yref\":\"y\"},{\"font\":{\"color\":\"#FFFFFF\"},\"showarrow\":false,\"text\":\"0.21\",\"x\":\"Shimmer:APQ5\",\"xref\":\"x\",\"y\":\"DFA\",\"yref\":\"y\"},{\"font\":{\"color\":\"#FFFFFF\"},\"showarrow\":false,\"text\":\"0.16\",\"x\":\"MDVP:APQ\",\"xref\":\"x\",\"y\":\"DFA\",\"yref\":\"y\"},{\"font\":{\"color\":\"#FFFFFF\"},\"showarrow\":false,\"text\":\"0.15\",\"x\":\"Shimmer:DDA\",\"xref\":\"x\",\"y\":\"DFA\",\"yref\":\"y\"},{\"font\":{\"color\":\"#FFFFFF\"},\"showarrow\":false,\"text\":\"-0.13\",\"x\":\"NHR\",\"xref\":\"x\",\"y\":\"DFA\",\"yref\":\"y\"},{\"font\":{\"color\":\"#FFFFFF\"},\"showarrow\":false,\"text\":\"-0.01\",\"x\":\"HNR\",\"xref\":\"x\",\"y\":\"DFA\",\"yref\":\"y\"},{\"font\":{\"color\":\"#FFFFFF\"},\"showarrow\":false,\"text\":\"0.23\",\"x\":\"status\",\"xref\":\"x\",\"y\":\"DFA\",\"yref\":\"y\"},{\"font\":{\"color\":\"#FFFFFF\"},\"showarrow\":false,\"text\":\"-0.11\",\"x\":\"RPDE\",\"xref\":\"x\",\"y\":\"DFA\",\"yref\":\"y\"},{\"font\":{\"color\":\"#FFFFFF\"},\"showarrow\":false,\"text\":\"1.0\",\"x\":\"DFA\",\"xref\":\"x\",\"y\":\"DFA\",\"yref\":\"y\"},{\"font\":{\"color\":\"#FFFFFF\"},\"showarrow\":false,\"text\":\"0.2\",\"x\":\"spread1\",\"xref\":\"x\",\"y\":\"DFA\",\"yref\":\"y\"},{\"font\":{\"color\":\"#FFFFFF\"},\"showarrow\":false,\"text\":\"0.17\",\"x\":\"spread2\",\"xref\":\"x\",\"y\":\"DFA\",\"yref\":\"y\"},{\"font\":{\"color\":\"#FFFFFF\"},\"showarrow\":false,\"text\":\"-0.17\",\"x\":\"D2\",\"xref\":\"x\",\"y\":\"DFA\",\"yref\":\"y\"},{\"font\":{\"color\":\"#FFFFFF\"},\"showarrow\":false,\"text\":\"0.27\",\"x\":\"PPE\",\"xref\":\"x\",\"y\":\"DFA\",\"yref\":\"y\"},{\"font\":{\"color\":\"#FFFFFF\"},\"showarrow\":false,\"text\":\"-0.41\",\"x\":\"MDVP:Fo(Hz)\",\"xref\":\"x\",\"y\":\"spread1\",\"yref\":\"y\"},{\"font\":{\"color\":\"#FFFFFF\"},\"showarrow\":false,\"text\":\"-0.08\",\"x\":\"MDVP:Fhi(Hz)\",\"xref\":\"x\",\"y\":\"spread1\",\"yref\":\"y\"},{\"font\":{\"color\":\"#FFFFFF\"},\"showarrow\":false,\"text\":\"-0.39\",\"x\":\"MDVP:Flo(Hz)\",\"xref\":\"x\",\"y\":\"spread1\",\"yref\":\"y\"},{\"font\":{\"color\":\"#FFFFFF\"},\"showarrow\":false,\"text\":\"0.69\",\"x\":\"MDVP:Jitter(%)\",\"xref\":\"x\",\"y\":\"spread1\",\"yref\":\"y\"},{\"font\":{\"color\":\"#FFFFFF\"},\"showarrow\":false,\"text\":\"0.74\",\"x\":\"MDVP:Jitter(Abs)\",\"xref\":\"x\",\"y\":\"spread1\",\"yref\":\"y\"},{\"font\":{\"color\":\"#FFFFFF\"},\"showarrow\":false,\"text\":\"0.65\",\"x\":\"MDVP:RAP\",\"xref\":\"x\",\"y\":\"spread1\",\"yref\":\"y\"},{\"font\":{\"color\":\"#FFFFFF\"},\"showarrow\":false,\"text\":\"0.72\",\"x\":\"MDVP:PPQ\",\"xref\":\"x\",\"y\":\"spread1\",\"yref\":\"y\"},{\"font\":{\"color\":\"#FFFFFF\"},\"showarrow\":false,\"text\":\"0.65\",\"x\":\"Jitter:DDP\",\"xref\":\"x\",\"y\":\"spread1\",\"yref\":\"y\"},{\"font\":{\"color\":\"#FFFFFF\"},\"showarrow\":false,\"text\":\"0.65\",\"x\":\"MDVP:Shimmer\",\"xref\":\"x\",\"y\":\"spread1\",\"yref\":\"y\"},{\"font\":{\"color\":\"#FFFFFF\"},\"showarrow\":false,\"text\":\"0.65\",\"x\":\"MDVP:Shimmer(dB)\",\"xref\":\"x\",\"y\":\"spread1\",\"yref\":\"y\"},{\"font\":{\"color\":\"#FFFFFF\"},\"showarrow\":false,\"text\":\"0.61\",\"x\":\"Shimmer:APQ3\",\"xref\":\"x\",\"y\":\"spread1\",\"yref\":\"y\"},{\"font\":{\"color\":\"#FFFFFF\"},\"showarrow\":false,\"text\":\"0.65\",\"x\":\"Shimmer:APQ5\",\"xref\":\"x\",\"y\":\"spread1\",\"yref\":\"y\"},{\"font\":{\"color\":\"#FFFFFF\"},\"showarrow\":false,\"text\":\"0.67\",\"x\":\"MDVP:APQ\",\"xref\":\"x\",\"y\":\"spread1\",\"yref\":\"y\"},{\"font\":{\"color\":\"#FFFFFF\"},\"showarrow\":false,\"text\":\"0.61\",\"x\":\"Shimmer:DDA\",\"xref\":\"x\",\"y\":\"spread1\",\"yref\":\"y\"},{\"font\":{\"color\":\"#FFFFFF\"},\"showarrow\":false,\"text\":\"0.54\",\"x\":\"NHR\",\"xref\":\"x\",\"y\":\"spread1\",\"yref\":\"y\"},{\"font\":{\"color\":\"#FFFFFF\"},\"showarrow\":false,\"text\":\"-0.67\",\"x\":\"HNR\",\"xref\":\"x\",\"y\":\"spread1\",\"yref\":\"y\"},{\"font\":{\"color\":\"#FFFFFF\"},\"showarrow\":false,\"text\":\"0.56\",\"x\":\"status\",\"xref\":\"x\",\"y\":\"spread1\",\"yref\":\"y\"},{\"font\":{\"color\":\"#FFFFFF\"},\"showarrow\":false,\"text\":\"0.59\",\"x\":\"RPDE\",\"xref\":\"x\",\"y\":\"spread1\",\"yref\":\"y\"},{\"font\":{\"color\":\"#FFFFFF\"},\"showarrow\":false,\"text\":\"0.2\",\"x\":\"DFA\",\"xref\":\"x\",\"y\":\"spread1\",\"yref\":\"y\"},{\"font\":{\"color\":\"#FFFFFF\"},\"showarrow\":false,\"text\":\"1.0\",\"x\":\"spread1\",\"xref\":\"x\",\"y\":\"spread1\",\"yref\":\"y\"},{\"font\":{\"color\":\"#FFFFFF\"},\"showarrow\":false,\"text\":\"0.65\",\"x\":\"spread2\",\"xref\":\"x\",\"y\":\"spread1\",\"yref\":\"y\"},{\"font\":{\"color\":\"#FFFFFF\"},\"showarrow\":false,\"text\":\"0.5\",\"x\":\"D2\",\"xref\":\"x\",\"y\":\"spread1\",\"yref\":\"y\"},{\"font\":{\"color\":\"#FFFFFF\"},\"showarrow\":false,\"text\":\"0.96\",\"x\":\"PPE\",\"xref\":\"x\",\"y\":\"spread1\",\"yref\":\"y\"},{\"font\":{\"color\":\"#FFFFFF\"},\"showarrow\":false,\"text\":\"-0.25\",\"x\":\"MDVP:Fo(Hz)\",\"xref\":\"x\",\"y\":\"spread2\",\"yref\":\"y\"},{\"font\":{\"color\":\"#FFFFFF\"},\"showarrow\":false,\"text\":\"-0.0\",\"x\":\"MDVP:Fhi(Hz)\",\"xref\":\"x\",\"y\":\"spread2\",\"yref\":\"y\"},{\"font\":{\"color\":\"#FFFFFF\"},\"showarrow\":false,\"text\":\"-0.24\",\"x\":\"MDVP:Flo(Hz)\",\"xref\":\"x\",\"y\":\"spread2\",\"yref\":\"y\"},{\"font\":{\"color\":\"#FFFFFF\"},\"showarrow\":false,\"text\":\"0.39\",\"x\":\"MDVP:Jitter(%)\",\"xref\":\"x\",\"y\":\"spread2\",\"yref\":\"y\"},{\"font\":{\"color\":\"#FFFFFF\"},\"showarrow\":false,\"text\":\"0.39\",\"x\":\"MDVP:Jitter(Abs)\",\"xref\":\"x\",\"y\":\"spread2\",\"yref\":\"y\"},{\"font\":{\"color\":\"#FFFFFF\"},\"showarrow\":false,\"text\":\"0.32\",\"x\":\"MDVP:RAP\",\"xref\":\"x\",\"y\":\"spread2\",\"yref\":\"y\"},{\"font\":{\"color\":\"#FFFFFF\"},\"showarrow\":false,\"text\":\"0.41\",\"x\":\"MDVP:PPQ\",\"xref\":\"x\",\"y\":\"spread2\",\"yref\":\"y\"},{\"font\":{\"color\":\"#FFFFFF\"},\"showarrow\":false,\"text\":\"0.32\",\"x\":\"Jitter:DDP\",\"xref\":\"x\",\"y\":\"spread2\",\"yref\":\"y\"},{\"font\":{\"color\":\"#FFFFFF\"},\"showarrow\":false,\"text\":\"0.45\",\"x\":\"MDVP:Shimmer\",\"xref\":\"x\",\"y\":\"spread2\",\"yref\":\"y\"},{\"font\":{\"color\":\"#FFFFFF\"},\"showarrow\":false,\"text\":\"0.45\",\"x\":\"MDVP:Shimmer(dB)\",\"xref\":\"x\",\"y\":\"spread2\",\"yref\":\"y\"},{\"font\":{\"color\":\"#FFFFFF\"},\"showarrow\":false,\"text\":\"0.4\",\"x\":\"Shimmer:APQ3\",\"xref\":\"x\",\"y\":\"spread2\",\"yref\":\"y\"},{\"font\":{\"color\":\"#FFFFFF\"},\"showarrow\":false,\"text\":\"0.46\",\"x\":\"Shimmer:APQ5\",\"xref\":\"x\",\"y\":\"spread2\",\"yref\":\"y\"},{\"font\":{\"color\":\"#FFFFFF\"},\"showarrow\":false,\"text\":\"0.5\",\"x\":\"MDVP:APQ\",\"xref\":\"x\",\"y\":\"spread2\",\"yref\":\"y\"},{\"font\":{\"color\":\"#FFFFFF\"},\"showarrow\":false,\"text\":\"0.4\",\"x\":\"Shimmer:DDA\",\"xref\":\"x\",\"y\":\"spread2\",\"yref\":\"y\"},{\"font\":{\"color\":\"#FFFFFF\"},\"showarrow\":false,\"text\":\"0.32\",\"x\":\"NHR\",\"xref\":\"x\",\"y\":\"spread2\",\"yref\":\"y\"},{\"font\":{\"color\":\"#FFFFFF\"},\"showarrow\":false,\"text\":\"-0.43\",\"x\":\"HNR\",\"xref\":\"x\",\"y\":\"spread2\",\"yref\":\"y\"},{\"font\":{\"color\":\"#FFFFFF\"},\"showarrow\":false,\"text\":\"0.45\",\"x\":\"status\",\"xref\":\"x\",\"y\":\"spread2\",\"yref\":\"y\"},{\"font\":{\"color\":\"#FFFFFF\"},\"showarrow\":false,\"text\":\"0.48\",\"x\":\"RPDE\",\"xref\":\"x\",\"y\":\"spread2\",\"yref\":\"y\"},{\"font\":{\"color\":\"#FFFFFF\"},\"showarrow\":false,\"text\":\"0.17\",\"x\":\"DFA\",\"xref\":\"x\",\"y\":\"spread2\",\"yref\":\"y\"},{\"font\":{\"color\":\"#FFFFFF\"},\"showarrow\":false,\"text\":\"0.65\",\"x\":\"spread1\",\"xref\":\"x\",\"y\":\"spread2\",\"yref\":\"y\"},{\"font\":{\"color\":\"#FFFFFF\"},\"showarrow\":false,\"text\":\"1.0\",\"x\":\"spread2\",\"xref\":\"x\",\"y\":\"spread2\",\"yref\":\"y\"},{\"font\":{\"color\":\"#FFFFFF\"},\"showarrow\":false,\"text\":\"0.52\",\"x\":\"D2\",\"xref\":\"x\",\"y\":\"spread2\",\"yref\":\"y\"},{\"font\":{\"color\":\"#FFFFFF\"},\"showarrow\":false,\"text\":\"0.64\",\"x\":\"PPE\",\"xref\":\"x\",\"y\":\"spread2\",\"yref\":\"y\"},{\"font\":{\"color\":\"#FFFFFF\"},\"showarrow\":false,\"text\":\"0.18\",\"x\":\"MDVP:Fo(Hz)\",\"xref\":\"x\",\"y\":\"D2\",\"yref\":\"y\"},{\"font\":{\"color\":\"#FFFFFF\"},\"showarrow\":false,\"text\":\"0.18\",\"x\":\"MDVP:Fhi(Hz)\",\"xref\":\"x\",\"y\":\"D2\",\"yref\":\"y\"},{\"font\":{\"color\":\"#FFFFFF\"},\"showarrow\":false,\"text\":\"-0.1\",\"x\":\"MDVP:Flo(Hz)\",\"xref\":\"x\",\"y\":\"D2\",\"yref\":\"y\"},{\"font\":{\"color\":\"#FFFFFF\"},\"showarrow\":false,\"text\":\"0.43\",\"x\":\"MDVP:Jitter(%)\",\"xref\":\"x\",\"y\":\"D2\",\"yref\":\"y\"},{\"font\":{\"color\":\"#FFFFFF\"},\"showarrow\":false,\"text\":\"0.31\",\"x\":\"MDVP:Jitter(Abs)\",\"xref\":\"x\",\"y\":\"D2\",\"yref\":\"y\"},{\"font\":{\"color\":\"#FFFFFF\"},\"showarrow\":false,\"text\":\"0.43\",\"x\":\"MDVP:RAP\",\"xref\":\"x\",\"y\":\"D2\",\"yref\":\"y\"},{\"font\":{\"color\":\"#FFFFFF\"},\"showarrow\":false,\"text\":\"0.41\",\"x\":\"MDVP:PPQ\",\"xref\":\"x\",\"y\":\"D2\",\"yref\":\"y\"},{\"font\":{\"color\":\"#FFFFFF\"},\"showarrow\":false,\"text\":\"0.43\",\"x\":\"Jitter:DDP\",\"xref\":\"x\",\"y\":\"D2\",\"yref\":\"y\"},{\"font\":{\"color\":\"#FFFFFF\"},\"showarrow\":false,\"text\":\"0.51\",\"x\":\"MDVP:Shimmer\",\"xref\":\"x\",\"y\":\"D2\",\"yref\":\"y\"},{\"font\":{\"color\":\"#FFFFFF\"},\"showarrow\":false,\"text\":\"0.51\",\"x\":\"MDVP:Shimmer(dB)\",\"xref\":\"x\",\"y\":\"D2\",\"yref\":\"y\"},{\"font\":{\"color\":\"#FFFFFF\"},\"showarrow\":false,\"text\":\"0.47\",\"x\":\"Shimmer:APQ3\",\"xref\":\"x\",\"y\":\"D2\",\"yref\":\"y\"},{\"font\":{\"color\":\"#FFFFFF\"},\"showarrow\":false,\"text\":\"0.5\",\"x\":\"Shimmer:APQ5\",\"xref\":\"x\",\"y\":\"D2\",\"yref\":\"y\"},{\"font\":{\"color\":\"#FFFFFF\"},\"showarrow\":false,\"text\":\"0.54\",\"x\":\"MDVP:APQ\",\"xref\":\"x\",\"y\":\"D2\",\"yref\":\"y\"},{\"font\":{\"color\":\"#FFFFFF\"},\"showarrow\":false,\"text\":\"0.47\",\"x\":\"Shimmer:DDA\",\"xref\":\"x\",\"y\":\"D2\",\"yref\":\"y\"},{\"font\":{\"color\":\"#FFFFFF\"},\"showarrow\":false,\"text\":\"0.47\",\"x\":\"NHR\",\"xref\":\"x\",\"y\":\"D2\",\"yref\":\"y\"},{\"font\":{\"color\":\"#FFFFFF\"},\"showarrow\":false,\"text\":\"-0.6\",\"x\":\"HNR\",\"xref\":\"x\",\"y\":\"D2\",\"yref\":\"y\"},{\"font\":{\"color\":\"#FFFFFF\"},\"showarrow\":false,\"text\":\"0.34\",\"x\":\"status\",\"xref\":\"x\",\"y\":\"D2\",\"yref\":\"y\"},{\"font\":{\"color\":\"#FFFFFF\"},\"showarrow\":false,\"text\":\"0.24\",\"x\":\"RPDE\",\"xref\":\"x\",\"y\":\"D2\",\"yref\":\"y\"},{\"font\":{\"color\":\"#FFFFFF\"},\"showarrow\":false,\"text\":\"-0.17\",\"x\":\"DFA\",\"xref\":\"x\",\"y\":\"D2\",\"yref\":\"y\"},{\"font\":{\"color\":\"#FFFFFF\"},\"showarrow\":false,\"text\":\"0.5\",\"x\":\"spread1\",\"xref\":\"x\",\"y\":\"D2\",\"yref\":\"y\"},{\"font\":{\"color\":\"#FFFFFF\"},\"showarrow\":false,\"text\":\"0.52\",\"x\":\"spread2\",\"xref\":\"x\",\"y\":\"D2\",\"yref\":\"y\"},{\"font\":{\"color\":\"#FFFFFF\"},\"showarrow\":false,\"text\":\"1.0\",\"x\":\"D2\",\"xref\":\"x\",\"y\":\"D2\",\"yref\":\"y\"},{\"font\":{\"color\":\"#FFFFFF\"},\"showarrow\":false,\"text\":\"0.48\",\"x\":\"PPE\",\"xref\":\"x\",\"y\":\"D2\",\"yref\":\"y\"},{\"font\":{\"color\":\"#FFFFFF\"},\"showarrow\":false,\"text\":\"-0.37\",\"x\":\"MDVP:Fo(Hz)\",\"xref\":\"x\",\"y\":\"PPE\",\"yref\":\"y\"},{\"font\":{\"color\":\"#FFFFFF\"},\"showarrow\":false,\"text\":\"-0.07\",\"x\":\"MDVP:Fhi(Hz)\",\"xref\":\"x\",\"y\":\"PPE\",\"yref\":\"y\"},{\"font\":{\"color\":\"#FFFFFF\"},\"showarrow\":false,\"text\":\"-0.34\",\"x\":\"MDVP:Flo(Hz)\",\"xref\":\"x\",\"y\":\"PPE\",\"yref\":\"y\"},{\"font\":{\"color\":\"#FFFFFF\"},\"showarrow\":false,\"text\":\"0.72\",\"x\":\"MDVP:Jitter(%)\",\"xref\":\"x\",\"y\":\"PPE\",\"yref\":\"y\"},{\"font\":{\"color\":\"#FFFFFF\"},\"showarrow\":false,\"text\":\"0.75\",\"x\":\"MDVP:Jitter(Abs)\",\"xref\":\"x\",\"y\":\"PPE\",\"yref\":\"y\"},{\"font\":{\"color\":\"#FFFFFF\"},\"showarrow\":false,\"text\":\"0.67\",\"x\":\"MDVP:RAP\",\"xref\":\"x\",\"y\":\"PPE\",\"yref\":\"y\"},{\"font\":{\"color\":\"#FFFFFF\"},\"showarrow\":false,\"text\":\"0.77\",\"x\":\"MDVP:PPQ\",\"xref\":\"x\",\"y\":\"PPE\",\"yref\":\"y\"},{\"font\":{\"color\":\"#FFFFFF\"},\"showarrow\":false,\"text\":\"0.67\",\"x\":\"Jitter:DDP\",\"xref\":\"x\",\"y\":\"PPE\",\"yref\":\"y\"},{\"font\":{\"color\":\"#FFFFFF\"},\"showarrow\":false,\"text\":\"0.69\",\"x\":\"MDVP:Shimmer\",\"xref\":\"x\",\"y\":\"PPE\",\"yref\":\"y\"},{\"font\":{\"color\":\"#FFFFFF\"},\"showarrow\":false,\"text\":\"0.7\",\"x\":\"MDVP:Shimmer(dB)\",\"xref\":\"x\",\"y\":\"PPE\",\"yref\":\"y\"},{\"font\":{\"color\":\"#FFFFFF\"},\"showarrow\":false,\"text\":\"0.65\",\"x\":\"Shimmer:APQ3\",\"xref\":\"x\",\"y\":\"PPE\",\"yref\":\"y\"},{\"font\":{\"color\":\"#FFFFFF\"},\"showarrow\":false,\"text\":\"0.7\",\"x\":\"Shimmer:APQ5\",\"xref\":\"x\",\"y\":\"PPE\",\"yref\":\"y\"},{\"font\":{\"color\":\"#FFFFFF\"},\"showarrow\":false,\"text\":\"0.72\",\"x\":\"MDVP:APQ\",\"xref\":\"x\",\"y\":\"PPE\",\"yref\":\"y\"},{\"font\":{\"color\":\"#FFFFFF\"},\"showarrow\":false,\"text\":\"0.65\",\"x\":\"Shimmer:DDA\",\"xref\":\"x\",\"y\":\"PPE\",\"yref\":\"y\"},{\"font\":{\"color\":\"#FFFFFF\"},\"showarrow\":false,\"text\":\"0.55\",\"x\":\"NHR\",\"xref\":\"x\",\"y\":\"PPE\",\"yref\":\"y\"},{\"font\":{\"color\":\"#FFFFFF\"},\"showarrow\":false,\"text\":\"-0.69\",\"x\":\"HNR\",\"xref\":\"x\",\"y\":\"PPE\",\"yref\":\"y\"},{\"font\":{\"color\":\"#FFFFFF\"},\"showarrow\":false,\"text\":\"0.53\",\"x\":\"status\",\"xref\":\"x\",\"y\":\"PPE\",\"yref\":\"y\"},{\"font\":{\"color\":\"#FFFFFF\"},\"showarrow\":false,\"text\":\"0.55\",\"x\":\"RPDE\",\"xref\":\"x\",\"y\":\"PPE\",\"yref\":\"y\"},{\"font\":{\"color\":\"#FFFFFF\"},\"showarrow\":false,\"text\":\"0.27\",\"x\":\"DFA\",\"xref\":\"x\",\"y\":\"PPE\",\"yref\":\"y\"},{\"font\":{\"color\":\"#FFFFFF\"},\"showarrow\":false,\"text\":\"0.96\",\"x\":\"spread1\",\"xref\":\"x\",\"y\":\"PPE\",\"yref\":\"y\"},{\"font\":{\"color\":\"#FFFFFF\"},\"showarrow\":false,\"text\":\"0.64\",\"x\":\"spread2\",\"xref\":\"x\",\"y\":\"PPE\",\"yref\":\"y\"},{\"font\":{\"color\":\"#FFFFFF\"},\"showarrow\":false,\"text\":\"0.48\",\"x\":\"D2\",\"xref\":\"x\",\"y\":\"PPE\",\"yref\":\"y\"},{\"font\":{\"color\":\"#FFFFFF\"},\"showarrow\":false,\"text\":\"1.0\",\"x\":\"PPE\",\"xref\":\"x\",\"y\":\"PPE\",\"yref\":\"y\"}],\"xaxis\":{\"dtick\":1,\"gridcolor\":\"rgb(0, 0, 0)\",\"side\":\"top\",\"ticks\":\"\"},\"yaxis\":{\"dtick\":1,\"ticks\":\"\",\"ticksuffix\":\"  \"},\"template\":{\"data\":{\"barpolar\":[{\"marker\":{\"line\":{\"color\":\"rgb(17,17,17)\",\"width\":0.5},\"pattern\":{\"fillmode\":\"overlay\",\"size\":10,\"solidity\":0.2}},\"type\":\"barpolar\"}],\"bar\":[{\"error_x\":{\"color\":\"#f2f5fa\"},\"error_y\":{\"color\":\"#f2f5fa\"},\"marker\":{\"line\":{\"color\":\"rgb(17,17,17)\",\"width\":0.5},\"pattern\":{\"fillmode\":\"overlay\",\"size\":10,\"solidity\":0.2}},\"type\":\"bar\"}],\"carpet\":[{\"aaxis\":{\"endlinecolor\":\"#A2B1C6\",\"gridcolor\":\"#506784\",\"linecolor\":\"#506784\",\"minorgridcolor\":\"#506784\",\"startlinecolor\":\"#A2B1C6\"},\"baxis\":{\"endlinecolor\":\"#A2B1C6\",\"gridcolor\":\"#506784\",\"linecolor\":\"#506784\",\"minorgridcolor\":\"#506784\",\"startlinecolor\":\"#A2B1C6\"},\"type\":\"carpet\"}],\"choropleth\":[{\"colorbar\":{\"outlinewidth\":0,\"ticks\":\"\"},\"type\":\"choropleth\"}],\"contourcarpet\":[{\"colorbar\":{\"outlinewidth\":0,\"ticks\":\"\"},\"type\":\"contourcarpet\"}],\"contour\":[{\"colorbar\":{\"outlinewidth\":0,\"ticks\":\"\"},\"colorscale\":[[0.0,\"#0d0887\"],[0.1111111111111111,\"#46039f\"],[0.2222222222222222,\"#7201a8\"],[0.3333333333333333,\"#9c179e\"],[0.4444444444444444,\"#bd3786\"],[0.5555555555555556,\"#d8576b\"],[0.6666666666666666,\"#ed7953\"],[0.7777777777777778,\"#fb9f3a\"],[0.8888888888888888,\"#fdca26\"],[1.0,\"#f0f921\"]],\"type\":\"contour\"}],\"heatmapgl\":[{\"colorbar\":{\"outlinewidth\":0,\"ticks\":\"\"},\"colorscale\":[[0.0,\"#0d0887\"],[0.1111111111111111,\"#46039f\"],[0.2222222222222222,\"#7201a8\"],[0.3333333333333333,\"#9c179e\"],[0.4444444444444444,\"#bd3786\"],[0.5555555555555556,\"#d8576b\"],[0.6666666666666666,\"#ed7953\"],[0.7777777777777778,\"#fb9f3a\"],[0.8888888888888888,\"#fdca26\"],[1.0,\"#f0f921\"]],\"type\":\"heatmapgl\"}],\"heatmap\":[{\"colorbar\":{\"outlinewidth\":0,\"ticks\":\"\"},\"colorscale\":[[0.0,\"#0d0887\"],[0.1111111111111111,\"#46039f\"],[0.2222222222222222,\"#7201a8\"],[0.3333333333333333,\"#9c179e\"],[0.4444444444444444,\"#bd3786\"],[0.5555555555555556,\"#d8576b\"],[0.6666666666666666,\"#ed7953\"],[0.7777777777777778,\"#fb9f3a\"],[0.8888888888888888,\"#fdca26\"],[1.0,\"#f0f921\"]],\"type\":\"heatmap\"}],\"histogram2dcontour\":[{\"colorbar\":{\"outlinewidth\":0,\"ticks\":\"\"},\"colorscale\":[[0.0,\"#0d0887\"],[0.1111111111111111,\"#46039f\"],[0.2222222222222222,\"#7201a8\"],[0.3333333333333333,\"#9c179e\"],[0.4444444444444444,\"#bd3786\"],[0.5555555555555556,\"#d8576b\"],[0.6666666666666666,\"#ed7953\"],[0.7777777777777778,\"#fb9f3a\"],[0.8888888888888888,\"#fdca26\"],[1.0,\"#f0f921\"]],\"type\":\"histogram2dcontour\"}],\"histogram2d\":[{\"colorbar\":{\"outlinewidth\":0,\"ticks\":\"\"},\"colorscale\":[[0.0,\"#0d0887\"],[0.1111111111111111,\"#46039f\"],[0.2222222222222222,\"#7201a8\"],[0.3333333333333333,\"#9c179e\"],[0.4444444444444444,\"#bd3786\"],[0.5555555555555556,\"#d8576b\"],[0.6666666666666666,\"#ed7953\"],[0.7777777777777778,\"#fb9f3a\"],[0.8888888888888888,\"#fdca26\"],[1.0,\"#f0f921\"]],\"type\":\"histogram2d\"}],\"histogram\":[{\"marker\":{\"pattern\":{\"fillmode\":\"overlay\",\"size\":10,\"solidity\":0.2}},\"type\":\"histogram\"}],\"mesh3d\":[{\"colorbar\":{\"outlinewidth\":0,\"ticks\":\"\"},\"type\":\"mesh3d\"}],\"parcoords\":[{\"line\":{\"colorbar\":{\"outlinewidth\":0,\"ticks\":\"\"}},\"type\":\"parcoords\"}],\"pie\":[{\"automargin\":true,\"type\":\"pie\"}],\"scatter3d\":[{\"line\":{\"colorbar\":{\"outlinewidth\":0,\"ticks\":\"\"}},\"marker\":{\"colorbar\":{\"outlinewidth\":0,\"ticks\":\"\"}},\"type\":\"scatter3d\"}],\"scattercarpet\":[{\"marker\":{\"colorbar\":{\"outlinewidth\":0,\"ticks\":\"\"}},\"type\":\"scattercarpet\"}],\"scattergeo\":[{\"marker\":{\"colorbar\":{\"outlinewidth\":0,\"ticks\":\"\"}},\"type\":\"scattergeo\"}],\"scattergl\":[{\"marker\":{\"line\":{\"color\":\"#283442\"}},\"type\":\"scattergl\"}],\"scattermapbox\":[{\"marker\":{\"colorbar\":{\"outlinewidth\":0,\"ticks\":\"\"}},\"type\":\"scattermapbox\"}],\"scatterpolargl\":[{\"marker\":{\"colorbar\":{\"outlinewidth\":0,\"ticks\":\"\"}},\"type\":\"scatterpolargl\"}],\"scatterpolar\":[{\"marker\":{\"colorbar\":{\"outlinewidth\":0,\"ticks\":\"\"}},\"type\":\"scatterpolar\"}],\"scatter\":[{\"marker\":{\"line\":{\"color\":\"#283442\"}},\"type\":\"scatter\"}],\"scatterternary\":[{\"marker\":{\"colorbar\":{\"outlinewidth\":0,\"ticks\":\"\"}},\"type\":\"scatterternary\"}],\"surface\":[{\"colorbar\":{\"outlinewidth\":0,\"ticks\":\"\"},\"colorscale\":[[0.0,\"#0d0887\"],[0.1111111111111111,\"#46039f\"],[0.2222222222222222,\"#7201a8\"],[0.3333333333333333,\"#9c179e\"],[0.4444444444444444,\"#bd3786\"],[0.5555555555555556,\"#d8576b\"],[0.6666666666666666,\"#ed7953\"],[0.7777777777777778,\"#fb9f3a\"],[0.8888888888888888,\"#fdca26\"],[1.0,\"#f0f921\"]],\"type\":\"surface\"}],\"table\":[{\"cells\":{\"fill\":{\"color\":\"#506784\"},\"line\":{\"color\":\"rgb(17,17,17)\"}},\"header\":{\"fill\":{\"color\":\"#2a3f5f\"},\"line\":{\"color\":\"rgb(17,17,17)\"}},\"type\":\"table\"}]},\"layout\":{\"annotationdefaults\":{\"arrowcolor\":\"#f2f5fa\",\"arrowhead\":0,\"arrowwidth\":1},\"autotypenumbers\":\"strict\",\"coloraxis\":{\"colorbar\":{\"outlinewidth\":0,\"ticks\":\"\"}},\"colorscale\":{\"diverging\":[[0,\"#8e0152\"],[0.1,\"#c51b7d\"],[0.2,\"#de77ae\"],[0.3,\"#f1b6da\"],[0.4,\"#fde0ef\"],[0.5,\"#f7f7f7\"],[0.6,\"#e6f5d0\"],[0.7,\"#b8e186\"],[0.8,\"#7fbc41\"],[0.9,\"#4d9221\"],[1,\"#276419\"]],\"sequential\":[[0.0,\"#0d0887\"],[0.1111111111111111,\"#46039f\"],[0.2222222222222222,\"#7201a8\"],[0.3333333333333333,\"#9c179e\"],[0.4444444444444444,\"#bd3786\"],[0.5555555555555556,\"#d8576b\"],[0.6666666666666666,\"#ed7953\"],[0.7777777777777778,\"#fb9f3a\"],[0.8888888888888888,\"#fdca26\"],[1.0,\"#f0f921\"]],\"sequentialminus\":[[0.0,\"#0d0887\"],[0.1111111111111111,\"#46039f\"],[0.2222222222222222,\"#7201a8\"],[0.3333333333333333,\"#9c179e\"],[0.4444444444444444,\"#bd3786\"],[0.5555555555555556,\"#d8576b\"],[0.6666666666666666,\"#ed7953\"],[0.7777777777777778,\"#fb9f3a\"],[0.8888888888888888,\"#fdca26\"],[1.0,\"#f0f921\"]]},\"colorway\":[\"#636efa\",\"#EF553B\",\"#00cc96\",\"#ab63fa\",\"#FFA15A\",\"#19d3f3\",\"#FF6692\",\"#B6E880\",\"#FF97FF\",\"#FECB52\"],\"font\":{\"color\":\"#f2f5fa\"},\"geo\":{\"bgcolor\":\"rgb(17,17,17)\",\"lakecolor\":\"rgb(17,17,17)\",\"landcolor\":\"rgb(17,17,17)\",\"showlakes\":true,\"showland\":true,\"subunitcolor\":\"#506784\"},\"hoverlabel\":{\"align\":\"left\"},\"hovermode\":\"closest\",\"mapbox\":{\"style\":\"dark\"},\"paper_bgcolor\":\"rgb(17,17,17)\",\"plot_bgcolor\":\"rgb(17,17,17)\",\"polar\":{\"angularaxis\":{\"gridcolor\":\"#506784\",\"linecolor\":\"#506784\",\"ticks\":\"\"},\"bgcolor\":\"rgb(17,17,17)\",\"radialaxis\":{\"gridcolor\":\"#506784\",\"linecolor\":\"#506784\",\"ticks\":\"\"}},\"scene\":{\"xaxis\":{\"backgroundcolor\":\"rgb(17,17,17)\",\"gridcolor\":\"#506784\",\"gridwidth\":2,\"linecolor\":\"#506784\",\"showbackground\":true,\"ticks\":\"\",\"zerolinecolor\":\"#C8D4E3\"},\"yaxis\":{\"backgroundcolor\":\"rgb(17,17,17)\",\"gridcolor\":\"#506784\",\"gridwidth\":2,\"linecolor\":\"#506784\",\"showbackground\":true,\"ticks\":\"\",\"zerolinecolor\":\"#C8D4E3\"},\"zaxis\":{\"backgroundcolor\":\"rgb(17,17,17)\",\"gridcolor\":\"#506784\",\"gridwidth\":2,\"linecolor\":\"#506784\",\"showbackground\":true,\"ticks\":\"\",\"zerolinecolor\":\"#C8D4E3\"}},\"shapedefaults\":{\"line\":{\"color\":\"#f2f5fa\"}},\"sliderdefaults\":{\"bgcolor\":\"#C8D4E3\",\"bordercolor\":\"rgb(17,17,17)\",\"borderwidth\":1,\"tickwidth\":0},\"ternary\":{\"aaxis\":{\"gridcolor\":\"#506784\",\"linecolor\":\"#506784\",\"ticks\":\"\"},\"baxis\":{\"gridcolor\":\"#506784\",\"linecolor\":\"#506784\",\"ticks\":\"\"},\"bgcolor\":\"rgb(17,17,17)\",\"caxis\":{\"gridcolor\":\"#506784\",\"linecolor\":\"#506784\",\"ticks\":\"\"}},\"title\":{\"x\":0.05},\"updatemenudefaults\":{\"bgcolor\":\"#506784\",\"borderwidth\":0},\"xaxis\":{\"automargin\":true,\"gridcolor\":\"#283442\",\"linecolor\":\"#506784\",\"ticks\":\"\",\"title\":{\"standoff\":15},\"zerolinecolor\":\"#283442\",\"zerolinewidth\":2},\"yaxis\":{\"automargin\":true,\"gridcolor\":\"#283442\",\"linecolor\":\"#506784\",\"ticks\":\"\",\"title\":{\"standoff\":15},\"zerolinecolor\":\"#283442\",\"zerolinewidth\":2}}},\"font\":{\"size\":10},\"title\":{\"text\":\"Correlation Matrix\"},\"width\":800,\"height\":800},                        {\"responsive\": true}                    ).then(function(){\n",
       "                            \n",
       "var gd = document.getElementById('b1e4a002-a869-4b76-b87e-3379ea00ef4c');\n",
       "var x = new MutationObserver(function (mutations, observer) {{\n",
       "        var display = window.getComputedStyle(gd).display;\n",
       "        if (!display || display === 'none') {{\n",
       "            console.log([gd, 'removed!']);\n",
       "            Plotly.purge(gd);\n",
       "            observer.disconnect();\n",
       "        }}\n",
       "}});\n",
       "\n",
       "// Listen for the removal of the full notebook cells\n",
       "var notebookContainer = gd.closest('#notebook-container');\n",
       "if (notebookContainer) {{\n",
       "    x.observe(notebookContainer, {childList: true});\n",
       "}}\n",
       "\n",
       "// Listen for the clearing of the current output cell\n",
       "var outputEl = gd.closest('.output');\n",
       "if (outputEl) {{\n",
       "    x.observe(outputEl, {childList: true});\n",
       "}}\n",
       "\n",
       "                        })                };                });            </script>        </div>"
      ]
     },
     "metadata": {},
     "output_type": "display_data"
    }
   ],
   "source": [
    "\n",
    "numeric_df = parkinsons.select_dtypes(include=[float, int])\n",
    "import plotly.figure_factory as ff\n",
    "import plotly.express as px\n",
    "corr = numeric_df.corr()\n",
    "fig = ff.create_annotated_heatmap(\n",
    "    z=corr.values,\n",
    "    x=corr.columns.tolist(),\n",
    "    y=corr.index.tolist(),\n",
    "    annotation_text=corr.round(2).values,\n",
    "    showscale=True,\n",
    "    colorscale=px.colors.sequential.Turbo\n",
    ")\n",
    "\n",
    "# Update layout for better readability\n",
    "fig.update_layout(\n",
    "    title='Correlation Matrix',\n",
    "    template='plotly_dark',\n",
    "    width=800,\n",
    "    height=800,\n",
    "    font=dict(size=10)  # Adjust font size\n",
    ")\n",
    "\n",
    "# Show the plot\n",
    "fig.show()\n"
   ]
  },
  {
   "cell_type": "code",
   "execution_count": 32,
   "id": "402923a9-a6dc-4a58-9d85-37bede281f70",
   "metadata": {},
   "outputs": [
    {
     "data": {
      "text/plain": [
       "status\n",
       "1    147\n",
       "0     48\n",
       "Name: count, dtype: int64"
      ]
     },
     "execution_count": 32,
     "metadata": {},
     "output_type": "execute_result"
    }
   ],
   "source": [
    "parkinsons['status'].value_counts()"
   ]
  },
  {
   "cell_type": "code",
   "execution_count": 34,
   "id": "4a3683b6-d0e9-45bf-95c2-267714f70270",
   "metadata": {},
   "outputs": [
    {
     "data": {
      "text/html": [
       "<div>\n",
       "<style scoped>\n",
       "    .dataframe tbody tr th:only-of-type {\n",
       "        vertical-align: middle;\n",
       "    }\n",
       "\n",
       "    .dataframe tbody tr th {\n",
       "        vertical-align: top;\n",
       "    }\n",
       "\n",
       "    .dataframe thead th {\n",
       "        text-align: right;\n",
       "    }\n",
       "</style>\n",
       "<table border=\"1\" class=\"dataframe\">\n",
       "  <thead>\n",
       "    <tr style=\"text-align: right;\">\n",
       "      <th></th>\n",
       "      <th>MDVP:Fo(Hz)</th>\n",
       "      <th>MDVP:Fhi(Hz)</th>\n",
       "      <th>MDVP:Flo(Hz)</th>\n",
       "      <th>MDVP:Jitter(%)</th>\n",
       "      <th>MDVP:Jitter(Abs)</th>\n",
       "      <th>MDVP:RAP</th>\n",
       "      <th>MDVP:PPQ</th>\n",
       "      <th>Jitter:DDP</th>\n",
       "      <th>MDVP:Shimmer</th>\n",
       "      <th>MDVP:Shimmer(dB)</th>\n",
       "      <th>...</th>\n",
       "      <th>MDVP:APQ</th>\n",
       "      <th>Shimmer:DDA</th>\n",
       "      <th>NHR</th>\n",
       "      <th>HNR</th>\n",
       "      <th>RPDE</th>\n",
       "      <th>DFA</th>\n",
       "      <th>spread1</th>\n",
       "      <th>spread2</th>\n",
       "      <th>D2</th>\n",
       "      <th>PPE</th>\n",
       "    </tr>\n",
       "    <tr>\n",
       "      <th>status</th>\n",
       "      <th></th>\n",
       "      <th></th>\n",
       "      <th></th>\n",
       "      <th></th>\n",
       "      <th></th>\n",
       "      <th></th>\n",
       "      <th></th>\n",
       "      <th></th>\n",
       "      <th></th>\n",
       "      <th></th>\n",
       "      <th></th>\n",
       "      <th></th>\n",
       "      <th></th>\n",
       "      <th></th>\n",
       "      <th></th>\n",
       "      <th></th>\n",
       "      <th></th>\n",
       "      <th></th>\n",
       "      <th></th>\n",
       "      <th></th>\n",
       "      <th></th>\n",
       "    </tr>\n",
       "  </thead>\n",
       "  <tbody>\n",
       "    <tr>\n",
       "      <th>0</th>\n",
       "      <td>181.937771</td>\n",
       "      <td>223.636750</td>\n",
       "      <td>145.207292</td>\n",
       "      <td>0.003866</td>\n",
       "      <td>0.000023</td>\n",
       "      <td>0.001925</td>\n",
       "      <td>0.002056</td>\n",
       "      <td>0.005776</td>\n",
       "      <td>0.017615</td>\n",
       "      <td>0.162958</td>\n",
       "      <td>...</td>\n",
       "      <td>0.013305</td>\n",
       "      <td>0.028511</td>\n",
       "      <td>0.011483</td>\n",
       "      <td>24.678750</td>\n",
       "      <td>0.442552</td>\n",
       "      <td>0.695716</td>\n",
       "      <td>-6.759264</td>\n",
       "      <td>0.160292</td>\n",
       "      <td>2.154491</td>\n",
       "      <td>0.123017</td>\n",
       "    </tr>\n",
       "    <tr>\n",
       "      <th>1</th>\n",
       "      <td>145.180762</td>\n",
       "      <td>188.441463</td>\n",
       "      <td>106.893558</td>\n",
       "      <td>0.006989</td>\n",
       "      <td>0.000051</td>\n",
       "      <td>0.003757</td>\n",
       "      <td>0.003900</td>\n",
       "      <td>0.011273</td>\n",
       "      <td>0.033658</td>\n",
       "      <td>0.321204</td>\n",
       "      <td>...</td>\n",
       "      <td>0.027600</td>\n",
       "      <td>0.053027</td>\n",
       "      <td>0.029211</td>\n",
       "      <td>20.974048</td>\n",
       "      <td>0.516816</td>\n",
       "      <td>0.725408</td>\n",
       "      <td>-5.333420</td>\n",
       "      <td>0.248133</td>\n",
       "      <td>2.456058</td>\n",
       "      <td>0.233828</td>\n",
       "    </tr>\n",
       "  </tbody>\n",
       "</table>\n",
       "<p>2 rows × 22 columns</p>\n",
       "</div>"
      ],
      "text/plain": [
       "        MDVP:Fo(Hz)  MDVP:Fhi(Hz)  MDVP:Flo(Hz)  MDVP:Jitter(%)  \\\n",
       "status                                                            \n",
       "0        181.937771    223.636750    145.207292        0.003866   \n",
       "1        145.180762    188.441463    106.893558        0.006989   \n",
       "\n",
       "        MDVP:Jitter(Abs)  MDVP:RAP  MDVP:PPQ  Jitter:DDP  MDVP:Shimmer  \\\n",
       "status                                                                   \n",
       "0               0.000023  0.001925  0.002056    0.005776      0.017615   \n",
       "1               0.000051  0.003757  0.003900    0.011273      0.033658   \n",
       "\n",
       "        MDVP:Shimmer(dB)  ...  MDVP:APQ  Shimmer:DDA       NHR        HNR  \\\n",
       "status                    ...                                               \n",
       "0               0.162958  ...  0.013305     0.028511  0.011483  24.678750   \n",
       "1               0.321204  ...  0.027600     0.053027  0.029211  20.974048   \n",
       "\n",
       "            RPDE       DFA   spread1   spread2        D2       PPE  \n",
       "status                                                              \n",
       "0       0.442552  0.695716 -6.759264  0.160292  2.154491  0.123017  \n",
       "1       0.516816  0.725408 -5.333420  0.248133  2.456058  0.233828  \n",
       "\n",
       "[2 rows x 22 columns]"
      ]
     },
     "execution_count": 34,
     "metadata": {},
     "output_type": "execute_result"
    }
   ],
   "source": [
    "numeric_df.groupby('status').mean()"
   ]
  },
  {
   "cell_type": "markdown",
   "id": "34fba710-7668-43d1-9fc2-f13a2b873089",
   "metadata": {},
   "source": [
    "## Data Preprocessing\n",
    "- separating Target Variable with other Variables."
   ]
  },
  {
   "cell_type": "code",
   "execution_count": 36,
   "id": "20219146-45e1-4bc1-9666-d1850037abbb",
   "metadata": {},
   "outputs": [
    {
     "name": "stdout",
     "output_type": "stream",
     "text": [
      "     MDVP:Fo(Hz)  MDVP:Fhi(Hz)  MDVP:Flo(Hz)  MDVP:Jitter(%)  \\\n",
      "0        119.992       157.302        74.997         0.00784   \n",
      "1        122.400       148.650       113.819         0.00968   \n",
      "2        116.682       131.111       111.555         0.01050   \n",
      "3        116.676       137.871       111.366         0.00997   \n",
      "4        116.014       141.781       110.655         0.01284   \n",
      "..           ...           ...           ...             ...   \n",
      "190      174.188       230.978        94.261         0.00459   \n",
      "191      209.516       253.017        89.488         0.00564   \n",
      "192      174.688       240.005        74.287         0.01360   \n",
      "193      198.764       396.961        74.904         0.00740   \n",
      "194      214.289       260.277        77.973         0.00567   \n",
      "\n",
      "     MDVP:Jitter(Abs)  MDVP:RAP  MDVP:PPQ  Jitter:DDP  MDVP:Shimmer  \\\n",
      "0             0.00007   0.00370   0.00554     0.01109       0.04374   \n",
      "1             0.00008   0.00465   0.00696     0.01394       0.06134   \n",
      "2             0.00009   0.00544   0.00781     0.01633       0.05233   \n",
      "3             0.00009   0.00502   0.00698     0.01505       0.05492   \n",
      "4             0.00011   0.00655   0.00908     0.01966       0.06425   \n",
      "..                ...       ...       ...         ...           ...   \n",
      "190           0.00003   0.00263   0.00259     0.00790       0.04087   \n",
      "191           0.00003   0.00331   0.00292     0.00994       0.02751   \n",
      "192           0.00008   0.00624   0.00564     0.01873       0.02308   \n",
      "193           0.00004   0.00370   0.00390     0.01109       0.02296   \n",
      "194           0.00003   0.00295   0.00317     0.00885       0.01884   \n",
      "\n",
      "     MDVP:Shimmer(dB)  ...  MDVP:APQ  Shimmer:DDA      NHR     HNR      RPDE  \\\n",
      "0               0.426  ...   0.02971      0.06545  0.02211  21.033  0.414783   \n",
      "1               0.626  ...   0.04368      0.09403  0.01929  19.085  0.458359   \n",
      "2               0.482  ...   0.03590      0.08270  0.01309  20.651  0.429895   \n",
      "3               0.517  ...   0.03772      0.08771  0.01353  20.644  0.434969   \n",
      "4               0.584  ...   0.04465      0.10470  0.01767  19.649  0.417356   \n",
      "..                ...  ...       ...          ...      ...     ...       ...   \n",
      "190             0.405  ...   0.02745      0.07008  0.02764  19.517  0.448439   \n",
      "191             0.263  ...   0.01879      0.04812  0.01810  19.147  0.431674   \n",
      "192             0.256  ...   0.01667      0.03804  0.10715  17.883  0.407567   \n",
      "193             0.241  ...   0.01588      0.03794  0.07223  19.020  0.451221   \n",
      "194             0.190  ...   0.01373      0.03078  0.04398  21.209  0.462803   \n",
      "\n",
      "          DFA   spread1   spread2        D2       PPE  \n",
      "0    0.815285 -4.813031  0.266482  2.301442  0.284654  \n",
      "1    0.819521 -4.075192  0.335590  2.486855  0.368674  \n",
      "2    0.825288 -4.443179  0.311173  2.342259  0.332634  \n",
      "3    0.819235 -4.117501  0.334147  2.405554  0.368975  \n",
      "4    0.823484 -3.747787  0.234513  2.332180  0.410335  \n",
      "..        ...       ...       ...       ...       ...  \n",
      "190  0.657899 -6.538586  0.121952  2.657476  0.133050  \n",
      "191  0.683244 -6.195325  0.129303  2.784312  0.168895  \n",
      "192  0.655683 -6.787197  0.158453  2.679772  0.131728  \n",
      "193  0.643956 -6.744577  0.207454  2.138608  0.123306  \n",
      "194  0.664357 -5.724056  0.190667  2.555477  0.148569  \n",
      "\n",
      "[195 rows x 22 columns]\n"
     ]
    }
   ],
   "source": [
    "\n",
    "X = numeric_df.drop(columns=['status'], axis=1)  # 'name' is already excluded\n",
    "Y = parkinsons['status']  \n",
    "\n",
    "print(X)\n"
   ]
  },
  {
   "cell_type": "code",
   "execution_count": 38,
   "id": "eebacc31-880a-43f9-b77e-9a3445c18769",
   "metadata": {},
   "outputs": [
    {
     "name": "stdout",
     "output_type": "stream",
     "text": [
      "0      1\n",
      "1      1\n",
      "2      1\n",
      "3      1\n",
      "4      1\n",
      "      ..\n",
      "190    0\n",
      "191    0\n",
      "192    0\n",
      "193    0\n",
      "194    0\n",
      "Name: status, Length: 195, dtype: int64\n"
     ]
    }
   ],
   "source": [
    "print(Y)"
   ]
  },
  {
   "cell_type": "markdown",
   "id": "6058c01f-6817-4c20-af9f-87ce3919f44b",
   "metadata": {},
   "source": [
    "## Train,Test And Split"
   ]
  },
  {
   "cell_type": "code",
   "execution_count": 40,
   "id": "c108a894-5868-41e2-afb3-52c413d1475b",
   "metadata": {},
   "outputs": [],
   "source": [
    "X_train, X_test, Y_train, Y_test = train_test_split(X, Y, test_size=0.2, random_state=2)"
   ]
  },
  {
   "cell_type": "code",
   "execution_count": 42,
   "id": "62a61162-ab80-47e7-9863-ff150ae5edb0",
   "metadata": {},
   "outputs": [
    {
     "name": "stdout",
     "output_type": "stream",
     "text": [
      "(195, 22) (156, 22) (39, 22)\n"
     ]
    }
   ],
   "source": [
    "print(X.shape, X_train.shape, X_test.shape)"
   ]
  },
  {
   "cell_type": "markdown",
   "id": "a8bccee6-cebd-4232-8626-d22d0e0476c6",
   "metadata": {},
   "source": [
    "## Data Standardization"
   ]
  },
  {
   "cell_type": "code",
   "execution_count": 45,
   "id": "ac47cf80-fce8-4321-9fc9-ce5d9fe81be2",
   "metadata": {},
   "outputs": [],
   "source": [
    "scaler = StandardScaler()"
   ]
  },
  {
   "cell_type": "code",
   "execution_count": 49,
   "id": "e6537e44-74cf-4ffa-9840-f97df6de78db",
   "metadata": {},
   "outputs": [
    {
     "data": {
      "text/html": [
       "<style>#sk-container-id-1 {color: black;background-color: white;}#sk-container-id-1 pre{padding: 0;}#sk-container-id-1 div.sk-toggleable {background-color: white;}#sk-container-id-1 label.sk-toggleable__label {cursor: pointer;display: block;width: 100%;margin-bottom: 0;padding: 0.3em;box-sizing: border-box;text-align: center;}#sk-container-id-1 label.sk-toggleable__label-arrow:before {content: \"▸\";float: left;margin-right: 0.25em;color: #696969;}#sk-container-id-1 label.sk-toggleable__label-arrow:hover:before {color: black;}#sk-container-id-1 div.sk-estimator:hover label.sk-toggleable__label-arrow:before {color: black;}#sk-container-id-1 div.sk-toggleable__content {max-height: 0;max-width: 0;overflow: hidden;text-align: left;background-color: #f0f8ff;}#sk-container-id-1 div.sk-toggleable__content pre {margin: 0.2em;color: black;border-radius: 0.25em;background-color: #f0f8ff;}#sk-container-id-1 input.sk-toggleable__control:checked~div.sk-toggleable__content {max-height: 200px;max-width: 100%;overflow: auto;}#sk-container-id-1 input.sk-toggleable__control:checked~label.sk-toggleable__label-arrow:before {content: \"▾\";}#sk-container-id-1 div.sk-estimator input.sk-toggleable__control:checked~label.sk-toggleable__label {background-color: #d4ebff;}#sk-container-id-1 div.sk-label input.sk-toggleable__control:checked~label.sk-toggleable__label {background-color: #d4ebff;}#sk-container-id-1 input.sk-hidden--visually {border: 0;clip: rect(1px 1px 1px 1px);clip: rect(1px, 1px, 1px, 1px);height: 1px;margin: -1px;overflow: hidden;padding: 0;position: absolute;width: 1px;}#sk-container-id-1 div.sk-estimator {font-family: monospace;background-color: #f0f8ff;border: 1px dotted black;border-radius: 0.25em;box-sizing: border-box;margin-bottom: 0.5em;}#sk-container-id-1 div.sk-estimator:hover {background-color: #d4ebff;}#sk-container-id-1 div.sk-parallel-item::after {content: \"\";width: 100%;border-bottom: 1px solid gray;flex-grow: 1;}#sk-container-id-1 div.sk-label:hover label.sk-toggleable__label {background-color: #d4ebff;}#sk-container-id-1 div.sk-serial::before {content: \"\";position: absolute;border-left: 1px solid gray;box-sizing: border-box;top: 0;bottom: 0;left: 50%;z-index: 0;}#sk-container-id-1 div.sk-serial {display: flex;flex-direction: column;align-items: center;background-color: white;padding-right: 0.2em;padding-left: 0.2em;position: relative;}#sk-container-id-1 div.sk-item {position: relative;z-index: 1;}#sk-container-id-1 div.sk-parallel {display: flex;align-items: stretch;justify-content: center;background-color: white;position: relative;}#sk-container-id-1 div.sk-item::before, #sk-container-id-1 div.sk-parallel-item::before {content: \"\";position: absolute;border-left: 1px solid gray;box-sizing: border-box;top: 0;bottom: 0;left: 50%;z-index: -1;}#sk-container-id-1 div.sk-parallel-item {display: flex;flex-direction: column;z-index: 1;position: relative;background-color: white;}#sk-container-id-1 div.sk-parallel-item:first-child::after {align-self: flex-end;width: 50%;}#sk-container-id-1 div.sk-parallel-item:last-child::after {align-self: flex-start;width: 50%;}#sk-container-id-1 div.sk-parallel-item:only-child::after {width: 0;}#sk-container-id-1 div.sk-dashed-wrapped {border: 1px dashed gray;margin: 0 0.4em 0.5em 0.4em;box-sizing: border-box;padding-bottom: 0.4em;background-color: white;}#sk-container-id-1 div.sk-label label {font-family: monospace;font-weight: bold;display: inline-block;line-height: 1.2em;}#sk-container-id-1 div.sk-label-container {text-align: center;}#sk-container-id-1 div.sk-container {/* jupyter's `normalize.less` sets `[hidden] { display: none; }` but bootstrap.min.css set `[hidden] { display: none !important; }` so we also need the `!important` here to be able to override the default hidden behavior on the sphinx rendered scikit-learn.org. See: https://github.com/scikit-learn/scikit-learn/issues/21755 */display: inline-block !important;position: relative;}#sk-container-id-1 div.sk-text-repr-fallback {display: none;}</style><div id=\"sk-container-id-1\" class=\"sk-top-container\"><div class=\"sk-text-repr-fallback\"><pre>StandardScaler()</pre><b>In a Jupyter environment, please rerun this cell to show the HTML representation or trust the notebook. <br />On GitHub, the HTML representation is unable to render, please try loading this page with nbviewer.org.</b></div><div class=\"sk-container\" hidden><div class=\"sk-item\"><div class=\"sk-estimator sk-toggleable\"><input class=\"sk-toggleable__control sk-hidden--visually\" id=\"sk-estimator-id-1\" type=\"checkbox\" checked><label for=\"sk-estimator-id-1\" class=\"sk-toggleable__label sk-toggleable__label-arrow\">StandardScaler</label><div class=\"sk-toggleable__content\"><pre>StandardScaler()</pre></div></div></div></div></div>"
      ],
      "text/plain": [
       "StandardScaler()"
      ]
     },
     "execution_count": 49,
     "metadata": {},
     "output_type": "execute_result"
    }
   ],
   "source": [
    "scaler.fit(X_train)"
   ]
  },
  {
   "cell_type": "code",
   "execution_count": 51,
   "id": "b5f8613a-fa60-46c9-b75f-0130ac79a9de",
   "metadata": {},
   "outputs": [],
   "source": [
    "X_train = scaler.transform(X_train)\n",
    "X_test = scaler.transform(X_test)"
   ]
  },
  {
   "cell_type": "code",
   "execution_count": 55,
   "id": "c6835e10-9a67-4aa5-ae77-dc0a02e063e4",
   "metadata": {},
   "outputs": [
    {
     "name": "stdout",
     "output_type": "stream",
     "text": [
      "[[ 0.63239631 -0.02731081 -0.87985049 ... -0.97586547 -0.55160318\n",
      "   0.07769494]\n",
      " [-1.05512719 -0.83337041 -0.9284778  ...  0.3981808  -0.61014073\n",
      "   0.39291782]\n",
      " [ 0.02996187 -0.29531068 -1.12211107 ... -0.43937044 -0.62849605\n",
      "  -0.50948408]\n",
      " ...\n",
      " [-0.9096785  -0.6637302  -0.160638   ...  1.22001022 -0.47404629\n",
      "  -0.2159482 ]\n",
      " [-0.35977689  0.19731822 -0.79063679 ... -0.17896029 -0.47272835\n",
      "   0.28181221]\n",
      " [ 1.01957066  0.19922317 -0.61914972 ... -0.716232    1.23632066\n",
      "  -0.05829386]]\n"
     ]
    }
   ],
   "source": [
    "print(X_train)"
   ]
  },
  {
   "cell_type": "code",
   "execution_count": 68,
   "id": "f7cecdef-e9dc-4daa-9643-445ef3257e64",
   "metadata": {},
   "outputs": [
    {
     "data": {
      "text/html": [
       "<style>#sk-container-id-3 {color: black;background-color: white;}#sk-container-id-3 pre{padding: 0;}#sk-container-id-3 div.sk-toggleable {background-color: white;}#sk-container-id-3 label.sk-toggleable__label {cursor: pointer;display: block;width: 100%;margin-bottom: 0;padding: 0.3em;box-sizing: border-box;text-align: center;}#sk-container-id-3 label.sk-toggleable__label-arrow:before {content: \"▸\";float: left;margin-right: 0.25em;color: #696969;}#sk-container-id-3 label.sk-toggleable__label-arrow:hover:before {color: black;}#sk-container-id-3 div.sk-estimator:hover label.sk-toggleable__label-arrow:before {color: black;}#sk-container-id-3 div.sk-toggleable__content {max-height: 0;max-width: 0;overflow: hidden;text-align: left;background-color: #f0f8ff;}#sk-container-id-3 div.sk-toggleable__content pre {margin: 0.2em;color: black;border-radius: 0.25em;background-color: #f0f8ff;}#sk-container-id-3 input.sk-toggleable__control:checked~div.sk-toggleable__content {max-height: 200px;max-width: 100%;overflow: auto;}#sk-container-id-3 input.sk-toggleable__control:checked~label.sk-toggleable__label-arrow:before {content: \"▾\";}#sk-container-id-3 div.sk-estimator input.sk-toggleable__control:checked~label.sk-toggleable__label {background-color: #d4ebff;}#sk-container-id-3 div.sk-label input.sk-toggleable__control:checked~label.sk-toggleable__label {background-color: #d4ebff;}#sk-container-id-3 input.sk-hidden--visually {border: 0;clip: rect(1px 1px 1px 1px);clip: rect(1px, 1px, 1px, 1px);height: 1px;margin: -1px;overflow: hidden;padding: 0;position: absolute;width: 1px;}#sk-container-id-3 div.sk-estimator {font-family: monospace;background-color: #f0f8ff;border: 1px dotted black;border-radius: 0.25em;box-sizing: border-box;margin-bottom: 0.5em;}#sk-container-id-3 div.sk-estimator:hover {background-color: #d4ebff;}#sk-container-id-3 div.sk-parallel-item::after {content: \"\";width: 100%;border-bottom: 1px solid gray;flex-grow: 1;}#sk-container-id-3 div.sk-label:hover label.sk-toggleable__label {background-color: #d4ebff;}#sk-container-id-3 div.sk-serial::before {content: \"\";position: absolute;border-left: 1px solid gray;box-sizing: border-box;top: 0;bottom: 0;left: 50%;z-index: 0;}#sk-container-id-3 div.sk-serial {display: flex;flex-direction: column;align-items: center;background-color: white;padding-right: 0.2em;padding-left: 0.2em;position: relative;}#sk-container-id-3 div.sk-item {position: relative;z-index: 1;}#sk-container-id-3 div.sk-parallel {display: flex;align-items: stretch;justify-content: center;background-color: white;position: relative;}#sk-container-id-3 div.sk-item::before, #sk-container-id-3 div.sk-parallel-item::before {content: \"\";position: absolute;border-left: 1px solid gray;box-sizing: border-box;top: 0;bottom: 0;left: 50%;z-index: -1;}#sk-container-id-3 div.sk-parallel-item {display: flex;flex-direction: column;z-index: 1;position: relative;background-color: white;}#sk-container-id-3 div.sk-parallel-item:first-child::after {align-self: flex-end;width: 50%;}#sk-container-id-3 div.sk-parallel-item:last-child::after {align-self: flex-start;width: 50%;}#sk-container-id-3 div.sk-parallel-item:only-child::after {width: 0;}#sk-container-id-3 div.sk-dashed-wrapped {border: 1px dashed gray;margin: 0 0.4em 0.5em 0.4em;box-sizing: border-box;padding-bottom: 0.4em;background-color: white;}#sk-container-id-3 div.sk-label label {font-family: monospace;font-weight: bold;display: inline-block;line-height: 1.2em;}#sk-container-id-3 div.sk-label-container {text-align: center;}#sk-container-id-3 div.sk-container {/* jupyter's `normalize.less` sets `[hidden] { display: none; }` but bootstrap.min.css set `[hidden] { display: none !important; }` so we also need the `!important` here to be able to override the default hidden behavior on the sphinx rendered scikit-learn.org. See: https://github.com/scikit-learn/scikit-learn/issues/21755 */display: inline-block !important;position: relative;}#sk-container-id-3 div.sk-text-repr-fallback {display: none;}</style><div id=\"sk-container-id-3\" class=\"sk-top-container\"><div class=\"sk-text-repr-fallback\"><pre>SVC(kernel=&#x27;linear&#x27;)</pre><b>In a Jupyter environment, please rerun this cell to show the HTML representation or trust the notebook. <br />On GitHub, the HTML representation is unable to render, please try loading this page with nbviewer.org.</b></div><div class=\"sk-container\" hidden><div class=\"sk-item\"><div class=\"sk-estimator sk-toggleable\"><input class=\"sk-toggleable__control sk-hidden--visually\" id=\"sk-estimator-id-3\" type=\"checkbox\" checked><label for=\"sk-estimator-id-3\" class=\"sk-toggleable__label sk-toggleable__label-arrow\">SVC</label><div class=\"sk-toggleable__content\"><pre>SVC(kernel=&#x27;linear&#x27;)</pre></div></div></div></div></div>"
      ],
      "text/plain": [
       "SVC(kernel='linear')"
      ]
     },
     "execution_count": 68,
     "metadata": {},
     "output_type": "execute_result"
    }
   ],
   "source": [
    "model = svm.SVC(kernel='linear')\n",
    "# training the SVM model with training data\n",
    "model.fit(X_train, Y_train)"
   ]
  },
  {
   "cell_type": "markdown",
   "id": "2b1d10e3-ee87-4e06-b854-bacf01e65a2f",
   "metadata": {},
   "source": [
    "## Model Evaluation"
   ]
  },
  {
   "cell_type": "code",
   "execution_count": 91,
   "id": "46ac1e9d-69ed-4dfc-9ef7-25123b74c91d",
   "metadata": {},
   "outputs": [
    {
     "name": "stdout",
     "output_type": "stream",
     "text": [
      "Accuracy (Training Data) : 0.8846153846153846\n"
     ]
    }
   ],
   "source": [
    "X_train_pred = model.predict(X_train)\n",
    "training_data_accuracy = accuracy_score(Y_train, X_train_pred)\n",
    "print('Accuracy (Training Data) :', training_data_accuracy)"
   ]
  },
  {
   "cell_type": "code",
   "execution_count": 93,
   "id": "deace96d-b1b1-4a5c-9a32-1e84284c8b01",
   "metadata": {},
   "outputs": [
    {
     "name": "stdout",
     "output_type": "stream",
     "text": [
      "Accuracy (Testing Data) : 0.8717948717948718\n"
     ]
    }
   ],
   "source": [
    "X_test_pred = model.predict(X_test)\n",
    "testing_data_accuracy = accuracy_score(Y_test, X_test_pred)\n",
    "print('Accuracy (Testing Data) :', testing_data_accuracy)"
   ]
  },
  {
   "cell_type": "markdown",
   "id": "3e35f225-84db-4dd8-8659-d92bea6ab8e6",
   "metadata": {},
   "source": [
    "## Predictive system\n",
    "- CASE 1 (The patient who have parkinson)"
   ]
  },
  {
   "cell_type": "code",
   "execution_count": 95,
   "id": "c066f4f8-1daf-4d54-84be-4291e18ec726",
   "metadata": {},
   "outputs": [
    {
     "name": "stdout",
     "output_type": "stream",
     "text": [
      "[1]\n",
      "The patient has Parkinson\n"
     ]
    }
   ],
   "source": [
    "input_data = (95.730,132.068,91.754,0.00551,0.00006,0.00293,0.00332,0.00880,0.02093,0.191,0.01073,0.01277,0.01717,0.03218,0.01070,21.812,0.615551,0.773587,-5.498678,0.327769,2.322511,0.231571)\n",
    "\n",
    "# changing input data to numpy array\n",
    "input_data_numpy = np.asarray(input_data)\n",
    "\n",
    "#reshaping the numpy array \n",
    "input_data_reshape = input_data_numpy.reshape(1,-1)\n",
    "\n",
    "#standardizing the input data \n",
    "std_data = scaler.transform(input_data_reshape)\n",
    "\n",
    "## prediction\n",
    "prediction = model.predict(std_data)\n",
    "print(prediction)\n",
    "\n",
    "if (prediction[0] == 1):\n",
    "  print('The patient has Parkinson')\n",
    "elif (prediction[0] == 0):\n",
    "  print('The patient does not have Parkinson')\n",
    "else:\n",
    "  print('Some error in processing')"
   ]
  },
  {
   "cell_type": "markdown",
   "id": "4ea29783-1a80-4bcf-8c56-f0f6c10906a6",
   "metadata": {},
   "source": [
    "## Case 2 - (who has not)"
   ]
  },
  {
   "cell_type": "code",
   "execution_count": 101,
   "id": "0d4c244d-4acf-4558-8b42-e988ef721829",
   "metadata": {},
   "outputs": [
    {
     "name": "stdout",
     "output_type": "stream",
     "text": [
      "[0]\n",
      "The patient does not have Parkinson\n"
     ]
    }
   ],
   "source": [
    "input_data = (197.07600,206.89600,192.05500,0.00289,0.00001,0.00166,0.00168,0.00498,0.01098,0.09700,0.00563,0.00680,0.00802,0.01689,0.00339,26.77500,0.422229,0.741367,-7.348300,0.177551,1.743867,0.085569)\n",
    "# changing input data to numpy array\n",
    "input_data_numpy = np.asarray(input_data)\n",
    "\n",
    "#reshaping the numpy array \n",
    "input_data_reshape = input_data_numpy.reshape(1,-1)\n",
    "\n",
    "#standardizing the input data \n",
    "std_data = scaler.transform(input_data_reshape)\n",
    "\n",
    "## prediction\n",
    "prediction = model.predict(std_data)\n",
    "print(prediction)\n",
    "\n",
    "if (prediction[0] == 1):\n",
    "  print('The patient has Parkinson')\n",
    "elif (prediction[0] == 0):\n",
    "  print('The patient does not have Parkinson')\n",
    "else:\n",
    "  print('Some error in processing')"
   ]
  },
  {
   "cell_type": "code",
   "execution_count": 107,
   "id": "b4f4824e-869c-419b-9242-70569f759951",
   "metadata": {},
   "outputs": [
    {
     "name": "stdout",
     "output_type": "stream",
     "text": [
      "Model saved as trained_model.pkl\n"
     ]
    }
   ],
   "source": [
    "import joblib\n",
    "\n",
    "joblib_file = \"trained_model.pkl\"\n",
    "joblib.dump(model, joblib_file)\n",
    "\n",
    "print(f\"Model saved as {joblib_file}\")\n"
   ]
  },
  {
   "cell_type": "code",
   "execution_count": 111,
   "id": "713fdaf5-ef28-47b4-ace2-71e18602558e",
   "metadata": {},
   "outputs": [
    {
     "name": "stdout",
     "output_type": "stream",
     "text": [
      "[1]\n",
      "The patient has Parkinson\n"
     ]
    }
   ],
   "source": [
    "import joblib\n",
    "import numpy as np\n",
    "\n",
    "# Input data\n",
    "input_data = (95.730, 132.068, 91.754, 0.00551, 0.00006, 0.00293, 0.00332, 0.00880, 0.02093, 0.191, 0.01073, 0.01277, 0.01717, 0.03218, 0.01070, 21.812, 0.615551, 0.773587, -5.498678, 0.327769, 2.322511, 0.231571)\n",
    "input_data_numpy = np.asarray(input_data)\n",
    "\n",
    "# Reshape the numpy array\n",
    "input_data_reshape = input_data_numpy.reshape(1, -1)\n",
    "\n",
    "# Standardize the input data\n",
    "std_data = scaler.transform(input_data_reshape)\n",
    "\n",
    "# Load the model\n",
    "model = joblib.load('trained_model.pkl')\n",
    "\n",
    "# Prediction\n",
    "prediction = model.predict(std_data)\n",
    "print(prediction)\n",
    "\n",
    "if prediction[0] == 1:\n",
    "    print('The patient has Parkinson')\n",
    "elif prediction[0] == 0:\n",
    "    print('The patient does not have Parkinson')\n",
    "else:\n",
    "    print('Some error in processing')\n"
   ]
  },
  {
   "cell_type": "code",
   "execution_count": null,
   "id": "32bf48dc-c1cb-4cd6-a427-c3e52f233ce6",
   "metadata": {},
   "outputs": [],
   "source": []
  }
 ],
 "metadata": {
  "kernelspec": {
   "display_name": "Python 3 (ipykernel)",
   "language": "python",
   "name": "python3"
  },
  "language_info": {
   "codemirror_mode": {
    "name": "ipython",
    "version": 3
   },
   "file_extension": ".py",
   "mimetype": "text/x-python",
   "name": "python",
   "nbconvert_exporter": "python",
   "pygments_lexer": "ipython3",
   "version": "3.11.7"
  }
 },
 "nbformat": 4,
 "nbformat_minor": 5
}
